{
 "cells": [
  {
   "cell_type": "markdown",
   "id": "3072af5b-6806-4801-8e75-07056e586de7",
   "metadata": {},
   "source": [
    "# review 2"
   ]
  },
  {
   "cell_type": "markdown",
   "id": "9726d107-8e4d-4779-b8b7-8a94a97b6559",
   "metadata": {},
   "source": [
    "- 사이킷런으로 시작하는 머신러닝"
   ]
  },
  {
   "cell_type": "code",
   "execution_count": 2,
   "id": "ee353de3-9828-4d09-8d21-79d1d596afab",
   "metadata": {},
   "outputs": [],
   "source": [
    "import sklearn"
   ]
  },
  {
   "cell_type": "markdown",
   "id": "c7f1287c-866c-40a8-9ea5-966cc9b4d893",
   "metadata": {},
   "source": [
    "- 첫 번째 머신러닝 만들어보기 - 붓꽃 품종 예측하기\n",
    "  - 붓꽃 데이터 세트로 붓꽃의 품종을 분류해보자\n",
    "  - 분류는 대표적인 지도학습 방법의 하나이다. \n",
    "  - 학습을 위한 다양한 피처와 분류 결정값인 레이블 데이터로 모델을 학습한 뒤, 별도의 테스트 데이터 세트에서 미지의 레이블을 예측한다. \n",
    "  - 즉, 지도학습은 명확한 정답이 주어진 데이터를 먼저 학습한 뒤 미지의 정답을 예측하는 방식이다. "
   ]
  },
  {
   "cell_type": "markdown",
   "id": "06fdb7a6-62da-48ed-b7dd-c3035c7bcaf7",
   "metadata": {},
   "source": [
    "- iris의 key\n",
    "  - data : 샘플 데이터, ndarray로 이루어져 있다(각 feature의 값 배열)\n",
    "  - target : Label 데이터, ndarray로 이루어져 있다\n",
    "  - feature_names : Feature 데이터의 이름(특징 이름 정도라고 생각하면 될 것 같가.)\n",
    "  - target_names : Label 데이터\n",
    "    - target이 숫자로 치환돼 있어서 그것에 해당하는 실제 이름이다.\n",
    "  - DESCR : 데이터 셋의 설명\n",
    "  - filename : 데이터 셋의 파일 저장 위치"
   ]
  },
  {
   "cell_type": "code",
   "execution_count": 2,
   "id": "a24d6e7d-4b91-496a-877a-744dbbfdfebc",
   "metadata": {},
   "outputs": [
    {
     "name": "stdout",
     "output_type": "stream",
     "text": [
      "iris target값: [0 0 0 0 0 0 0 0 0 0 0 0 0 0 0 0 0 0 0 0 0 0 0 0 0 0 0 0 0 0 0 0 0 0 0 0 0\n",
      " 0 0 0 0 0 0 0 0 0 0 0 0 0 1 1 1 1 1 1 1 1 1 1 1 1 1 1 1 1 1 1 1 1 1 1 1 1\n",
      " 1 1 1 1 1 1 1 1 1 1 1 1 1 1 1 1 1 1 1 1 1 1 1 1 1 1 2 2 2 2 2 2 2 2 2 2 2\n",
      " 2 2 2 2 2 2 2 2 2 2 2 2 2 2 2 2 2 2 2 2 2 2 2 2 2 2 2 2 2 2 2 2 2 2 2 2 2\n",
      " 2 2]\n",
      "iris target명: ['setosa' 'versicolor' 'virginica']\n"
     ]
    },
    {
     "data": {
      "text/html": [
       "<div>\n",
       "<style scoped>\n",
       "    .dataframe tbody tr th:only-of-type {\n",
       "        vertical-align: middle;\n",
       "    }\n",
       "\n",
       "    .dataframe tbody tr th {\n",
       "        vertical-align: top;\n",
       "    }\n",
       "\n",
       "    .dataframe thead th {\n",
       "        text-align: right;\n",
       "    }\n",
       "</style>\n",
       "<table border=\"1\" class=\"dataframe\">\n",
       "  <thead>\n",
       "    <tr style=\"text-align: right;\">\n",
       "      <th></th>\n",
       "      <th>sepal length (cm)</th>\n",
       "      <th>sepal width (cm)</th>\n",
       "      <th>petal length (cm)</th>\n",
       "      <th>petal width (cm)</th>\n",
       "      <th>label</th>\n",
       "    </tr>\n",
       "  </thead>\n",
       "  <tbody>\n",
       "    <tr>\n",
       "      <th>0</th>\n",
       "      <td>5.1</td>\n",
       "      <td>3.5</td>\n",
       "      <td>1.4</td>\n",
       "      <td>0.2</td>\n",
       "      <td>0</td>\n",
       "    </tr>\n",
       "    <tr>\n",
       "      <th>1</th>\n",
       "      <td>4.9</td>\n",
       "      <td>3.0</td>\n",
       "      <td>1.4</td>\n",
       "      <td>0.2</td>\n",
       "      <td>0</td>\n",
       "    </tr>\n",
       "    <tr>\n",
       "      <th>2</th>\n",
       "      <td>4.7</td>\n",
       "      <td>3.2</td>\n",
       "      <td>1.3</td>\n",
       "      <td>0.2</td>\n",
       "      <td>0</td>\n",
       "    </tr>\n",
       "  </tbody>\n",
       "</table>\n",
       "</div>"
      ],
      "text/plain": [
       "   sepal length (cm)  sepal width (cm)  petal length (cm)  petal width (cm)  \\\n",
       "0                5.1               3.5                1.4               0.2   \n",
       "1                4.9               3.0                1.4               0.2   \n",
       "2                4.7               3.2                1.3               0.2   \n",
       "\n",
       "   label  \n",
       "0      0  \n",
       "1      0  \n",
       "2      0  "
      ]
     },
     "execution_count": 67,
     "metadata": {},
     "output_type": "execute_result"
    }
   ],
   "source": [
    "from sklearn.datasets import load_iris\n",
    "from sklearn.tree import DecisionTreeClassifier # 트리 기반 ML 알고리즘 구현한 클래스 모임 모듈\n",
    "from sklearn.model_selection import train_test_split\n",
    "import pandas as pd\n",
    "\n",
    "# 붓꽃 데이터 세트를 로딩\n",
    "# from sklearn.datasets import load_iris 선이행 돼야 함\n",
    "iris = load_iris()\n",
    "# DICT 형태로 되어있다.\n",
    "# 구체적으로 말하면 DICT형태는 아니고, sklearn.utils.Bunch형태임\n",
    "# DICT과 유사한 형태, sklearn 빌트인 데이터 셋은 이 자료구조를 사용함\n",
    "\n",
    "# key와 value 형태로 되어있음\n",
    "\n",
    "\n",
    "# iris.data는 Iris 데이터 세트에서 피처(feature)만으로 된 데이터를 numpy로 가지고 있습니다. \n",
    "# DICT 꼴에서 특정 키를 불러오는 방법 기억해두자\n",
    "iris_data = iris.data # ndarray로 저장돼있다. \n",
    "\n",
    "\n",
    "# iris.target은 붓꽃 데이터 세트에서 레이블(결정 값) 데이터를 numpy로 가지고 있습니다. \n",
    "iris_label = iris.target\n",
    "# 각 feature들을 종합한 결과?라고 생각하면 될 것 같다.\n",
    "print('iris target값:', iris_label)\n",
    "print('iris target명:', iris.target_names)\n",
    "\n",
    "# 붓꽃 데이터 세트를 자세히 보기 위해 DataFrame으로 변환합니다. \n",
    "# sklearn.utils.Bunch 형태(그 안의 값들은 ndarray로 이루어져 있고, 이 ndarray들을 \n",
    "# 이용해서 pd.DataFrame으로 변환해주자. 가독성을 위해서)\n",
    "iris_df = pd.DataFrame(data=iris_data, columns=iris.feature_names)\n",
    "# DataFrame 생성할 때, columns 생성해주는 방법 기억해두자\n",
    "iris_df['label'] = iris.target # label 칼럼 새로 생성해주었음\n",
    "iris_df.head(3)"
   ]
  },
  {
   "cell_type": "code",
   "execution_count": 11,
   "id": "f9f0fcd7-6ed8-4d6c-ada0-9254ef7aed9c",
   "metadata": {},
   "outputs": [],
   "source": [
    "# iris\n",
    "# key와 value 형태로 되어있음을 확인할 수 있다. \n",
    "# 가독성을 위해서 따로 추출한 뒤 pd.DataFrame으로 변환해주었다. "
   ]
  },
  {
   "cell_type": "markdown",
   "id": "f96e6ef3-8124-45b7-b146-54ebc986486f",
   "metadata": {},
   "source": [
    "- 이어서 다음 날"
   ]
  },
  {
   "cell_type": "markdown",
   "id": "e93dcf41-c45a-443e-9275-d89c2a05b22e",
   "metadata": {},
   "source": [
    "---"
   ]
  },
  {
   "cell_type": "markdown",
   "id": "22f2eea0-12b5-4f9a-9178-2fd9371b7b9a",
   "metadata": {},
   "source": [
    "- 학습용 데이터와 테스트용 데이터를 분리."
   ]
  },
  {
   "cell_type": "code",
   "execution_count": 54,
   "id": "f85e10fa-a0cd-4763-8a5a-344ce0813ccb",
   "metadata": {},
   "outputs": [],
   "source": [
    "# from sklearn.model_selection import train_test_split\n",
    "# iris_data = iris.data\n",
    "# iris_label = iris.target\n",
    "X_train, X_test, y_train, y_test = train_test_split(iris_data, iris_label, test_size = 0.2,random_state=11)\n",
    "# random_state = 11 -> 호출할 때마다 같은 학습/테스트용 데이터 세트를 생성하기 위해 주어지는 난수 발생 값.\n",
    "# X_train, X_test, y_train, y_test = 학습 데이터, 테스트 데이터, 학습 레이블, 테스트 레이블"
   ]
  },
  {
   "cell_type": "markdown",
   "id": "7da7ab7b-2ff1-47b9-9a9e-52ee34f90796",
   "metadata": {},
   "source": [
    "- 의사 결정 트리를 이용해 학습과 예측을 수행해보자"
   ]
  },
  {
   "cell_type": "code",
   "execution_count": 58,
   "id": "1584778d-9fea-469c-854f-815ed2880c53",
   "metadata": {},
   "outputs": [
    {
     "data": {
      "text/plain": [
       "DecisionTreeClassifier()"
      ]
     },
     "execution_count": 70,
     "metadata": {},
     "output_type": "execute_result"
    }
   ],
   "source": [
    "# DecisionTreeClassifier 객체 생성\n",
    "# from sklearn.tree import DecisionTreeClassifier\n",
    "dt_clf = DecisionTreeClassifier()\n",
    "# 여기선 굳이 random_state = 11값 설정해도 계속 random하게 값들이 산출된다.\n",
    "# 학습 데이터 셋과 테스트 데이터 셋을 분리해줄 때 random_state 값을 선정해주는 게 의미가 있어보인다. \n",
    "\n",
    "# DecisionTreeClassifier 객체의 fit() 메서드에 학습용 feature 데이터 속성과 결정값 label 데이터 세트를 입력해 호출하면 학습을 수행한다.\n",
    "# 학습 수행중\n",
    "dt_clf.fit(X_train, y_train)"
   ]
  },
  {
   "cell_type": "markdown",
   "id": "a5a71690-9bf4-4dcf-9117-ba79471956d7",
   "metadata": {},
   "source": [
    "- 학습 완료되었음\n",
    "- DecisionTreeClassifier의 객체인 dt_clf가 학습 완료됐기에, dt_clf의 메서드 중 predict를 이용하여 예측을 수행한다.\n",
    "- 예측 수행해보자\n",
    "  - 이때 예측은 반드시 `학습데이터가 아닌 다른 데이터를 이용`해야 하며, `일반적으로 테스트 데이터 세트를 이용`한다. "
   ]
  },
  {
   "cell_type": "code",
   "execution_count": 59,
   "id": "d4ff8254-2578-49db-b2a1-6375bb907719",
   "metadata": {},
   "outputs": [],
   "source": [
    "# 학습이 완료된 DecisionTreeClassifier 객체에서 테스트 데이터 세트로 예측 수행\n",
    "pred = dt_clf.predict(X_test)\n",
    "# 따로 분리해두었던 feature 값들만 넣어주는 것이다. \n",
    "# label은 dt_clf.predict에서 예측할 것이기 때문에 넣어줄 필요가 없다."
   ]
  },
  {
   "cell_type": "code",
   "execution_count": 60,
   "id": "127471c1-2c2c-4b24-b1d7-2765e7a288d9",
   "metadata": {},
   "outputs": [
    {
     "data": {
      "text/plain": [
       "array([2, 2, 1, 1, 2, 0, 1, 0, 0, 1, 1, 1, 1, 2, 2, 0, 2, 1, 2, 2, 1, 0,\n",
       "       0, 1, 0, 0, 2, 1, 0, 1])"
      ]
     },
     "execution_count": 72,
     "metadata": {},
     "output_type": "execute_result"
    }
   ],
   "source": [
    "# 예측 결과\n",
    "pred"
   ]
  },
  {
   "cell_type": "markdown",
   "id": "972496d9-de67-4ee8-9ce1-f13a43c86b6d",
   "metadata": {},
   "source": [
    "- 예측 결과 기반으로 의사 결정 트리 기반의 예측 성능을 평가해보자\n",
    "- 여러가지 성능 평가 방법 중 정확도(label분포가 불균형한 이진 분류에선 정확도지표는 지양해야한다)를 측정해보자\n",
    "  - 예측 결과가 실제 레이블 값과 얼마나 정확하게 맞는지를 평가하는 지표.\n",
    "  - 즉 pred의 값과 y_test가 얼마나 일치하는지 확인하는 절차가 될 것"
   ]
  },
  {
   "cell_type": "code",
   "execution_count": 62,
   "id": "8305b635-2fad-4b44-bd48-eb73e03461d2",
   "metadata": {},
   "outputs": [
    {
     "name": "stdout",
     "output_type": "stream",
     "text": [
      "예측 정확도: 0.933333\n"
     ]
    }
   ],
   "source": [
    "from sklearn.metrics import accuracy_score\n",
    "print('예측 정확도: {0:4f}'.format(accuracy_score(y_test,pred)))\n",
    "# 인자 값으로 실제 label 값인 y_test와 예측한 pred를 넣어준다. "
   ]
  },
  {
   "cell_type": "markdown",
   "id": "f1105c44-4d35-4ac8-8b65-7e407fc11c1b",
   "metadata": {},
   "source": [
    "---"
   ]
  },
  {
   "cell_type": "markdown",
   "id": "d07ce8fb-2b4a-4afc-99af-98a864fc4eea",
   "metadata": {},
   "source": [
    "- 절차\n",
    "  - 1) 데이터 세트 분리\n",
    "  - 2) 모델 학습\n",
    "    - 객체 생성\n",
    "    - 분리된 학습 데이터 셋을 통해 학습시켜주기\n",
    "  - 3) 예측 수행\n",
    "    - X_test를 넣어서 예측 수행하고, 그 값을 pred에 저장\n",
    "  - 4) 평가(예측된 결괏값과 테스트 레이블 데이터의 실제 결괏값을 비교해 ML 모델 성능을 평가한다)\n",
    "    - accuracy_score(y_test,pred)를 통해 정확도 측정"
   ]
  },
  {
   "cell_type": "markdown",
   "id": "a6874830-f01f-4b18-bfb9-eb4e69893286",
   "metadata": {},
   "source": [
    "---"
   ]
  },
  {
   "cell_type": "markdown",
   "id": "13f8c663-2d3e-41e8-b21a-603b358ece6b",
   "metadata": {},
   "source": [
    "- 사이킷런의 기반 프레임워크 익히기\n",
    "  - 사이킷런은 ML 모델 학습을 위해서 fit()\n",
    "    - dt_clf.fit(X_tarin, y_train)\n",
    "  - 학습된 모델의 예측을 위해 predict()\n",
    "    - dt_clf.predict(X_test)\n",
    "  - 지도학습의 주요 두 축인 분류와 회귀의 다양한 알고리즘을 구현한 모든 사이킷런 클래스는 fit()과 predict()만을 이용해 학습과 예측 결과를 반환할 수 있다. "
   ]
  },
  {
   "cell_type": "markdown",
   "id": "f8833ac9-4f4c-4eff-b851-afd2f19e4115",
   "metadata": {},
   "source": [
    "----"
   ]
  },
  {
   "cell_type": "markdown",
   "id": "6dc78f76-7f4a-46ea-a10b-ff2dc35b079b",
   "metadata": {},
   "source": [
    "- Classifier와 Regressor를 합쳐서 Estimator 클래스라고 부른다. \n",
    "- 즉, 지도학습의 모든 알고리즘을 구현한 클래스를 통칭해서 Estimator라고 부른다. 따라서 당연히 Estimator 클래스는 fit()과 predict()를 내부에서 구현하고 있다. "
   ]
  },
  {
   "cell_type": "markdown",
   "id": "1f68a20e-8976-4fe2-9b9f-bb93d310d9b8",
   "metadata": {},
   "source": [
    "---"
   ]
  },
  {
   "cell_type": "markdown",
   "id": "f5e36c52-2903-47d9-bd47-ff172f8aa13e",
   "metadata": {},
   "source": [
    "> 추후 학습"
   ]
  },
  {
   "cell_type": "markdown",
   "id": "6b09d85c-ee0d-4cf8-82a8-ab2c1a6a43b3",
   "metadata": {},
   "source": [
    "- ***cross_val_score()와 같은 evaluation 함수, GridSearchCV와 같은 하이퍼 파라미터 튜닝을 지원하는 클래스의 경우 이 Estimator를 인자로 받는다. 인자로 받은 Estimator에 대해서 cross_val_score(), GridSearchCV.fit() 함수 내에서 이 Estimator의 fit()과 predict()를 호출해서 평가를 하거나 하이퍼 파라미터 튜닝을 수행하는 것이다.***"
   ]
  },
  {
   "cell_type": "markdown",
   "id": "7b55e48f-5d67-4ba8-9305-10be622bdaa5",
   "metadata": {},
   "source": [
    "- 사이킷런에서 비지도학습인 차원 축소, 클러스트링, 피처 추출 등을 구현한 클래스 역시 대부분 fit(), transform()을 적용한다. \n",
    "  - 비지도 학습과 피처 추출에서 fit()은 지도학습에서의 fit()과 같이 학습을 의미하는 것이 아니라 입력 데이터의 형태에 맞춰 데이터를 변환하기 위한 사전 구조를 맞추는 작업이다.\n",
    "  - fit()으로 변환을 위한 사전 구조를 맞추면 이후 입력 데이터의 차원 변환, 클러스트링, 피처 추출 등의 실제 작업은 transform()으로 수행한다. \n",
    "  - 사이킷런은 fit()과 transform()을 하나로 결합한 fit_transform()도 함께 제공한다. (함께 사용하는만큼 주의가 필요.)"
   ]
  },
  {
   "cell_type": "markdown",
   "id": "f6e9e8ed-26e1-429a-9942-a0fccf998967",
   "metadata": {},
   "source": [
    "---"
   ]
  },
  {
   "cell_type": "markdown",
   "id": "b0b4828c-8d17-4ea7-bc27-204d2779e82e",
   "metadata": {},
   "source": [
    "- 사이킷런의 주요 모듈\n",
    "\n",
    "```python\n",
    "sklearn.datasets # 사이킷런에 내장돼 있는 예제로 제공하는 데이터 세트\n",
    "# from sklearn.datasets import load_iris\n",
    "sklearn.preprocessing # 데이터 전처리에 필요한 다양한 가공 기능 제공(문자열을 숫자형 코드 값으로 인코딩, 정규화, 스케일링 등)\n",
    ".\n",
    ".\n",
    ".\n",
    "```\n",
    "그 외의 다양한 모듈들에 대해서는 교재 94p를 참고한다. "
   ]
  },
  {
   "cell_type": "markdown",
   "id": "e006f393-0c97-4c1e-aa4f-7c5bb4c2c356",
   "metadata": {},
   "source": [
    "- 일반적으로 머신러닝 모델을 구축하는 주요 프로세스는 (피처의 가공, 변경, 추출을 수행하는 ***피처 처리***), (ML 알고리즘 ***학습/예측 수행***), 그리고 (***모델 평가***)의 단계를 반복적으로 수행하는 것."
   ]
  },
  {
   "cell_type": "markdown",
   "id": "929ec8a9-1614-472b-aadd-6de005fe3669",
   "metadata": {},
   "source": [
    "---"
   ]
  },
  {
   "cell_type": "markdown",
   "id": "8fbb9058-3fbc-4126-8a92-8896d8645002",
   "metadata": {},
   "source": [
    "- 분류와 클러스트링을 위한 표본 데이터 생성기\n",
    "```python\n",
    "datasets.make_classifications() # 분류를 위한 데이터 세트를 무작위로 생성\n",
    "datasets.make_blobs() # 클러스트링을 위한 데이터 세트를 무작위로 생성\n",
    "```\n",
    "- 사이킷런에 내장된 이 데이터 세트는 일반적으로 딕셔너리 형태로 돼 있다.\n",
    "  - sklearn.utils.Bunch 형태\n",
    "  - 키는 보통 data, target(분류 시 레이블 값, 회귀 시 숫자 결괏값 데이터 세트), target_name(개별 레이블 이름), feature_names, DESCR(데이터 세트에 대한 설명과 각 피처의 설명, dataset에 대한 설명)로 구성돼 있다. \n",
    "  - data, target은 넘파이 배열(ndarray)\n",
    "    - pd.DataFrame으로 변환시킬 수 있다.\n",
    "    ```python\n",
    "    iris_df = pd.DataFrame(data = iris_data, columns = iris_target)\n",
    "    ```\n",
    "  - 나머지는 넘파이 배열 또는 파이썬 리스트 타입, DESCR(dataset에 대한 각종 설명)은 스트링 타입"
   ]
  },
  {
   "cell_type": "markdown",
   "id": "30167733-4521-4363-b50a-ad5eeddfa115",
   "metadata": {},
   "source": [
    "---"
   ]
  },
  {
   "cell_type": "markdown",
   "id": "d2b767b3-510c-425f-ba3e-4db3aa923298",
   "metadata": {},
   "source": [
    "- feature의 데이터 값을 반환하기 위해서는 내장 데이터 세트 API를 호출한 뒤에 그 Key 값을 지정하면 된다.\n",
    "  - 예제를 통해 알아보자"
   ]
  },
  {
   "cell_type": "code",
   "execution_count": 76,
   "id": "775a731d-fdd3-4eee-9521-9acb8068eed6",
   "metadata": {},
   "outputs": [
    {
     "name": "stdout",
     "output_type": "stream",
     "text": [
      "<class 'sklearn.utils.Bunch'>\n"
     ]
    }
   ],
   "source": [
    "from sklearn.datasets import load_iris\n",
    "\n",
    "iris_data = load_iris()\n",
    "print(type(iris_data))"
   ]
  },
  {
   "cell_type": "code",
   "execution_count": 83,
   "id": "164f16c2-8d89-4884-840c-3b65db37b916",
   "metadata": {},
   "outputs": [
    {
     "name": "stdout",
     "output_type": "stream",
     "text": [
      "붓꽃 데이터 세트의 키 :  dict_keys(['data', 'target', 'frame', 'target_names', 'DESCR', 'feature_names', 'filename'])\n"
     ]
    }
   ],
   "source": [
    "keys = iris_data.keys()\n",
    "# key확인하는 방법\n",
    "print('붓꽃 데이터 세트의 키 : ', keys)"
   ]
  },
  {
   "cell_type": "code",
   "execution_count": 82,
   "id": "559f2a98-f9b1-4852-b60b-c7be0483cc39",
   "metadata": {},
   "outputs": [],
   "source": [
    "iris_feature = iris_data.data\n",
    "# iris_feature"
   ]
  },
  {
   "cell_type": "markdown",
   "id": "5220e8af-6c66-485e-a50c-b0d76ff492b7",
   "metadata": {},
   "source": [
    "---"
   ]
  },
  {
   "cell_type": "markdown",
   "id": "af41165b-8ad8-413f-b67e-d61c0f34c2ba",
   "metadata": {},
   "source": [
    "- Model Selection 모듈 소개\n",
    "  - 학습 데이터와 테스트 데이터 세트를 분리\n",
    "  - 교차 검증 분할 및 평가\n",
    "  - Estimator의 하이퍼 파라미터를 튜닝하기 위한 다양한 함수와 클래스를 제공"
   ]
  },
  {
   "cell_type": "markdown",
   "id": "9ab47fa9-4a68-4d97-a55f-c79ab80762f5",
   "metadata": {},
   "source": [
    "- 학습/테스트 데이터 세트 분리 - train_test_split()"
   ]
  },
  {
   "cell_type": "code",
   "execution_count": 85,
   "id": "a26f3b1a-6a1d-41db-8045-908e6d1c7912",
   "metadata": {},
   "outputs": [
    {
     "name": "stdout",
     "output_type": "stream",
     "text": [
      "예측 정확도 :  1.0\n"
     ]
    }
   ],
   "source": [
    "from sklearn.datasets import load_iris\n",
    "from sklearn.tree import DecisionTreeClassifier\n",
    "from sklearn.metrics import accuracy_score\n",
    "\n",
    "iris = load_iris()\n",
    "dt_clf = DecisionTreeClassifier()\n",
    "train_data = iris.data # 타겟은 제외, feature 값들만 모은 것\n",
    "train_label = iris.target # 타겟\n",
    "# 이렇게 분리해야 다음과 같이 학습할 수 있다. \n",
    "dt_clf.fit(train_data, train_label)\n",
    "\n",
    "# ***학습 데이터 세트***로 예측 수행\n",
    "pred = dt_clf.predict(train_data)\n",
    "print('예측 정확도 : ', accuracy_score(train_label, pred))"
   ]
  },
  {
   "cell_type": "markdown",
   "id": "eadafd76-545c-4e95-9fe9-80acb6983622",
   "metadata": {},
   "source": [
    "- 정확도 100%\n",
    "  - 위의 이미 학습한 학습 데이터 세트를 기반으로 예측했기 때문이다.\n",
    "    - 모의고사 답을 알고 있는 상태에서 동일 모의고사를 또 본 것.\n",
    "    - 그래서 sklearn.model_selection 모듈에서 train_test_split을 로드해야 한다."
   ]
  },
  {
   "cell_type": "code",
   "execution_count": 86,
   "id": "12b2a35d-d4af-405d-8ebe-1b7f1cce41b3",
   "metadata": {},
   "outputs": [],
   "source": [
    "from sklearn.tree import DecisionTreeClassifier\n",
    "from sklearn.metrics import accuracy_score\n",
    "from sklearn.datasets import load_iris\n",
    "from sklearn.model_selection import train_test_split\n",
    "\n",
    "dt_clf = DecisionTreeClassifier() # 객체 생성\n",
    "iris_data = load_iris()\n",
    "\n",
    "X_train, X_test, y_train, y_test = train_test_split(iris_data.data, iris_data.target, test_size = .3, random_state=121)\n",
    "# 추가적인 파라미터 : shuffle = True(가 디폴트) : 데이터를 분리하기 전에 데이터를 미리 섞을지 결정, 데이터를 분산시켜서 좀 더 효율적인 학습 및 테스트 데이터 세트를 만드는 데 사용된다."
   ]
  },
  {
   "cell_type": "markdown",
   "id": "ab8b1b80-f1dc-4cc2-91e9-dbd7435796b0",
   "metadata": {},
   "source": [
    "- 학습 데이터를 기반으로 학습 후 예측해보자"
   ]
  },
  {
   "cell_type": "code",
   "execution_count": 87,
   "id": "b44f6e5d-b5d9-4bcc-8701-dad739351358",
   "metadata": {},
   "outputs": [
    {
     "name": "stdout",
     "output_type": "stream",
     "text": [
      "예측 정확도: 0.9556\n"
     ]
    }
   ],
   "source": [
    "dt_clf.fit(X_train, y_train) # 학습\n",
    "pred = dt_clf.predict(X_test) # 예측\n",
    "print('예측 정확도: {0:.4f}'.format(accuracy_score(y_test, pred)))"
   ]
  },
  {
   "cell_type": "markdown",
   "id": "68963cfc-4c88-402e-a020-a39a0010e1fd",
   "metadata": {},
   "source": [
    "---"
   ]
  },
  {
   "cell_type": "markdown",
   "id": "d9552fce-f4c5-494e-8704-b2443ac18ed6",
   "metadata": {},
   "source": [
    "- 교차 검증(부제 : 다양한 모의고사 수행)\n",
    "  - 모델이 일부 학습 데이터에만 과도하게 최적화되어 실제 예측을 다른 데이터로 수행할 경우 예측 성능이 과도하게 떨어지는 `과적합` 방지.\n",
    "  - 데이터 편증 방지\n",
    "  - 큰 덩어리를 여러 덩어리로 쪼개고, 그 여러 덩어리에서도 역할을 계속 달리해줌으로써 학습해보자\n",
    "  - 재활용을 효율적으로 해보자"
   ]
  },
  {
   "cell_type": "markdown",
   "id": "e882e0e5-2f32-4440-b25a-e632657688a6",
   "metadata": {},
   "source": [
    "- K 폴드 교차 검증은 가장 보편적으로 사용되는 교차 검증 기법\n",
    "  - 먼저 K개의 데이터 폴드 세트를 만들어서 K번만큼 각 폴드 세트에 학습과 검증 평가(1차적인 평가)를 반복적으로 수행\n",
    "  - K번 평가를 수행 뒤, 평균한 결과를 가지고 예측 성능을 평가.\n",
    "  - 예를 들어 K=5라면, 데이터를 5등분하고, (이해의 편의를 위해 번호매긴다면) 첫 번째 평가는 5번 덩어리, 두 번째 평가는 4번 덩어리..이런식으로 5번 반복!"
   ]
  },
  {
   "cell_type": "code",
   "execution_count": 92,
   "id": "aa5545b7-2c42-458c-b123-8b078c4a7955",
   "metadata": {},
   "outputs": [
    {
     "name": "stdout",
     "output_type": "stream",
     "text": [
      "붓꽃 데이터 세트 크기:  150\n"
     ]
    }
   ],
   "source": [
    "from sklearn.datasets import load_iris\n",
    "from sklearn.tree import DecisionTreeClassifier\n",
    "from sklearn.metrics import accuracy_score\n",
    "from sklearn.model_selection import KFold # 이 모듈에 아까 train_test_split 함수도 있었음\n",
    "import numpy as np\n",
    "\n",
    "iris = load_iris()\n",
    "features = iris.data\n",
    "label = iris.target\n",
    "dt_clf = DecisionTreeClassifier(random_state=156)\n",
    "\n",
    "kfold = KFold(n_splits = 5) # KFold 객체\n",
    "cv_accuracy = []  # 폴드 세트별 정확도를 담을 리스트 객체 생성\n",
    "print('붓꽃 데이터 세트 크기: ', features.shape[0])"
   ]
  },
  {
   "cell_type": "code",
   "execution_count": 93,
   "id": "01397c11-b525-4b28-af2d-bbb316b6e2eb",
   "metadata": {},
   "outputs": [
    {
     "data": {
      "text/plain": [
       "(150, 4)"
      ]
     },
     "execution_count": 93,
     "metadata": {},
     "output_type": "execute_result"
    }
   ],
   "source": [
    "features.shape"
   ]
  },
  {
   "cell_type": "code",
   "execution_count": 94,
   "id": "81f53972-7429-4376-991a-4c3ffca5c2e9",
   "metadata": {},
   "outputs": [
    {
     "data": {
      "text/plain": [
       "<generator object _BaseKFold.split at 0x000001EBAA4B9120>"
      ]
     },
     "execution_count": 94,
     "metadata": {},
     "output_type": "execute_result"
    }
   ],
   "source": [
    "kfold.split(features)"
   ]
  },
  {
   "cell_type": "markdown",
   "id": "a369b515-5193-4bf6-adfa-4109d43065c3",
   "metadata": {},
   "source": [
    "- generator object\n",
    "  - generator : iterator를 생성해주는 함수, 함수안에 yield 키워드를 사용함\n",
    "  - genrator 특징\n",
    "    - iterable한 순서가 지정됨(모든 generator는 iterator)"
   ]
  },
  {
   "cell_type": "markdown",
   "id": "9184b5c8-befc-46e4-aa5b-5cde3a630f88",
   "metadata": {},
   "source": [
    "- *******추가 학습 필요*******\n",
    "  - kfold.split(features)의 반환 결과를 살펴보니 generator object이다.\n",
    "  - iterator와 관련돼 있는 것 같고\n",
    "  - 이는 for loop과 관련돼 있는 것으로 보인다.\n",
    "  - 이렇게 자신이 공부하다 추가적으로 공부하게 된 부분이나 팀원들도 이런 부분 알면 좋을 것 같다는 것 정리해서 오면 도움이 많이 될 듯"
   ]
  },
  {
   "cell_type": "code",
   "execution_count": 95,
   "id": "d27c765d-7c2c-4409-8e2e-55f9d5ef6197",
   "metadata": {},
   "outputs": [
    {
     "name": "stdout",
     "output_type": "stream",
     "text": [
      "\n",
      "#1 교차 검증 정확도 :1.0, 학습 데이터 크기: 120, 검증 데이터 크기: 30\n",
      "#1 검증 세트 인덱스:[ 0  1  2  3  4  5  6  7  8  9 10 11 12 13 14 15 16 17 18 19 20 21 22 23\n",
      " 24 25 26 27 28 29]\n",
      "\n",
      "#2 교차 검증 정확도 :0.9667, 학습 데이터 크기: 120, 검증 데이터 크기: 30\n",
      "#2 검증 세트 인덱스:[30 31 32 33 34 35 36 37 38 39 40 41 42 43 44 45 46 47 48 49 50 51 52 53\n",
      " 54 55 56 57 58 59]\n",
      "\n",
      "#3 교차 검증 정확도 :0.8667, 학습 데이터 크기: 120, 검증 데이터 크기: 30\n",
      "#3 검증 세트 인덱스:[60 61 62 63 64 65 66 67 68 69 70 71 72 73 74 75 76 77 78 79 80 81 82 83\n",
      " 84 85 86 87 88 89]\n",
      "\n",
      "#4 교차 검증 정확도 :0.9333, 학습 데이터 크기: 120, 검증 데이터 크기: 30\n",
      "#4 검증 세트 인덱스:[ 90  91  92  93  94  95  96  97  98  99 100 101 102 103 104 105 106 107\n",
      " 108 109 110 111 112 113 114 115 116 117 118 119]\n",
      "\n",
      "#5 교차 검증 정확도 :0.7333, 학습 데이터 크기: 120, 검증 데이터 크기: 30\n",
      "#5 검증 세트 인덱스:[120 121 122 123 124 125 126 127 128 129 130 131 132 133 134 135 136 137\n",
      " 138 139 140 141 142 143 144 145 146 147 148 149]\n",
      "\n",
      "## 평균 검증 정확도: 0.9\n"
     ]
    }
   ],
   "source": [
    "n_iter = 0\n",
    "\n",
    "# KFold객체의 split( ) 호출하면 폴드 별 학습용, 검증용 테스트의 row 인덱스를 array로 반환해줌!  \n",
    "for train_index, test_index  in kfold.split(features):\n",
    "    # kfold.split(features) 반환결과가 train_index, test_index 이 형태!\n",
    "    \n",
    "    # kfold.split( )으로 반환된 인덱스를 이용하여! 학습용, 검증용 테스트 데이터 추출\n",
    "    X_train, X_test = features[train_index], features[test_index]\n",
    "    y_train, y_test = label[train_index], label[test_index]\n",
    "    # 이때, y_test는 정확도 평가할 때 쓰일 것.\n",
    "    \n",
    "    \n",
    "    #학습 및 예측 \n",
    "    dt_clf.fit(X_train , y_train) # 학습    \n",
    "    pred = dt_clf.predict(X_test) # 예측 결과를 pred에 저장\n",
    "    n_iter += 1 \n",
    "    \n",
    "    # 반복 시 마다 정확도 측정 \n",
    "    accuracy = np.round(accuracy_score(y_test,pred), 4)\n",
    "    train_size = X_train.shape[0]\n",
    "    test_size = X_test.shape[0]\n",
    "    print('\\n#{0} 교차 검증 정확도 :{1}, 학습 데이터 크기: {2}, 검증 데이터 크기: {3}'\n",
    "          .format(n_iter, accuracy, train_size, test_size))\n",
    "    print('#{0} 검증 세트 인덱스:{1}'.format(n_iter,test_index))\n",
    "    \n",
    "    cv_accuracy.append(accuracy)\n",
    "    # list 원소 추가 함수 [].append(!!)\n",
    "    \n",
    "    \n",
    "# 개별 iteration별 정확도를 합하여 평균 정확도 계산 \n",
    "print('\\n## 평균 검증 정확도:', np.mean(cv_accuracy))"
   ]
  },
  {
   "cell_type": "markdown",
   "id": "d4cd5dfa-e371-4a03-859f-8ca371ab8d1e",
   "metadata": {},
   "source": [
    "- 검증 시마다 검증 세트의 인덱스가 달라짐을 알 수 있다."
   ]
  },
  {
   "cell_type": "markdown",
   "id": "375c1f5b-389f-4b71-8484-d4a214b7ab1d",
   "metadata": {},
   "source": [
    "---"
   ]
  },
  {
   "cell_type": "markdown",
   "id": "3e234010-d6a6-45bd-ade7-7204ff56d8d5",
   "metadata": {},
   "source": [
    "- Stratified K 폴드\n",
    "  - #### `불균형한 분포도(특정 레이블 값이 특이하게 많거나 적어, 분포가 한쪽으로 치우치는 것)를 가진 레이블 데이터 집합을 위한 K폴드 방식`.\n",
    "  - #### `원본 데이터와 유사한 레이블 값의 분포를 학습/테스트 세트에도 유지하는 게 매우 중요`\n",
    "    - 이를 위해, Stratified K 폴드는 원본 데이터의 레이블 분포를 먼저 고려한 뒤 이 분포와 동일하게 학습과 검증 데이터 세트를 분해한다."
   ]
  },
  {
   "cell_type": "code",
   "execution_count": 2,
   "id": "9c93b1dc-1d52-4534-a148-e85ba3fcdb1c",
   "metadata": {},
   "outputs": [
    {
     "data": {
      "text/plain": [
       "0    50\n",
       "1    50\n",
       "2    50\n",
       "Name: label, dtype: int64"
      ]
     },
     "execution_count": 2,
     "metadata": {},
     "output_type": "execute_result"
    }
   ],
   "source": [
    "import pandas as pd\n",
    "\n",
    "from  sklearn.datasets import load_iris\n",
    "iris = load_iris()\n",
    "iris_df = pd.DataFrame(data = iris.data, columns = iris.feature_names)\n",
    "iris_df['label'] = iris.target\n",
    "iris_df['label'].value_counts()"
   ]
  },
  {
   "cell_type": "markdown",
   "id": "e00a30eb-c76c-40c1-8d79-32687a546d84",
   "metadata": {},
   "source": [
    "----"
   ]
  },
  {
   "cell_type": "markdown",
   "id": "ee73e06b-d222-453e-8a15-db576a1efbea",
   "metadata": {},
   "source": [
    "#### 중요\n",
    "- 위에서 KFold 진행할 땐, features를 분리했었음(label이 아니라)\n",
    "  - 사실 위에서는 5개의 폴드로 나눠서 50개로 나눌 때보단 문제가 안 됐던 것 같음\n",
    "  - 위의 결과도 보면 검증 데이터 인덱스가 순서대로 이루어져 있어서 한 덩어리당 동일한 label이 이미 많이 포진되어 있음"
   ]
  },
  {
   "cell_type": "markdown",
   "id": "5dd8ebf9-94d1-4911-be94-a5b7621feef5",
   "metadata": {},
   "source": [
    "---"
   ]
  },
  {
   "cell_type": "code",
   "execution_count": 5,
   "id": "0d2c6116-f544-4c15-9deb-c8b08846af30",
   "metadata": {},
   "outputs": [
    {
     "name": "stdout",
     "output_type": "stream",
     "text": [
      "##교차 검증:1\n",
      "학습 레이블 데이터 분포:\n",
      " 1    50\n",
      "2    50\n",
      "Name: label, dtype: int64\n",
      "검증 레이블 데이터 분포:\n",
      " 0    50\n",
      "Name: label, dtype: int64\n",
      "##교차 검증:2\n",
      "학습 레이블 데이터 분포:\n",
      " 0    50\n",
      "2    50\n",
      "Name: label, dtype: int64\n",
      "검증 레이블 데이터 분포:\n",
      " 1    50\n",
      "Name: label, dtype: int64\n",
      "##교차 검증:3\n",
      "학습 레이블 데이터 분포:\n",
      " 0    50\n",
      "1    50\n",
      "Name: label, dtype: int64\n",
      "검증 레이블 데이터 분포:\n",
      " 2    50\n",
      "Name: label, dtype: int64\n"
     ]
    }
   ],
   "source": [
    "from sklearn.model_selection import KFold\n",
    "# train_test_Split 메서드도 이 모듈에 있었음\n",
    "\n",
    "kfold = KFold(n_splits = 3)\n",
    "n_iter = 0\n",
    "for train_index, test_index in kfold.split(iris_df):\n",
    "    n_iter += 1\n",
    "    label_train = iris_df['label'].iloc[train_index]\n",
    "    label_test = iris_df['label'].iloc[test_index]\n",
    "    print('##교차 검증:{0}'.format(n_iter))\n",
    "    print('학습 레이블 데이터 분포:\\n', label_train.value_counts())\n",
    "    print('검증 레이블 데이터 분포:\\n', label_test.value_counts())"
   ]
  },
  {
   "cell_type": "markdown",
   "id": "546bdc54-e892-4adc-8b66-9abb52531e17",
   "metadata": {},
   "source": [
    "- 모든 폴드가 0,1,2 골고루 학습해야하지만, 계속 한 레이블은 아예 배제되고 있다. 그렇다면 배제된 그 레이블은 학습이 전혀 안 되고 절대 예측할 수 없다. \n",
    "- 그래서 StratifiedKFold가 필요.\n",
    "  - ***레이블 데이터 분포도에 따라 학습/검증 데이터를 나누기 때문에 split() 메서드에 인자로 피처데이터 세트뿐만 아니라 레이블 데이터 세트도 반드시 필요하다.***"
   ]
  },
  {
   "cell_type": "code",
   "execution_count": 96,
   "id": "2fad777e-51a5-4dbd-b27f-86f21ab97636",
   "metadata": {},
   "outputs": [
    {
     "name": "stdout",
     "output_type": "stream",
     "text": [
      "## 교차 검증: 1\n",
      "학습 레이블 데이터 분포: \n",
      " 2    34\n",
      "0    33\n",
      "1    33\n",
      "Name: label, dtype: int64\n",
      "검증 레이블 데이터 분포: \n",
      " 0    17\n",
      "1    17\n",
      "2    16\n",
      "Name: label, dtype: int64\n",
      "## 교차 검증: 2\n",
      "학습 레이블 데이터 분포: \n",
      " 1    34\n",
      "0    33\n",
      "2    33\n",
      "Name: label, dtype: int64\n",
      "검증 레이블 데이터 분포: \n",
      " 0    17\n",
      "2    17\n",
      "1    16\n",
      "Name: label, dtype: int64\n",
      "## 교차 검증: 3\n",
      "학습 레이블 데이터 분포: \n",
      " 0    34\n",
      "1    33\n",
      "2    33\n",
      "Name: label, dtype: int64\n",
      "검증 레이블 데이터 분포: \n",
      " 1    17\n",
      "2    17\n",
      "0    16\n",
      "Name: label, dtype: int64\n"
     ]
    }
   ],
   "source": [
    "from sklearn.model_selection import StratifiedKFold\n",
    "# 여기에 train_test_split, KFold도 있었음\n",
    "\n",
    "skf = StratifiedKFold(n_splits = 3)\n",
    "n_iter = 0\n",
    "\n",
    "for train_index, test_index in skf.split(iris_df, iris_df['label']): \n",
    "    # iris_df['label'] 이거 꼭 필요!\n",
    "    n_iter += 1\n",
    "    label_train = iris_df['label'].iloc[train_index]\n",
    "    label_test = iris_df['label'].iloc[test_index]\n",
    "    print('## 교차 검증: {}'.format(n_iter))\n",
    "    print('학습 레이블 데이터 분포: \\n', label_train.value_counts())\n",
    "    print('검증 레이블 데이터 분포: \\n', label_test.value_counts())"
   ]
  },
  {
   "cell_type": "markdown",
   "id": "dbebafd0-cf85-43a8-8973-e0f35381aeb6",
   "metadata": {},
   "source": [
    "- 이렇게 학습레이블과 검증레이블 데이터 값의 분포가 동일하게 할당되어야 한다\n",
    "- 이제 교차 검증 수행해보자"
   ]
  },
  {
   "cell_type": "code",
   "execution_count": 97,
   "id": "1c6d49f3-2929-4ab1-b28d-2f634f45f1a2",
   "metadata": {},
   "outputs": [
    {
     "name": "stdout",
     "output_type": "stream",
     "text": [
      "\n",
      "#1 교차 검증 정확도 :0.98, 학습 데이터 크기: 100, 검증 데이터 크기: 50\n",
      "#1 검증 세트 인덱스:[  0   1   2   3   4   5   6   7   8   9  10  11  12  13  14  15  16  50\n",
      "  51  52  53  54  55  56  57  58  59  60  61  62  63  64  65  66 100 101\n",
      " 102 103 104 105 106 107 108 109 110 111 112 113 114 115]\n",
      "\n",
      "#2 교차 검증 정확도 :0.94, 학습 데이터 크기: 100, 검증 데이터 크기: 50\n",
      "#2 검증 세트 인덱스:[ 17  18  19  20  21  22  23  24  25  26  27  28  29  30  31  32  33  67\n",
      "  68  69  70  71  72  73  74  75  76  77  78  79  80  81  82 116 117 118\n",
      " 119 120 121 122 123 124 125 126 127 128 129 130 131 132]\n",
      "\n",
      "#3 교차 검증 정확도 :0.98, 학습 데이터 크기: 100, 검증 데이터 크기: 50\n",
      "#3 검증 세트 인덱스:[ 34  35  36  37  38  39  40  41  42  43  44  45  46  47  48  49  83  84\n",
      "  85  86  87  88  89  90  91  92  93  94  95  96  97  98  99 133 134 135\n",
      " 136 137 138 139 140 141 142 143 144 145 146 147 148 149]\n",
      "\n",
      "## 교차 검증별 정확도: [0.98 0.94 0.98]\n",
      "## 평균 검증 정확도: 0.9666666666666667\n"
     ]
    }
   ],
   "source": [
    "from sklearn.tree import DecisionTreeClassifier\n",
    "import numpy as np\n",
    "from sklearn.metrics import accuracy_score\n",
    "dt_clf = DecisionTreeClassifier(random_state=156)\n",
    "features = iris.data\n",
    "label = iris.target\n",
    "\n",
    "skfold = StratifiedKFold(n_splits=3)\n",
    "n_iter=0\n",
    "cv_accuracy=[] # 각 폴드별 정확도 담을 list 생성\n",
    "\n",
    "# StratifiedKFold의 split( ) 호출시 반드시 레이블 데이터 셋도 추가 입력 필요  \n",
    "for train_index, test_index  in skfold.split(features, label):\n",
    "    # split( )으로 반환된 인덱스를 이용하여 학습용, 검증용 테스트 데이터 추출\n",
    "    # stratifiedKFold는 label도 필수!\n",
    "    X_train, X_test = features[train_index], features[test_index]\n",
    "    y_train, y_test = label[train_index], label[test_index]\n",
    "    \n",
    "    #학습 및 예측 \n",
    "    dt_clf.fit(X_train , y_train) # 학습 중    \n",
    "    pred = dt_clf.predict(X_test) # 예측 중\n",
    "\n",
    "    # 반복 시 마다 정확도 측정 \n",
    "    n_iter += 1\n",
    "    accuracy = np.round(accuracy_score(y_test,pred), 4) # 정확도 측정 중\n",
    "    train_size = X_train.shape[0]\n",
    "    test_size = X_test.shape[0]\n",
    "    \n",
    "    print('\\n#{0} 교차 검증 정확도 :{1}, 학습 데이터 크기: {2}, 검증 데이터 크기: {3}'\n",
    "          .format(n_iter, accuracy, train_size, test_size))\n",
    "    print('#{0} 검증 세트 인덱스:{1}'.format(n_iter,test_index))\n",
    "    cv_accuracy.append(accuracy)\n",
    "    \n",
    "# 교차 검증별 정확도 및 평균 정확도 계산 \n",
    "print('\\n## 교차 검증별 정확도:', np.round(cv_accuracy, 4))\n",
    "print('## 평균 검증 정확도:', np.mean(cv_accuracy)) "
   ]
  },
  {
   "cell_type": "markdown",
   "id": "64134816-4a0d-4ef1-89ac-b3c6d02f67fe",
   "metadata": {},
   "source": [
    "----"
   ]
  },
  {
   "cell_type": "markdown",
   "id": "0ad05e4d-0266-4231-8d08-af0480cdf49a",
   "metadata": {},
   "source": [
    "- 왜곡된 레이블 데이터 세트에서는 반드시 StratifiedKFold를 이용해 교차 검증해야 한다. \n",
    "- 사실, 일반적으로 분류에서의 교차 검증은 K 폴드가 아니라 StratifiedKFold로 분할돼야 한다. \n",
    "  - 회귀에서는 StratifiedKFold가 지원되지 않는다. (회귀의 결정값은 이산이 아닌 연속. 결정값별로 분포를 정하는 의미가 없음)"
   ]
  },
  {
   "cell_type": "markdown",
   "id": "c30c4044-8db3-4cc6-a507-61ccb5415f8e",
   "metadata": {},
   "source": [
    "---"
   ]
  },
  {
   "cell_type": "markdown",
   "id": "4c05e9ab-91c5-4246-a851-bab44fdb4acd",
   "metadata": {},
   "source": [
    "- 교차 검증을 보다 간편하게 해주는 API에 대해 알아보자\n",
    "  - cross_val_score()는 분류일 땐 StratifiedKFold, 회귀일 땐 KFold로.\n",
    "  - 사용법에 대해 알아보자"
   ]
  },
  {
   "cell_type": "code",
   "execution_count": 14,
   "id": "53da95ec-6d1a-4daa-8822-927885cb3ee6",
   "metadata": {},
   "outputs": [
    {
     "name": "stdout",
     "output_type": "stream",
     "text": [
      "교차 검증별 정확도: [0.98 0.94 0.98]\n",
      "평균 검증 정확도: 0.9667\n"
     ]
    }
   ],
   "source": [
    "from sklearn.tree import DecisionTreeClassifier # estimator 중 DecisionTreeClassifier 사용\n",
    "from sklearn.model_selection import cross_val_score , cross_validate\n",
    "# 이 모듈 <- train_test_split, KFold, StratifiedKFold, cross_val_score, cross_validate가 들어있음\n",
    "from sklearn.datasets import load_iris\n",
    "import numpy as np\n",
    "\n",
    "iris_data = load_iris()\n",
    "dt_clf = DecisionTreeClassifier(random_state=156)\n",
    "\n",
    "data = iris_data.data\n",
    "label = iris_data.target\n",
    "\n",
    "# 성능 지표는 정확도(accuracy) , 교차 검증 세트는 3개(cv = 3) \n",
    "scores = cross_val_score(dt_clf , data , label , scoring='accuracy', cv=3)\n",
    "print('교차 검증별 정확도:',np.round(scores, 4))\n",
    "print('평균 검증 정확도:', np.round(np.mean(scores), 4))"
   ]
  },
  {
   "cell_type": "markdown",
   "id": "476f5ca1-de0a-444c-a0bd-ab5b971835b8",
   "metadata": {},
   "source": [
    "- cross_val_score() API는 내부에서 Estimator를 학습, 예측, 평가 시켜주므로 간단하게 교차검증(과적합 방지)을 수행할 수 있다. \n",
    "- 정확도도 위위셀에서의 StratifiedKFold 정확도와 일치함, cross_val_score(분류일 땐 알아서 StratifiedKFold 수행한다)가 내부적으로 StratifiedKFold를 사용하기 때문에"
   ]
  },
  {
   "cell_type": "markdown",
   "id": "75dc7eb1-0331-448b-9062-cb6ee2f49014",
   "metadata": {},
   "source": [
    "---"
   ]
  },
  {
   "cell_type": "markdown",
   "id": "681c1a07-0b35-495a-ac6c-5dc8f2246bd0",
   "metadata": {},
   "source": [
    "- cross_val_score와 비슷한 cross_validate가 있다.\n",
    "  - 다만 cross_validate는 여러 개의 평가 지표를 반환할 수 있다. 그리고 학습 데이터에 대한 성능 평가 지표와 수행 시간도 같이 제공한다. "
   ]
  },
  {
   "cell_type": "markdown",
   "id": "d337d2bc-75dc-4bd1-80df-b988d3187c4f",
   "metadata": {},
   "source": [
    "---"
   ]
  },
  {
   "cell_type": "markdown",
   "id": "a9c67b3a-cd4f-4306-8b6a-4fe641fab893",
   "metadata": {},
   "source": [
    "- 하이퍼 파라미터 튜닝 맛보기 \n",
    "  - GridSearchCV : 교차 검증과 최적 하이퍼 파라미터 튜닝을 한 번에\n",
    "  - 하이퍼 파라미터 : 하이퍼 파라미터는 머신러닝 알고리즘을 구성하는 주요 구성 요소이며, 이 값을 조정해 알고리즘의 예측 성능을 개선할 수 있다."
   ]
  },
  {
   "cell_type": "markdown",
   "id": "50f389a5-2937-4cb6-a915-6c2014bdd7cf",
   "metadata": {},
   "source": [
    "- GridSearchCV는 교차 검증을 기반으로 이 하이퍼 파라미터의 최적 값을 찾게 해준다."
   ]
  },
  {
   "cell_type": "code",
   "execution_count": 15,
   "id": "7c0d5388-258a-4bf0-ae1a-723a37418943",
   "metadata": {},
   "outputs": [],
   "source": [
    "from sklearn.datasets import load_iris\n",
    "from sklearn.tree import DecisionTreeClassifier\n",
    "from sklearn.model_selection import GridSearchCV, train_test_split\n",
    "from sklearn.metrics import accuracy_score\n",
    "\n",
    "# 데이터를 로딩하고 학습데이터와 테스트 데이터 분리\n",
    "iris = load_iris()\n",
    "X_train, X_test, y_train, y_test = train_test_split(iris_data.data, iris_data.target, \n",
    "                                                    test_size=0.2, random_state=121)\n",
    "dtree = DecisionTreeClassifier() # 데이터 분리에서 random_state = 121, 설정해줘서 모델 객체 생성시 seed값 재설정 안 해주는 듯\n",
    "\n",
    "### parameter 들을 dictionary 형태로 설정\n",
    "parameters = {'max_depth' : [1, 2, 3], 'min_samples_split' : [2,3]}\n",
    "# 하이퍼 파라미터 명칭은 문자열 key 값으로, 하이퍼 파라미터의 값은 list형으로 생성한다. "
   ]
  },
  {
   "cell_type": "code",
   "execution_count": 17,
   "id": "045983ea-f113-493b-9f6f-243dc090fd97",
   "metadata": {},
   "outputs": [
    {
     "data": {
      "text/html": [
       "<div>\n",
       "<style scoped>\n",
       "    .dataframe tbody tr th:only-of-type {\n",
       "        vertical-align: middle;\n",
       "    }\n",
       "\n",
       "    .dataframe tbody tr th {\n",
       "        vertical-align: top;\n",
       "    }\n",
       "\n",
       "    .dataframe thead th {\n",
       "        text-align: right;\n",
       "    }\n",
       "</style>\n",
       "<table border=\"1\" class=\"dataframe\">\n",
       "  <thead>\n",
       "    <tr style=\"text-align: right;\">\n",
       "      <th></th>\n",
       "      <th>params</th>\n",
       "      <th>mean_test_score</th>\n",
       "      <th>rank_test_score</th>\n",
       "      <th>split0_test_score</th>\n",
       "      <th>split1_test_score</th>\n",
       "      <th>split2_test_score</th>\n",
       "    </tr>\n",
       "  </thead>\n",
       "  <tbody>\n",
       "    <tr>\n",
       "      <th>0</th>\n",
       "      <td>{'max_depth': 1, 'min_samples_split': 2}</td>\n",
       "      <td>0.700000</td>\n",
       "      <td>5</td>\n",
       "      <td>0.700</td>\n",
       "      <td>0.7</td>\n",
       "      <td>0.70</td>\n",
       "    </tr>\n",
       "    <tr>\n",
       "      <th>1</th>\n",
       "      <td>{'max_depth': 1, 'min_samples_split': 3}</td>\n",
       "      <td>0.700000</td>\n",
       "      <td>5</td>\n",
       "      <td>0.700</td>\n",
       "      <td>0.7</td>\n",
       "      <td>0.70</td>\n",
       "    </tr>\n",
       "    <tr>\n",
       "      <th>2</th>\n",
       "      <td>{'max_depth': 2, 'min_samples_split': 2}</td>\n",
       "      <td>0.958333</td>\n",
       "      <td>3</td>\n",
       "      <td>0.925</td>\n",
       "      <td>1.0</td>\n",
       "      <td>0.95</td>\n",
       "    </tr>\n",
       "    <tr>\n",
       "      <th>3</th>\n",
       "      <td>{'max_depth': 2, 'min_samples_split': 3}</td>\n",
       "      <td>0.958333</td>\n",
       "      <td>3</td>\n",
       "      <td>0.925</td>\n",
       "      <td>1.0</td>\n",
       "      <td>0.95</td>\n",
       "    </tr>\n",
       "    <tr>\n",
       "      <th>4</th>\n",
       "      <td>{'max_depth': 3, 'min_samples_split': 2}</td>\n",
       "      <td>0.975000</td>\n",
       "      <td>1</td>\n",
       "      <td>0.975</td>\n",
       "      <td>1.0</td>\n",
       "      <td>0.95</td>\n",
       "    </tr>\n",
       "    <tr>\n",
       "      <th>5</th>\n",
       "      <td>{'max_depth': 3, 'min_samples_split': 3}</td>\n",
       "      <td>0.975000</td>\n",
       "      <td>1</td>\n",
       "      <td>0.975</td>\n",
       "      <td>1.0</td>\n",
       "      <td>0.95</td>\n",
       "    </tr>\n",
       "  </tbody>\n",
       "</table>\n",
       "</div>"
      ],
      "text/plain": [
       "                                     params  mean_test_score  rank_test_score  \\\n",
       "0  {'max_depth': 1, 'min_samples_split': 2}         0.700000                5   \n",
       "1  {'max_depth': 1, 'min_samples_split': 3}         0.700000                5   \n",
       "2  {'max_depth': 2, 'min_samples_split': 2}         0.958333                3   \n",
       "3  {'max_depth': 2, 'min_samples_split': 3}         0.958333                3   \n",
       "4  {'max_depth': 3, 'min_samples_split': 2}         0.975000                1   \n",
       "5  {'max_depth': 3, 'min_samples_split': 3}         0.975000                1   \n",
       "\n",
       "   split0_test_score  split1_test_score  split2_test_score  \n",
       "0              0.700                0.7               0.70  \n",
       "1              0.700                0.7               0.70  \n",
       "2              0.925                1.0               0.95  \n",
       "3              0.925                1.0               0.95  \n",
       "4              0.975                1.0               0.95  \n",
       "5              0.975                1.0               0.95  "
      ]
     },
     "execution_count": 17,
     "metadata": {},
     "output_type": "execute_result"
    }
   ],
   "source": [
    "import pandas as pd\n",
    "\n",
    "# param_grid의 하이퍼 파라미터들을 3개의 train, (검증)test set fold 로 나누어서 테스트 수행 설정.  \n",
    "# refit=True 가 default 임. True이면 가장 좋은 파라미터 설정으로 재 학습 시킴. \n",
    "# re,fit 말 그대로 다시 fit\n",
    "# return_train_score=True -> 훈련 점수 포함 여부 \n",
    "# 객체 생성 중\n",
    "grid_dtree = GridSearchCV(dtree, param_grid=parameters, cv=3, refit=True, return_train_score=True)\n",
    "# cross_val_score()와 같은 evaluation 함수, GridSearchCV와 같은 하이퍼 파라미터 튜닝을 지원하는 클래스의 경우 이 Estimator를 인자로 받는다. \n",
    "# 여기서는 dtree = DecisionTreeClassifier()를 인자로서 받았다. \n",
    "# 인자로 받은 Estimator에 대해서(여기서는 dtree) cross_val_score(), GridSearchCV.fit() 함수 내에서 \n",
    "# 이 Estimator의 fit()과 predict()를 호출해서 평가를 하거나 하이퍼 파라미터 튜닝을 수행하는 것이다.***\n",
    "\n",
    "\n",
    "\n",
    "\n",
    "# 붓꽃 Train 데이터로 param_grid의 하이퍼 파라미터들을 순차적으로 학습/평가 .\n",
    "grid_dtree.fit(X_train, y_train)\n",
    "\n",
    "# GridSearchCV 결과는 cv_results_ 라는 딕셔너리로 저장됨. 이를 DataFrame으로 변환\n",
    "scores_df = pd.DataFrame(grid_dtree.cv_results_)\n",
    "scores_df[['params', 'mean_test_score', 'rank_test_score', \n",
    "           'split0_test_score', 'split1_test_score', 'split2_test_score']]"
   ]
  },
  {
   "cell_type": "markdown",
   "id": "e5699595-3c32-4ea3-b597-dd98e479a185",
   "metadata": {},
   "source": [
    "- 4 row가 1등.\n",
    "- 이때 파라미터가 최적의 하이퍼 파라미터임을 알 수 있다. \n",
    "- mean_test_score는 개별 하이퍼 파라미터별로 CV의 폴딩 테스트 세트에 대해 총 수행한 평가 평균값이다. "
   ]
  },
  {
   "cell_type": "code",
   "execution_count": 19,
   "id": "57a5a20a-92c7-48db-bf75-ad7066f59024",
   "metadata": {},
   "outputs": [],
   "source": [
    "# grid_dtree.cv_results_"
   ]
  },
  {
   "cell_type": "code",
   "execution_count": 22,
   "id": "fba631fa-f589-494d-a455-2f300dc200cc",
   "metadata": {},
   "outputs": [
    {
     "name": "stdout",
     "output_type": "stream",
     "text": [
      "GridSearchCV 최적 파라미터: {'max_depth': 3, 'min_samples_split': 2}\n",
      "GridSearchCV 최고 정확도: 0.9750\n",
      "테스트 데이터 세트 정확도: 0.9667\n"
     ]
    }
   ],
   "source": [
    "print('GridSearchCV 최적 파라미터:', grid_dtree.best_params_)\n",
    "print('GridSearchCV 최고 정확도: {0:.4f}'.format(grid_dtree.best_score_))\n",
    "\n",
    "# refit=True로 설정된 GridSearchCV 객체가 fit()을 수행 시 학습이 완료된 Estimator를 내포하고 있으므로 predict()를 통해 예측도 가능. \n",
    "pred = grid_dtree.predict(X_test) # 예측\n",
    "print('테스트 데이터 세트 정확도: {0:.4f}'.format(accuracy_score(y_test,pred))) # 이건 검증 데이터 세트가 아니라 별도의 최종 테스트 데이터 세트임"
   ]
  },
  {
   "cell_type": "markdown",
   "id": "9318da03-d3c9-4fba-b8d0-31b293b6c6a2",
   "metadata": {},
   "source": [
    "---"
   ]
  },
  {
   "cell_type": "markdown",
   "id": "ec9cccc1-f69c-49f6-8626-7f2d9ef38169",
   "metadata": {},
   "source": [
    "- 데이터 전처리\n",
    "  - Null, NaN 값 처리\n",
    "    - 파이썬에서 Null, NaN값이 의미하는 건 미세하게 다름\n",
    "    - R에선 NA임\n",
    "  - 문자열 값 처리(by encoding)"
   ]
  },
  {
   "cell_type": "markdown",
   "id": "f539bb76-e61c-467a-8ac3-860a41f26fd0",
   "metadata": {},
   "source": [
    "- data encoding\n",
    "  - Label encoding\n",
    "  - One-Hot encoding"
   ]
  },
  {
   "cell_type": "markdown",
   "id": "8c1f3393-70c4-4185-a147-6c6d91f22261",
   "metadata": {},
   "source": [
    "----"
   ]
  },
  {
   "cell_type": "markdown",
   "id": "dd27442c-2782-4846-af63-830ce7c5b674",
   "metadata": {},
   "source": [
    "- Label encoding"
   ]
  },
  {
   "cell_type": "code",
   "execution_count": 99,
   "id": "b4f093e8-1495-443a-9990-69a50717a559",
   "metadata": {},
   "outputs": [
    {
     "name": "stdout",
     "output_type": "stream",
     "text": [
      "인코딩 변환값: [0 1 4 5 3 3 2 2]\n"
     ]
    }
   ],
   "source": [
    "from sklearn.preprocessing import LabelEncoder\n",
    "\n",
    "items=['TV','냉장고','전자렌지','컴퓨터','선풍기','선풍기','믹서','믹서']\n",
    "\n",
    "# LabelEncoder를 객체로 생성한 후 , fit( ) 과 transform( ) 으로 label 인코딩 수행. \n",
    "encoder = LabelEncoder() # 객체 생성\n",
    "encoder.fit(items) # 사전 구조 맞추는 작업정도로 생각하면 될듯.\n",
    "labels = encoder.transform(items)\n",
    "print('인코딩 변환값:',labels)"
   ]
  },
  {
   "cell_type": "code",
   "execution_count": 100,
   "id": "805558c9-9a13-4fa3-a602-eaf07057f245",
   "metadata": {},
   "outputs": [
    {
     "name": "stdout",
     "output_type": "stream",
     "text": [
      "인코딩 클래스: ['TV' '냉장고' '믹서' '선풍기' '전자렌지' '컴퓨터']\n"
     ]
    }
   ],
   "source": [
    "print('인코딩 클래스:', encoder.classes_)"
   ]
  },
  {
   "cell_type": "markdown",
   "id": "8cfe8a3c-c24a-4bcf-af06-9d77324bbac6",
   "metadata": {},
   "source": [
    "- 순서대로 0,1,2,3,4,5이다."
   ]
  },
  {
   "cell_type": "code",
   "execution_count": 25,
   "id": "f0517750-9975-4c1f-a946-9d2ab6ce297b",
   "metadata": {},
   "outputs": [
    {
     "name": "stdout",
     "output_type": "stream",
     "text": [
      "디코딩하여 원본값 확인 : ['전자렌지' '컴퓨터' '컴퓨터' '전자렌지' '컴퓨터' '믹서' '냉장고' 'TV' 'TV']\n"
     ]
    }
   ],
   "source": [
    "print('디코딩하여 원본값 확인 :' ,encoder.inverse_transform([4,5,5,4,5,2,1,0,0]))"
   ]
  },
  {
   "cell_type": "markdown",
   "id": "44175778-9e8a-468f-a8bf-69cb9dfd3794",
   "metadata": {},
   "source": [
    "- label encoding ***`### 주의`***\n",
    "  - TV의 숫자코드는 0, 컴퓨터의 숫자코드는 5\n",
    "  - 이때 ML알고리즘에서 컴퓨터(숫자코드 5)를 더 중요하게 인식할 가능성이 발생\n",
    "    - `해결책 : One-Hot Encoding`\n",
    "    - 주의`` : One-Hot Encoding으로 변환하기 전에 모든 문자열 값이 숫자형 값으로 변환돼야 한다.0\n",
    "      -  그런데 사실 pandas의 내장함수기능, get_dummies을 이용하면 간단하게 해결이 가능하다.\n",
    "      - 이때 LabelEncoder를 사용함\n",
    "    - 주의`` : 입력 값으로 2차원 데이터가 필요하다.\n",
    "      - reshape 함수를 이용한다.\n",
    "  - 따라서 label encoding은 선형회귀와 같은 ML 알고리즘에는 적용 X\n",
    "    - 숫자 코드 5를 더 중시할 수 있는 가능성이 있기 때문에\n",
    "  - 트리계열의 ML알고리즘은 숫자의 이러한 특성을 반영하지 않으므로 label encoding도 문제 없다. "
   ]
  },
  {
   "cell_type": "code",
   "execution_count": 104,
   "id": "53ecfeb4-c8e7-4a8e-bd93-65e38307dc69",
   "metadata": {},
   "outputs": [],
   "source": [
    "from sklearn.preprocessing import OneHotEncoder\n",
    "import numpy as np\n",
    "\n",
    "items=['TV','냉장고','전자렌지','컴퓨터','선풍기','선풍기','믹서','믹서']\n",
    "\n",
    "# 먼저 숫자값으로 변환을 위해 LabelEncoder로 변환합니다. \n",
    "encoder = LabelEncoder()\n",
    "encoder.fit(items)\n",
    "labels = encoder.transform(items)"
   ]
  },
  {
   "cell_type": "code",
   "execution_count": 107,
   "id": "b307dd52-956d-4052-a75a-7c662393a0f5",
   "metadata": {},
   "outputs": [
    {
     "data": {
      "text/plain": [
       "array([0, 1, 4, 5, 3, 3, 2, 2], dtype=int64)"
      ]
     },
     "execution_count": 107,
     "metadata": {},
     "output_type": "execute_result"
    }
   ],
   "source": [
    "labels\n",
    "# 현재는 1차원 데이터이다. \n",
    "# 2차원 데이터로 변경해준다.\n",
    "# labels.reshape(-1,1)\n",
    "# 1열로 배열 \n",
    "# 몇행이 될진 몰?루"
   ]
  },
  {
   "cell_type": "code",
   "execution_count": 102,
   "id": "93c48d39-6654-4cfa-a8e8-f62052fcffe0",
   "metadata": {},
   "outputs": [
    {
     "name": "stdout",
     "output_type": "stream",
     "text": [
      "원-핫 인코딩 데이터\n",
      "[[1. 0. 0. 0. 0. 0.]\n",
      " [0. 1. 0. 0. 0. 0.]\n",
      " [0. 0. 0. 0. 1. 0.]\n",
      " [0. 0. 0. 0. 0. 1.]\n",
      " [0. 0. 0. 1. 0. 0.]\n",
      " [0. 0. 0. 1. 0. 0.]\n",
      " [0. 0. 1. 0. 0. 0.]\n",
      " [0. 0. 1. 0. 0. 0.]]\n",
      "원-핫 인코딩 데이터 차원\n",
      "(8, 6)\n"
     ]
    }
   ],
   "source": [
    "from sklearn.preprocessing import OneHotEncoder\n",
    "import numpy as np\n",
    "\n",
    "items=['TV','냉장고','전자렌지','컴퓨터','선풍기','선풍기','믹서','믹서']\n",
    "\n",
    "# 먼저 숫자값으로 변환을 위해 LabelEncoder로 변환합니다. \n",
    "encoder = LabelEncoder()\n",
    "encoder.fit(items)\n",
    "labels = encoder.transform(items)\n",
    "# labels는 ndarray임\n",
    "\n",
    "# 2차원 데이터로 변환합니다.\n",
    "# numpy 함수 중 reshape 사용\n",
    "labels = labels.reshape(-1,1)\n",
    "# reshape(-1,1)\n",
    "# 행은 상관하지 않고, 무조건 1열로 만들겠다.\n",
    "\n",
    "# 원-핫 인코딩을 적용합니다. \n",
    "oh_encoder = OneHotEncoder()\n",
    "oh_encoder.fit(labels)\n",
    "oh_labels = oh_encoder.transform(labels)\n",
    "# oh_labels의 type은 scipy.sparse.csr.csr_matrix\n",
    "\n",
    "\n",
    "print('원-핫 인코딩 데이터')\n",
    "print(oh_labels.toarray()) # ndarray로 변환 !\n",
    "print('원-핫 인코딩 데이터 차원')\n",
    "print(oh_labels.shape)"
   ]
  },
  {
   "cell_type": "markdown",
   "id": "56d9f2b7-5fc4-41f6-b87e-6ab6488464fb",
   "metadata": {},
   "source": [
    "- pandas의 get_dummies()를 이용하여 원-핫 인코딩을 더 손 쉽게 수행해보자\n",
    "  - 숫자형으로 변환할 필요 없이 바로 변환할 수 있다. "
   ]
  },
  {
   "cell_type": "code",
   "execution_count": 37,
   "id": "42d1b0d2-0233-4f57-a631-939e6ea59fa4",
   "metadata": {},
   "outputs": [
    {
     "data": {
      "text/html": [
       "<div>\n",
       "<style scoped>\n",
       "    .dataframe tbody tr th:only-of-type {\n",
       "        vertical-align: middle;\n",
       "    }\n",
       "\n",
       "    .dataframe tbody tr th {\n",
       "        vertical-align: top;\n",
       "    }\n",
       "\n",
       "    .dataframe thead th {\n",
       "        text-align: right;\n",
       "    }\n",
       "</style>\n",
       "<table border=\"1\" class=\"dataframe\">\n",
       "  <thead>\n",
       "    <tr style=\"text-align: right;\">\n",
       "      <th></th>\n",
       "      <th>item</th>\n",
       "    </tr>\n",
       "  </thead>\n",
       "  <tbody>\n",
       "    <tr>\n",
       "      <th>0</th>\n",
       "      <td>TV</td>\n",
       "    </tr>\n",
       "    <tr>\n",
       "      <th>1</th>\n",
       "      <td>냉장고</td>\n",
       "    </tr>\n",
       "    <tr>\n",
       "      <th>2</th>\n",
       "      <td>전자렌지</td>\n",
       "    </tr>\n",
       "    <tr>\n",
       "      <th>3</th>\n",
       "      <td>컴퓨터</td>\n",
       "    </tr>\n",
       "    <tr>\n",
       "      <th>4</th>\n",
       "      <td>선풍기</td>\n",
       "    </tr>\n",
       "    <tr>\n",
       "      <th>5</th>\n",
       "      <td>선풍기</td>\n",
       "    </tr>\n",
       "    <tr>\n",
       "      <th>6</th>\n",
       "      <td>믹서</td>\n",
       "    </tr>\n",
       "    <tr>\n",
       "      <th>7</th>\n",
       "      <td>믹서</td>\n",
       "    </tr>\n",
       "  </tbody>\n",
       "</table>\n",
       "</div>"
      ],
      "text/plain": [
       "   item\n",
       "0    TV\n",
       "1   냉장고\n",
       "2  전자렌지\n",
       "3   컴퓨터\n",
       "4   선풍기\n",
       "5   선풍기\n",
       "6    믹서\n",
       "7    믹서"
      ]
     },
     "execution_count": 37,
     "metadata": {},
     "output_type": "execute_result"
    }
   ],
   "source": [
    "import pandas as pd\n",
    "\n",
    "df = pd.DataFrame({'item':['TV','냉장고','전자렌지','컴퓨터','선풍기','선풍기','믹서','믹서'] })\n",
    "df"
   ]
  },
  {
   "cell_type": "code",
   "execution_count": 38,
   "id": "985f516d-1d21-4218-acef-afc54e15c2f3",
   "metadata": {},
   "outputs": [
    {
     "data": {
      "text/html": [
       "<div>\n",
       "<style scoped>\n",
       "    .dataframe tbody tr th:only-of-type {\n",
       "        vertical-align: middle;\n",
       "    }\n",
       "\n",
       "    .dataframe tbody tr th {\n",
       "        vertical-align: top;\n",
       "    }\n",
       "\n",
       "    .dataframe thead th {\n",
       "        text-align: right;\n",
       "    }\n",
       "</style>\n",
       "<table border=\"1\" class=\"dataframe\">\n",
       "  <thead>\n",
       "    <tr style=\"text-align: right;\">\n",
       "      <th></th>\n",
       "      <th>item_TV</th>\n",
       "      <th>item_냉장고</th>\n",
       "      <th>item_믹서</th>\n",
       "      <th>item_선풍기</th>\n",
       "      <th>item_전자렌지</th>\n",
       "      <th>item_컴퓨터</th>\n",
       "    </tr>\n",
       "  </thead>\n",
       "  <tbody>\n",
       "    <tr>\n",
       "      <th>0</th>\n",
       "      <td>1</td>\n",
       "      <td>0</td>\n",
       "      <td>0</td>\n",
       "      <td>0</td>\n",
       "      <td>0</td>\n",
       "      <td>0</td>\n",
       "    </tr>\n",
       "    <tr>\n",
       "      <th>1</th>\n",
       "      <td>0</td>\n",
       "      <td>1</td>\n",
       "      <td>0</td>\n",
       "      <td>0</td>\n",
       "      <td>0</td>\n",
       "      <td>0</td>\n",
       "    </tr>\n",
       "    <tr>\n",
       "      <th>2</th>\n",
       "      <td>0</td>\n",
       "      <td>0</td>\n",
       "      <td>0</td>\n",
       "      <td>0</td>\n",
       "      <td>1</td>\n",
       "      <td>0</td>\n",
       "    </tr>\n",
       "    <tr>\n",
       "      <th>3</th>\n",
       "      <td>0</td>\n",
       "      <td>0</td>\n",
       "      <td>0</td>\n",
       "      <td>0</td>\n",
       "      <td>0</td>\n",
       "      <td>1</td>\n",
       "    </tr>\n",
       "    <tr>\n",
       "      <th>4</th>\n",
       "      <td>0</td>\n",
       "      <td>0</td>\n",
       "      <td>0</td>\n",
       "      <td>1</td>\n",
       "      <td>0</td>\n",
       "      <td>0</td>\n",
       "    </tr>\n",
       "    <tr>\n",
       "      <th>5</th>\n",
       "      <td>0</td>\n",
       "      <td>0</td>\n",
       "      <td>0</td>\n",
       "      <td>1</td>\n",
       "      <td>0</td>\n",
       "      <td>0</td>\n",
       "    </tr>\n",
       "    <tr>\n",
       "      <th>6</th>\n",
       "      <td>0</td>\n",
       "      <td>0</td>\n",
       "      <td>1</td>\n",
       "      <td>0</td>\n",
       "      <td>0</td>\n",
       "      <td>0</td>\n",
       "    </tr>\n",
       "    <tr>\n",
       "      <th>7</th>\n",
       "      <td>0</td>\n",
       "      <td>0</td>\n",
       "      <td>1</td>\n",
       "      <td>0</td>\n",
       "      <td>0</td>\n",
       "      <td>0</td>\n",
       "    </tr>\n",
       "  </tbody>\n",
       "</table>\n",
       "</div>"
      ],
      "text/plain": [
       "   item_TV  item_냉장고  item_믹서  item_선풍기  item_전자렌지  item_컴퓨터\n",
       "0        1         0        0         0          0         0\n",
       "1        0         1        0         0          0         0\n",
       "2        0         0        0         0          1         0\n",
       "3        0         0        0         0          0         1\n",
       "4        0         0        0         1          0         0\n",
       "5        0         0        0         1          0         0\n",
       "6        0         0        1         0          0         0\n",
       "7        0         0        1         0          0         0"
      ]
     },
     "execution_count": 38,
     "metadata": {},
     "output_type": "execute_result"
    }
   ],
   "source": [
    "pd.get_dummies(df)"
   ]
  },
  {
   "cell_type": "markdown",
   "id": "b675ae22-e249-4907-b97c-7636f350bb5c",
   "metadata": {},
   "source": [
    "---"
   ]
  },
  {
   "cell_type": "markdown",
   "id": "cd7f08f9-65cc-41f1-be6d-d24975015339",
   "metadata": {
    "tags": []
   },
   "source": [
    "- 이어서 다음 날\n",
    "\n",
    "- 피처 스케일링과 정규화\n",
    "  - ####  `피처 스케일링` : 서로 다른 변수의 값 범위를 일정한 수준으로 맞추는 작업, `표준화`와 `정규화`가 있다. \n",
    "  - 각 피처를 평균이 0이고, 분산이 1인 가우시안 정규분포를 가진 값으로 변환하는 것\n",
    "  - 개별 데이터의 크기를 모두 똑같은 단위로 변경하는 것"
   ]
  },
  {
   "cell_type": "markdown",
   "id": "4a8ea243-a57e-4f02-ab6b-7f8ab24fda1f",
   "metadata": {},
   "source": [
    "- 사이킷런에서의 정규화는 선형대수에서의 정규화 개념이 적용됨.\n",
    "  - 개별 벡터를 모든 피처 벡터의 크기로 나눠준다.\n",
    "  - 이 개념을 `벡터 정규화`라 칭하자"
   ]
  },
  {
   "cell_type": "markdown",
   "id": "647d30b3-b420-482d-b48e-c5f4d11fc92c",
   "metadata": {},
   "source": [
    "- 사이킷런에서 구현한 RBF 커널을 이용하는 서포트 벡터 머신(이하 SVM), 선형 회귀, 로지스틱 회귀는 데이터가 가우시안 분포를 가지고 있다고 가정하고 구현됐기 때문에 사전에 표준화를 적용하는 것은 예측 성능 향상에 중요한 요소가 될 수 있다. "
   ]
  },
  {
   "cell_type": "code",
   "execution_count": 108,
   "id": "346e247d-8d8a-4ca2-92be-e18651dc43f6",
   "metadata": {},
   "outputs": [
    {
     "name": "stdout",
     "output_type": "stream",
     "text": [
      "feature들의 평균 값:\n",
      " sepal length (cm)    5.843333\n",
      "sepal width (cm)     3.057333\n",
      "petal length (cm)    3.758000\n",
      "petal width (cm)     1.199333\n",
      "dtype: float64\n",
      "\n",
      "feature들의 분산 값:\n",
      " sepal length (cm)    0.685694\n",
      "sepal width (cm)     0.189979\n",
      "petal length (cm)    3.116278\n",
      "petal width (cm)     0.581006\n",
      "dtype: float64\n"
     ]
    }
   ],
   "source": [
    "from sklearn.datasets import load_iris\n",
    "import pandas as pd\n",
    "\n",
    "# 붓꽃 데이터 세트를 로딩하고 DataFrame으로 변환한다. \n",
    "iris = load_iris()\n",
    "iris_data = iris.data\n",
    "iris_df = pd.DataFrame(data = iris_data, columns = iris.feature_names)\n",
    "\n",
    "print('feature들의 평균 값:\\n',iris_df.mean())\n",
    "print('\\nfeature들의 분산 값:\\n',iris_df.var())\n",
    "# pd.DataFrame에서 그냥 바로 mean()같은 함수 사용 가능!"
   ]
  },
  {
   "cell_type": "markdown",
   "id": "c1db2705-6436-4b50-9488-1d450e81d65d",
   "metadata": {},
   "source": [
    "- 표준화하여 평균과 분산이 각각 0,1로 변환되는지 확인해보자"
   ]
  },
  {
   "cell_type": "code",
   "execution_count": 12,
   "id": "c5c76dbb-369b-4fb8-9c92-e262666b3096",
   "metadata": {},
   "outputs": [
    {
     "name": "stdout",
     "output_type": "stream",
     "text": [
      "feature 들의 평균 값\n",
      "sepal length (cm)   -1.690315e-15\n",
      "sepal width (cm)    -1.842970e-15\n",
      "petal length (cm)   -1.698641e-15\n",
      "petal width (cm)    -1.409243e-15\n",
      "dtype: float64\n",
      "\n",
      "feature 들의 분산 값\n",
      "sepal length (cm)    1.006711\n",
      "sepal width (cm)     1.006711\n",
      "petal length (cm)    1.006711\n",
      "petal width (cm)     1.006711\n",
      "dtype: float64\n"
     ]
    }
   ],
   "source": [
    "from sklearn.preprocessing import StandardScaler\n",
    "\n",
    "# StandardScaler객체 생성\n",
    "scaler = StandardScaler()\n",
    "\n",
    "# StandardScaler 로 데이터 셋 변환. fit( ) 과 transform( ) 호출. \n",
    "scaler.fit(iris_df) \n",
    "# fit은 데이터 변환을 위한 기준 정보 설정 (예를 들어 데이터 세트의 최솟값/최댓값 설정 혹은 평균과 분산 설정 등)\n",
    "iris_scaled = scaler.transform(iris_df) \n",
    "# transform은 이렇게 설정된 정보를 이용해 데이터를 변환한다. \n",
    "#transform( )시 scale 변환된 데이터 셋이 numpy ndarry로 반환되어 이를 DataFrame으로 변환\n",
    "\n",
    "iris_df_scaled = pd.DataFrame(data=iris_scaled, columns=iris.feature_names)\n",
    "print('feature 들의 평균 값')\n",
    "print(iris_df_scaled.mean())\n",
    "print('\\nfeature 들의 분산 값')\n",
    "print(iris_df_scaled.var())"
   ]
  },
  {
   "cell_type": "markdown",
   "id": "dc9bab29-cddf-48bf-ac4d-0713c51bf4fc",
   "metadata": {},
   "source": [
    "- 모든 칼럼 값의 평균이 0에 아주 가까운 값으로, 그리고 분산은 1에 아주 가까운 값으로 변환됐음을 확인할 수 있다. "
   ]
  },
  {
   "cell_type": "markdown",
   "id": "f8af643b-29fe-4800-bcd7-81592e496620",
   "metadata": {},
   "source": [
    "---"
   ]
  },
  {
   "cell_type": "markdown",
   "id": "4a78d97b-fc02-4329-84b3-26312eb391fd",
   "metadata": {},
   "source": [
    "- MinMaxScaler\n",
    "  - 데이터값을 0과 1사이의 범위 값으로 변환한다. \n",
    "  - 만약 음수값이 일부 존재한다면 데이터 값을 -1과 1사이의 범위 값으로 변환한다. \n",
    "  - 데이터의 분포가 가우시안 분포가 아닐 경우에 MinMaxScaler를 적용해 볼 수 있다. "
   ]
  },
  {
   "cell_type": "code",
   "execution_count": 13,
   "id": "e3c3664d-46a5-40de-b939-56e759655a69",
   "metadata": {},
   "outputs": [
    {
     "name": "stdout",
     "output_type": "stream",
     "text": [
      "feature들의 최소 값\n",
      "sepal length (cm)    0.0\n",
      "sepal width (cm)     0.0\n",
      "petal length (cm)    0.0\n",
      "petal width (cm)     0.0\n",
      "dtype: float64\n",
      "\n",
      "feature들의 최대 값\n",
      "sepal length (cm)    1.0\n",
      "sepal width (cm)     1.0\n",
      "petal length (cm)    1.0\n",
      "petal width (cm)     1.0\n",
      "dtype: float64\n"
     ]
    }
   ],
   "source": [
    "from sklearn.preprocessing import MinMaxScaler\n",
    "\n",
    "# MinMaxScaler객체 생성\n",
    "scaler = MinMaxScaler()\n",
    "\n",
    "# MinMaxScaler 로 데이터 셋 변환. fit() 과 transform() 호출.  \n",
    "scaler.fit(iris_df)\n",
    "iris_scaled = scaler.transform(iris_df)\n",
    "\n",
    "# transform()시 scale 변환된 데이터 셋이 numpy ndarry로 반환되어 이를 DataFrame으로 변환\n",
    "iris_df_scaled = pd.DataFrame(data=iris_scaled, columns=iris.feature_names)\n",
    "print('feature들의 최소 값')\n",
    "print(iris_df_scaled.min())\n",
    "print('\\nfeature들의 최대 값')\n",
    "print(iris_df_scaled.max())"
   ]
  },
  {
   "cell_type": "markdown",
   "id": "bfeda2af-b49d-4173-86bf-ff6199c7b74c",
   "metadata": {},
   "source": [
    "- 모든 칼럼에 0에서 1사이의 값으로 변환되는 스케일링이 적용됐음을 알 수 있다. "
   ]
  },
  {
   "cell_type": "markdown",
   "id": "a5ea8def-d8f5-4d13-814e-9a24a5ec9dd8",
   "metadata": {},
   "source": [
    "### ***`주의`***\n",
    "  - 학습 데이터 세트와 테스트 데이터 세트에 이 fit()과 transform()을 적용할 때 주의가 필요\n",
    "  - Scaler 객체를 이용해 학습 데이터 세트로 fit()과 transform()을 적용하면 테스트 데이터 세트로는 다시 fit()을 수행하지 않고 학습 데이터 세트로 fit()을 수행한 결과를 이용해 transform() 변환을 적용해야 한다. \n",
    "  - 즉, 학습 데이터로 fit()이 적용된 스케일링 기준 정보를 그대로 테스트 데이터에 적용해야 하며, 그렇지 않고 테스트 데이터로 다시 새로운 스케일링 기준 정보를 만들게 되면 학습 데이터와 테스트 데이터의 스케일링 기준 정보가 서로 달라지기 때문에 올바른 예측 결과를 도출하지 못할 수 있다. "
   ]
  },
  {
   "cell_type": "markdown",
   "id": "b9050fc6-572d-4672-9a02-fcda3d10dfb9",
   "metadata": {},
   "source": [
    "- 테스트 데이터에 fit()을 적용할 때 생기는 문제점에 대해 알아보자"
   ]
  },
  {
   "cell_type": "markdown",
   "id": "78e409d4-bca4-49d9-9cab-000319a895fe",
   "metadata": {},
   "source": [
    "- 일단 학습 데이터를 변환해보자"
   ]
  },
  {
   "cell_type": "code",
   "execution_count": 26,
   "id": "7e343e0b-48b0-4720-ace9-33245f157de8",
   "metadata": {},
   "outputs": [
    {
     "name": "stdout",
     "output_type": "stream",
     "text": [
      "원본 데이터 :  [ 0  1  2  3  4  5  6  7  8  9 10]\n",
      "scaled 데이터 :  [0.  0.1 0.2 0.3 0.4 0.5 0.6 0.7 0.8 0.9 1. ]\n"
     ]
    }
   ],
   "source": [
    "import numpy as np\n",
    "\n",
    "# 학습 데이터는 0부터 10까지, 테스트 데이터는 0부터 5까지 값을 가지는 데이터 세트로 생성\n",
    "# Scaler 클래스의 fit()과 transform()은 2차원 이상 데이터만 가능하므로 reshape(-1,1)로 차원 변환해야 한다.\n",
    "train_array = np.arange(0,11).reshape(-1,1) # 1열로 배열\n",
    "test_array = np.arange(0,6).reshape(-1,1) # 1열로 배열\n",
    "\n",
    "from sklearn.preprocessing import MinMaxScaler\n",
    "scaler = MinMaxScaler()\n",
    "\n",
    "scaler.fit(train_array)\n",
    "train_scaled = scaler.transform(train_array)\n",
    "\n",
    "print('원본 데이터 : ', np.round(train_array.reshape(-1),2))\n",
    "print('scaled 데이터 : ', np.round(train_scaled.reshape(-1),2))"
   ]
  },
  {
   "cell_type": "markdown",
   "id": "b227e35d-c840-4039-b176-a0ef835f9120",
   "metadata": {},
   "source": [
    "- 이제 테스트 데이터에 fit을 적용하여 테스트 데이터도 변환해보자"
   ]
  },
  {
   "cell_type": "code",
   "execution_count": 32,
   "id": "6352a048-85e7-4e61-9246-99264cc1b2bf",
   "metadata": {},
   "outputs": [
    {
     "name": "stdout",
     "output_type": "stream",
     "text": [
      "원본 데이터 : [0 1 2 3 4 5]\n",
      "scaled 데이터 : [0.  0.2 0.4 0.6 0.8 1. ]\n"
     ]
    }
   ],
   "source": [
    "scaler.fit(test_array) # 테스트 데이터에도 새롭게 fit을 수행 中\n",
    "test_scaled = scaler.transform(test_array)\n",
    "\n",
    "print('원본 데이터 :', np.round(test_array.reshape(-1),2))\n",
    "print('scaled 데이터 :', np.round(test_scaled.reshape(-1),2))"
   ]
  },
  {
   "cell_type": "markdown",
   "id": "8f888fb1-7373-471a-b6b0-1ce1d77ae72e",
   "metadata": {},
   "source": [
    "- 즉, 원본 데이터에서는 1이 0.1로 테스트 데이터에서는 1이 0.2로 변환된 것을 알 수 있다. \n",
    "- 머신러닝 모델은 학습 데이터를 기반으로 학습되기 때문에, 반드시 테스트 데이터는 학습 데이터의 스케일링 기준에 따라야 하며, 테스트 데이터의 1값은 학습 데이터와 동일하게 0,1값으로 변환돼야 한다. "
   ]
  },
  {
   "cell_type": "markdown",
   "id": "6e3391c3-2fbc-4b52-8f4c-1439a442e389",
   "metadata": {},
   "source": [
    "> 결론 : 이미 fit()이 적용된 Scaler객체를 이용하여 transform()으로 변환해야 한다. "
   ]
  },
  {
   "cell_type": "code",
   "execution_count": 33,
   "id": "77bedf00-4b5c-4d6a-996e-c53ba51c44a9",
   "metadata": {},
   "outputs": [
    {
     "name": "stdout",
     "output_type": "stream",
     "text": [
      "원본 데이터 :  [ 0  1  2  3  4  5  6  7  8  9 10]\n",
      "scaled 데이터 :  [0.  0.1 0.2 0.3 0.4 0.5 0.6 0.7 0.8 0.9 1. ]\n",
      "원본 데이터 : [0 1 2 3 4 5]\n",
      "scaled 데이터 : [0.  0.1 0.2 0.3 0.4 0.5]\n"
     ]
    }
   ],
   "source": [
    "scaler = MinMaxScaler()\n",
    "scaler.fit(train_array)\n",
    "train_scaled = scaler.transform(train_array)\n",
    "\n",
    "print('원본 데이터 : ', np.round(train_array.reshape(-1),2))\n",
    "print('scaled 데이터 : ', np.round(train_scaled.reshape(-1),2))\n",
    "\n",
    "### fit호출 XXXX\n",
    "test_scaled = scaler.transform(test_array)\n",
    "print('원본 데이터 :', np.round(test_array.reshape(-1),2))\n",
    "print('scaled 데이터 :', np.round(test_scaled.reshape(-1),2))"
   ]
  },
  {
   "cell_type": "markdown",
   "id": "bb41f092-f499-4eea-bb8c-f72b48e1efdb",
   "metadata": {},
   "source": [
    "- train과 test 모두 동일한 값이 동일하게 변환된 것을 알 수 있다. "
   ]
  },
  {
   "cell_type": "markdown",
   "id": "34bd3000-da26-42be-91af-650d1481e4cc",
   "metadata": {},
   "source": [
    "- 따라서 fit과 transform을 순차적으로 수행하는 메서드인 fit_transform()은 학습 데이터에만 사용해야 한다. \n",
    "- #### `***그래서 보통, 먼저 전체 데이터 세트에 스케일링을 적용한 뒤 학습과 테스트 데이터 세트로 분리하는 것이 바람직하다.***`"
   ]
  },
  {
   "cell_type": "markdown",
   "id": "502e533b-3465-4b81-a2f2-dd6d268de2f2",
   "metadata": {},
   "source": [
    "---"
   ]
  }
 ],
 "metadata": {
  "kernelspec": {
   "display_name": "Python 3 (ipykernel)",
   "language": "python",
   "name": "python3"
  },
  "language_info": {
   "codemirror_mode": {
    "name": "ipython",
    "version": 3
   },
   "file_extension": ".py",
   "mimetype": "text/x-python",
   "name": "python",
   "nbconvert_exporter": "python",
   "pygments_lexer": "ipython3",
   "version": "3.8.11"
  }
 },
 "nbformat": 4,
 "nbformat_minor": 5
}
