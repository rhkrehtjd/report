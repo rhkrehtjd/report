{
 "cells": [
  {
   "cell_type": "markdown",
   "id": "2bf1036d",
   "metadata": {},
   "source": [
    "객체 : 하나의 물건이라고 생각하면 됨. \n",
    "    \n",
    "ex)자동차. 자동차는 메이커, 모델, 색상, 연식, 가격 과 같은 속성을 가지고 있음. \n",
    "또한 주행, 방향전환, 주차와 같은 동작도 할 수있음. \n",
    "\n",
    "객체 = 변수 + 메소드\n",
    "\n",
    "변수: 객체의 속성. 객체의 이름 다음에 점을 찍음으로써 표현 ex)object.number\n",
    "메소드: 객체의 동작. 객체 이름 다음에 점을 찍고 괄호()를 친다. ex)object.sum()"
   ]
  },
  {
   "cell_type": "markdown",
   "id": "46d37d93",
   "metadata": {},
   "source": [
    "클래스 : 객체의 설계도. 객체는 아님에 주의\n",
    "    \n",
    "클래스는 무작정 만드는 것보다 클래스로 만든 객체를 중심으로 어떤 식으로 동작하게 할것인지 미리 구상을 한 후에 \n",
    "생각한 것들을 하나씩 해결하면서 완성해 나가는 것이 좋다."
   ]
  },
  {
   "cell_type": "code",
   "execution_count": 16,
   "id": "ee1c7a52",
   "metadata": {},
   "outputs": [],
   "source": [
    "#클래스 생성 방법"
   ]
  },
  {
   "cell_type": "code",
   "execution_count": 17,
   "id": "95917b8c",
   "metadata": {},
   "outputs": [
    {
     "name": "stdout",
     "output_type": "stream",
     "text": [
      "4\n",
      "2\n",
      "6\n",
      "2\n",
      "8\n",
      "2.0\n"
     ]
    }
   ],
   "source": [
    "class FourCal : #클래스 생성\n",
    "    def setdata(self, first, second): #변수 생성\n",
    "        self.first = first\n",
    "        self.second = second\n",
    "    def add(self): #메소드 생성\n",
    "        result = self.first + self.second\n",
    "        return result\n",
    "    def sub(self):\n",
    "        result = self.first - self.second\n",
    "        return result\n",
    "    def mul(self):\n",
    "        result = self.first * self.second\n",
    "        return result\n",
    "    def div(self):\n",
    "        result = self.first / self.second\n",
    "        return result\n",
    "\n",
    "a = FourCal() #객체 생성\n",
    "\n",
    "a.setdata(4,2) #setdata 함수 호출\n",
    "\n",
    "#연산 함수 호출\n",
    "print(a.first) \n",
    "print(a.second)\n",
    "print(a.add())\n",
    "print(a.sub())\n",
    "print(a.mul())\n",
    "print(a.div())"
   ]
  },
  {
   "cell_type": "code",
   "execution_count": 18,
   "id": "9c0715f1",
   "metadata": {},
   "outputs": [],
   "source": [
    "#__init__ 함수 이용"
   ]
  },
  {
   "cell_type": "code",
   "execution_count": 19,
   "id": "229d243b",
   "metadata": {},
   "outputs": [
    {
     "name": "stdout",
     "output_type": "stream",
     "text": [
      "4\n",
      "2\n",
      "6\n",
      "2\n",
      "8\n",
      "2.0\n"
     ]
    }
   ],
   "source": [
    "class FourCal : #클래스 생성\n",
    "    def __init__(self, first, second): #__init 함수 생성. 객체가 생성됨에 따라 자동으로 호출되어 편리함.\n",
    "        self.first = first\n",
    "        self.second = second\n",
    "    def add(self): #메소드 생성\n",
    "        result = self.first + self.second\n",
    "        return result\n",
    "    def sub(self):\n",
    "        result = self.first - self.second\n",
    "        return result\n",
    "    def mul(self):\n",
    "        result = self.first * self.second\n",
    "        return result\n",
    "    def div(self):\n",
    "        result = self.first / self.second\n",
    "        return result\n",
    "\n",
    "a = FourCal(4,2) #객체 생성\n",
    "\n",
    "\n",
    "#연산 함수 호출\n",
    "print(a.first) \n",
    "print(a.second)\n",
    "print(a.add())\n",
    "print(a.sub())\n",
    "print(a.mul())\n",
    "print(a.div())"
   ]
  },
  {
   "cell_type": "markdown",
   "id": "a5de2618",
   "metadata": {},
   "source": [
    "상속 : 어떤 클래스를 만들 때 다른 클래스의 기능을 물려받을 수 있게 만드는 것이다.  \n",
    "        보통 상속은 기존 클래스를 변경하지 않고 기능을 추가하거나 기존 기능을 변경하려고 할 때 사용한다."
   ]
  },
  {
   "cell_type": "code",
   "execution_count": 20,
   "id": "545367c2",
   "metadata": {},
   "outputs": [
    {
     "name": "stdout",
     "output_type": "stream",
     "text": [
      "729\n"
     ]
    }
   ],
   "source": [
    "class MoreFourCal(FourCal): #FourCal 클래스를 MoreFourCal로 상속\n",
    "    def pow(self):\n",
    "        result = self.first ** self.second\n",
    "        return result\n",
    "\n",
    "a = MoreFourCal(3,6)\n",
    "\n",
    "print(a.pow())"
   ]
  },
  {
   "cell_type": "markdown",
   "id": "0b96e954",
   "metadata": {},
   "source": [
    "메소드 오버라이딩 부모 클래스(상속한 클래스)에 있는 메소드를 동일한 이름으로 다시 만드는 것"
   ]
  },
  {
   "cell_type": "code",
   "execution_count": 23,
   "id": "c676c3e8",
   "metadata": {},
   "outputs": [
    {
     "name": "stdout",
     "output_type": "stream",
     "text": [
      "0\n"
     ]
    }
   ],
   "source": [
    "class SafeFourCal(FourCal) :\n",
    "    def div(self):\n",
    "        if self.second == 0:\n",
    "            return 0\n",
    "        else:\n",
    "            return self.first / self.second\n",
    "\n",
    "a = SafeFourCal(2,0)\n",
    "\n",
    "print(a.div())"
   ]
  }
 ],
 "metadata": {
  "kernelspec": {
   "display_name": "Python 3 (ipykernel)",
   "language": "python",
   "name": "python3"
  },
  "language_info": {
   "codemirror_mode": {
    "name": "ipython",
    "version": 3
   },
   "file_extension": ".py",
   "mimetype": "text/x-python",
   "name": "python",
   "nbconvert_exporter": "python",
   "pygments_lexer": "ipython3",
   "version": "3.9.7"
  }
 },
 "nbformat": 4,
 "nbformat_minor": 5
}
