{
 "cells": [
  {
   "cell_type": "markdown",
   "id": "8dc77ec8-9218-4371-b199-2e5e5d7c2708",
   "metadata": {},
   "source": [
    "# Class 복기"
   ]
  },
  {
   "cell_type": "code",
   "execution_count": 10,
   "id": "e300d996-f860-430c-9544-0bcc71d5b36d",
   "metadata": {},
   "outputs": [],
   "source": [
    "class Fourcal:\n",
    "    def setdata(self, first, second ):\n",
    "        # setdata 메서드는 매개변수로 self, first, second 이렇게 3개의 입력값을 받는다.\n",
    "        # class안의 함수를 메서드라 별칭함\n",
    "        # 일반 함수와는 달리 메서드의 첫 번째 매개변수 self는 특별한 의미가 있음\n",
    "        # 객체를 통해 클래스의 메서드를 호출하려면 dot을 사용해야한다.\n",
    "        # Fourcal().setdata(2,3) 이렇게 말이다.\n",
    "        \n",
    "        # (엥? 근데 클래스를 통해서 직접적으로 메서드를 호출할 땐\n",
    "        # Fourcal().setdata(2,3) 이렇게 안 하고, \n",
    "        # 일단 a = Fourcal() 이렇게 객체는 일단 생성해주고\n",
    "        # Fourcal.setdata(a,4,2)\n",
    "        # 이렇게 호출해준다고 한다.\n",
    "        # 위와 같이 클래스 이름.메서드 형태로 호출할 때는 객체 a를 첫 번째 \n",
    "        # 매개변수 self에 꼭 전달해 주어야 한다. \n",
    "        # 객체.메서드 형태로 호출할 때는 self를 반드시 생략해서 호출한다\n",
    "        # 정리하자면 메서드 호출 방법에는 class에서 호출하던지 객체에서 호출하던지\n",
    "        # 썩 중요해보이진 않음\n",
    "        \n",
    "        # 그런데 setdata라는 메서드는 매개변수로 3개 가짐\n",
    "        # 그런데 입력은 지금 두개만 해줬음\n",
    "        # 그 이유는 a.setdata(2,3)처럼 객체에서 메서드를 호출하면\n",
    "        # setdata 메서드의 첫 번째 매개변수 self에는 setdata 메서드를\n",
    "        # 호출한 객체 a가 자동으로 전달됨\n",
    "        # 즉, self자리는 객체자리였던거임\n",
    "        # (반복) 클래스안에 메서드 정의해줄때 매개변수로서\n",
    "        # 첫 번째 자리에 self라고 지정을 해줬었는데\n",
    "        # 이 자리는 객체 자리였던 거다. \n",
    "        # 따라서 뭐 굳이 self라고 안 해도 되긴 하다\n",
    "        # 관례적으로 self라는 명칭을 사용할 뿐이다. \n",
    "        self.first = first\n",
    "        self.second = second\n",
    "    \n",
    "    def add(self):\n",
    "        result = self.first + self.second\n",
    "        return result\n",
    "    \n",
    "    def mul(self):\n",
    "        result = self.first * self.second\n",
    "        return result\n",
    "    \n",
    "    def sub(self):\n",
    "        result = self.first - self.second\n",
    "        return result\n",
    "    \n",
    "    # 아 잠시만\n",
    "    # 어제 효승이가 질문했던 거중에\n",
    "    # return의 기능 관련된 게 있었는데\n",
    "    # return의 기능이 함수를 끝맺는 기능임\n",
    "    # 그래서 def을 통해 함수 선언할 때 return쓰기 전까진 \n",
    "    # 계속 들여쓰기가 네칸유지되는데\n",
    "    # return 쓰는 순간\n",
    "    # 들여쓰기가 끝나보림\n",
    "    \n",
    "    def div(self):\n",
    "        result = self.first / self.second\n",
    "        return result"
   ]
  },
  {
   "cell_type": "code",
   "execution_count": 11,
   "id": "e43f1e2b-ee16-4ce3-9e82-385613ce8ef1",
   "metadata": {},
   "outputs": [
    {
     "name": "stdout",
     "output_type": "stream",
     "text": [
      "3\n",
      "2\n"
     ]
    }
   ],
   "source": [
    "a=Fourcal()\n",
    "a.setdata(3,2)\n",
    "# 이렇게 호출하면\n",
    "# setdata 메서드의 매개변수 first, second에는 각각 값\n",
    "# 3과 2가 전달되어 setdata 메서드의 수행문은 다음과 같이 해석할 수 있다.\n",
    "# self.first = 3\n",
    "# self.second = 2\n",
    "# 여기서 self는 메서드의 매개변수였고, 이 매개변수는 a였기 때문에\n",
    "# 다음과 같이 해석할 수도 있다.\n",
    "# a.first=3\n",
    "# a.second=2\n",
    "# 위 두 문장이 수행되면 a객체에 객체변수 first가 생성되고 값 3이 저장된다.\n",
    "# ***객체에 생성되는 객체만의 변수***를 객체 변수라고 한다.\n",
    "# 객체마다! b객체 생성되면 b객체만의 새로운 객체 변수가 생성될 수 있다. \n",
    "print(a.first)\n",
    "print(a.second)"
   ]
  },
  {
   "cell_type": "markdown",
   "id": "7c565de1-ffbf-46a3-9fd4-496ce75a43c5",
   "metadata": {},
   "source": [
    "#### 중요\n",
    "- 만약 a라는 객체말고 b라는 객체를 만들었다\n",
    "- 그리고 b라는 객체에서 setdata 메서드를 불러와서 객체변수를 각각 5,4 저장해주었다\n",
    "- 그렇다면 a객체의 객체 변수인 a,b도 update되는가?\n",
    "  - 그렇지 않다.\n",
    "- 즉, 클래스로 만든 객체의 객체변수는 다른 객체의 객체변수에 상관없이 독립적인 값을 유지한다. \n",
    "- 객체변수는 그 객체의 고유 값을 저장할 수 있는 공간이다. \n",
    "- 객체 변수는 다른 객체들의 영향을 받지 않고 독립적으로 그 값을 유지한다는 점을 꼭 기억하자."
   ]
  },
  {
   "cell_type": "code",
   "execution_count": 12,
   "id": "d8f17c1a-b0e4-4214-bb9a-c8d6e3d7978e",
   "metadata": {},
   "outputs": [
    {
     "data": {
      "text/plain": [
       "5"
      ]
     },
     "execution_count": 12,
     "metadata": {},
     "output_type": "execute_result"
    }
   ],
   "source": [
    "a.add()\n",
    "# 다음 과정은 어떻게 일어날까?\n",
    "# add 메서드의 매개변수는 self 하나 뿐이고 반환값은 result이다.\n",
    "# a.add()와 같이 객체 a에 의해 add 메서드가 수행되면\n",
    "# add 메서드의 self에는 객체 a가 자동으로 입력되므로 \n",
    "# 다음과 같이 해석할 수 있다. \n",
    "# result = a.first + a.second\n",
    "# 원래는 메서드 수행문이\n",
    "# result = self.first + self.second 였는데\n",
    "# 메서드가 불리어지면서(a.add()) 자동으로 add라는 메서드의 매개변수인\n",
    "# self에 객체 a가 삽입된 것이다."
   ]
  },
  {
   "cell_type": "markdown",
   "id": "44b25669-ddc1-4b11-ae8c-a2539e876d6b",
   "metadata": {},
   "source": [
    "---"
   ]
  },
  {
   "cell_type": "markdown",
   "id": "2dab85a0-71a0-424f-be3d-eecab9229f19",
   "metadata": {},
   "source": [
    "#  생성자 Constructor"
   ]
  },
  {
   "cell_type": "code",
   "execution_count": 14,
   "id": "5fe955e1-55bf-4b44-874e-e0f45f5811c7",
   "metadata": {},
   "outputs": [
    {
     "ename": "AttributeError",
     "evalue": "'Fourcal' object has no attribute 'first'",
     "output_type": "error",
     "traceback": [
      "\u001b[1;31m---------------------------------------------------------------------------\u001b[0m",
      "\u001b[1;31mAttributeError\u001b[0m                            Traceback (most recent call last)",
      "\u001b[1;32m~\\AppData\\Local\\Temp/ipykernel_27296/4147113032.py\u001b[0m in \u001b[0;36m<module>\u001b[1;34m\u001b[0m\n\u001b[0;32m      1\u001b[0m \u001b[0ma\u001b[0m \u001b[1;33m=\u001b[0m \u001b[0mFourcal\u001b[0m\u001b[1;33m(\u001b[0m\u001b[1;33m)\u001b[0m\u001b[1;33m\u001b[0m\u001b[1;33m\u001b[0m\u001b[0m\n\u001b[1;32m----> 2\u001b[1;33m \u001b[0ma\u001b[0m\u001b[1;33m.\u001b[0m\u001b[0madd\u001b[0m\u001b[1;33m(\u001b[0m\u001b[1;33m)\u001b[0m\u001b[1;33m\u001b[0m\u001b[1;33m\u001b[0m\u001b[0m\n\u001b[0m",
      "\u001b[1;32m~\\AppData\\Local\\Temp/ipykernel_27296/3373317930.py\u001b[0m in \u001b[0;36madd\u001b[1;34m(self)\u001b[0m\n\u001b[0;32m     33\u001b[0m \u001b[1;33m\u001b[0m\u001b[0m\n\u001b[0;32m     34\u001b[0m     \u001b[1;32mdef\u001b[0m \u001b[0madd\u001b[0m\u001b[1;33m(\u001b[0m\u001b[0mself\u001b[0m\u001b[1;33m)\u001b[0m\u001b[1;33m:\u001b[0m\u001b[1;33m\u001b[0m\u001b[1;33m\u001b[0m\u001b[0m\n\u001b[1;32m---> 35\u001b[1;33m         \u001b[0mresult\u001b[0m \u001b[1;33m=\u001b[0m \u001b[0mself\u001b[0m\u001b[1;33m.\u001b[0m\u001b[0mfirst\u001b[0m \u001b[1;33m+\u001b[0m \u001b[0mself\u001b[0m\u001b[1;33m.\u001b[0m\u001b[0msecond\u001b[0m\u001b[1;33m\u001b[0m\u001b[1;33m\u001b[0m\u001b[0m\n\u001b[0m\u001b[0;32m     36\u001b[0m         \u001b[1;32mreturn\u001b[0m \u001b[0mresult\u001b[0m\u001b[1;33m\u001b[0m\u001b[1;33m\u001b[0m\u001b[0m\n\u001b[0;32m     37\u001b[0m \u001b[1;33m\u001b[0m\u001b[0m\n",
      "\u001b[1;31mAttributeError\u001b[0m: 'Fourcal' object has no attribute 'first'"
     ]
    }
   ],
   "source": [
    "a = Fourcal()\n",
    "a.add()"
   ]
  },
  {
   "cell_type": "markdown",
   "id": "63131091-608f-4897-b06e-dea7bf3b9550",
   "metadata": {},
   "source": [
    "- setdata 메서드를 수행해야 객체 a의 객체변수 first와 second가 생성되기 때문에 error 발생\n",
    "- 이렇게 객체에 초깃값(fisrt & second)을 설정해야 할 필요가 있을 때는 setdata와 같은 메서드를 호출하여 초깃값을 설정하기보다는 생성자를 구현하는 것이 안전한 방법이다. \n",
    "- 생성자(Constructor)란 객체가 생성될 때!!!!!!!! 이 시점이 중요하다\n",
    "- 반복한다\n",
    "- 생성자 \\_\\_iter\\_\\_는!!!!!!!!!!!!!!!!!!!!!!111\n",
    "- 객체가 생성되는 시점에서!!!!!!!!!!!!!!!!!!!!!!!!!!!!!!\n",
    "- 자동으로 호출되는 메서드이다\n",
    "- 반복한다\n",
    "- 생성자 메서드는 객체가 생성될 때 자동으로 호출되는 메서드이다!!!!!"
   ]
  },
  {
   "cell_type": "code",
   "execution_count": 15,
   "id": "75f88d50-f351-4af5-9132-974a403f8ea9",
   "metadata": {},
   "outputs": [],
   "source": [
    "class Fourcal:\n",
    "    \n",
    "    def __init__(self, first, second):\n",
    "        self.first = first\n",
    "        self.second = second\n",
    "        \n",
    "    def setdata(self, first, second ):\n",
    "        self.first = first\n",
    "        self.second = second\n",
    "    \n",
    "    def add(self):\n",
    "        result = self.first + self.second\n",
    "        return result\n",
    "    \n",
    "    def mul(self):\n",
    "        result = self.first * self.second\n",
    "        return result\n",
    "    \n",
    "    def sub(self):\n",
    "        result = self.first - self.second\n",
    "        return result\n",
    "    \n",
    "    def div(self):\n",
    "        result = self.first / self.second\n",
    "        return result"
   ]
  },
  {
   "cell_type": "markdown",
   "id": "2d98ccfe-bbec-4dfc-83ad-2d11caacf652",
   "metadata": {},
   "source": [
    "- 생성자 메서드 \\_\\_init\\_\\_ 메서드만 따로 떼어 내서 살펴보자\n",
    "  - 생성자 메서드인 \\_\\_init\\_\\_는 객체가 생성되는 시점에 자동으로 호출된다"
   ]
  },
  {
   "cell_type": "code",
   "execution_count": 16,
   "id": "84f7c3aa-1d88-4ba7-a11f-4b1699d1daab",
   "metadata": {},
   "outputs": [
    {
     "ename": "TypeError",
     "evalue": "__init__() missing 2 required positional arguments: 'first' and 'second'",
     "output_type": "error",
     "traceback": [
      "\u001b[1;31m---------------------------------------------------------------------------\u001b[0m",
      "\u001b[1;31mTypeError\u001b[0m                                 Traceback (most recent call last)",
      "\u001b[1;32m~\\AppData\\Local\\Temp/ipykernel_27296/293225980.py\u001b[0m in \u001b[0;36m<module>\u001b[1;34m\u001b[0m\n\u001b[1;32m----> 1\u001b[1;33m \u001b[0ma\u001b[0m \u001b[1;33m=\u001b[0m \u001b[0mFourcal\u001b[0m\u001b[1;33m(\u001b[0m\u001b[1;33m)\u001b[0m\u001b[1;33m\u001b[0m\u001b[1;33m\u001b[0m\u001b[0m\n\u001b[0m",
      "\u001b[1;31mTypeError\u001b[0m: __init__() missing 2 required positional arguments: 'first' and 'second'"
     ]
    }
   ],
   "source": [
    "a = Fourcal()"
   ]
  },
  {
   "cell_type": "markdown",
   "id": "fda32b45-e535-4161-9448-91b0775e3ce4",
   "metadata": {},
   "source": [
    "- error's meaning\n",
    "  - 객체 만들 때 \\_\\_init\\_\\_이 호출되어 오류가 발생한 것이다.\n",
    "  - 즉 \\_\\_init\\_\\_이 호출되면서 first와 second에 해당하는 값이 전달되지 않았기 때문이다\n",
    "  - 아래와 같이 수행함으로써 오류를 해결할 수 있다."
   ]
  },
  {
   "cell_type": "code",
   "execution_count": 17,
   "id": "f9307d44-89ef-4d30-8b08-e12cd05d0eb0",
   "metadata": {},
   "outputs": [],
   "source": [
    "a = Fourcal(4,2)"
   ]
  },
  {
   "cell_type": "code",
   "execution_count": 18,
   "id": "53480a0a-7ec6-4b11-9122-3c85c15c5014",
   "metadata": {},
   "outputs": [
    {
     "data": {
      "text/plain": [
       "4"
      ]
     },
     "execution_count": 18,
     "metadata": {},
     "output_type": "execute_result"
    }
   ],
   "source": [
    "a.first"
   ]
  },
  {
   "cell_type": "code",
   "execution_count": 19,
   "id": "dc86d091-30d3-42cd-9b01-1889c7875bd6",
   "metadata": {},
   "outputs": [
    {
     "data": {
      "text/plain": [
       "2"
      ]
     },
     "execution_count": 19,
     "metadata": {},
     "output_type": "execute_result"
    }
   ],
   "source": [
    "a.second"
   ]
  },
  {
   "cell_type": "code",
   "execution_count": 20,
   "id": "74e1f511-1b99-4b2f-acda-1a8e4bb7ff5d",
   "metadata": {},
   "outputs": [
    {
     "data": {
      "text/plain": [
       "8"
      ]
     },
     "execution_count": 20,
     "metadata": {},
     "output_type": "execute_result"
    }
   ],
   "source": [
    "a.mul()"
   ]
  },
  {
   "cell_type": "markdown",
   "id": "bf77d092-899d-4b29-895d-28c1237b1f2c",
   "metadata": {},
   "source": [
    "- 정리하자면\n",
    "- a=Fourcal(3,2)\n",
    "  - 가 수행되면\n",
    "  - \\_\\_init\\_\\_ 메서드의 매개변수에는\n",
    "  - self <- 생성되는 객체인 a\n",
    "  - first <- 3\n",
    "  - second <- 2\n",
    "  - 가 대입되는 것이다.\n",
    "  - \\_\\_init\\_\\_ 메서드도 다른 메서드와 마찬가지로 첫 번째 매개변수 self자리엔 생성되는 객체가 자동으로 전달된다. "
   ]
  },
  {
   "cell_type": "markdown",
   "id": "ac916d0a-eade-4759-b840-8bc74ef28023",
   "metadata": {},
   "source": [
    "---"
   ]
  },
  {
   "cell_type": "markdown",
   "id": "824559e1-a3b7-4f7b-a690-8f86b25f026b",
   "metadata": {},
   "source": [
    "# 클래스의 상속"
   ]
  },
  {
   "cell_type": "markdown",
   "id": "2f909e0e-efd7-46dc-ae7f-d7ba13b30370",
   "metadata": {},
   "source": [
    "- Fourcal이라는 클래스말고 새로운 클래스를 만들어보자"
   ]
  },
  {
   "cell_type": "code",
   "execution_count": 23,
   "id": "8386208c-507b-4726-a8f7-443b2712ef95",
   "metadata": {},
   "outputs": [],
   "source": [
    "class undateFourcal(Fourcal):\n",
    "    pass"
   ]
  },
  {
   "cell_type": "code",
   "execution_count": 24,
   "id": "8a6edf55-6901-4885-a4a7-6517d0d0b7a3",
   "metadata": {},
   "outputs": [
    {
     "data": {
      "text/plain": [
       "7"
      ]
     },
     "execution_count": 24,
     "metadata": {},
     "output_type": "execute_result"
    }
   ],
   "source": [
    "a = undateFourcal(3,4)\n",
    "a.add()"
   ]
  },
  {
   "cell_type": "markdown",
   "id": "e404735c-6c84-464e-a264-b0b6e7831f49",
   "metadata": {},
   "source": [
    "- Fourcal의 모든 메서드를 다 가져온 것을 볼 수 있다. \n",
    "- 이와 같은 상속은 왜 쓸까?\n",
    "  - 상속은 기존 클래스를 변경하지 않고, 기능을 추가하거나 기존 기능을 변경하려고 할 때, 사용한다.\n",
    "  - 클래스에 기능을 추가하고 싶으면 상속받아서 새로운 클래스를 만드느니 기존 클래스에서 메서드만 추가해주면 되는 거 아닌가?\n",
    "    - 하지만 기존 클래스가 라이브러리 형태로 제공되러나 수정이 허용되지 않는 상황이라면 상속을 사용해야한다.\n",
    "    "
   ]
  },
  {
   "cell_type": "code",
   "execution_count": 27,
   "id": "ec3809b3-e269-402a-adfd-a63f3d824d3d",
   "metadata": {},
   "outputs": [],
   "source": [
    "class updateFourcal(Fourcal):\n",
    "    def pow(self):\n",
    "        result = self.first**self.second\n",
    "        return result"
   ]
  },
  {
   "cell_type": "code",
   "execution_count": 28,
   "id": "0ddb3647-13ed-4fe5-b670-62198f65b3ca",
   "metadata": {},
   "outputs": [
    {
     "data": {
      "text/plain": [
       "81"
      ]
     },
     "execution_count": 28,
     "metadata": {},
     "output_type": "execute_result"
    }
   ],
   "source": [
    "asdf = updateFourcal(3,4)\n",
    "asdf.pow()"
   ]
  },
  {
   "cell_type": "markdown",
   "id": "99c50824-5880-4e11-a18a-2bb5517d117b",
   "metadata": {},
   "source": [
    "- 상속은 다음과 같이 기존 클래스를 그대로 놔둔채 클래스의 기능을 확장시킬 때 주로 사용한다."
   ]
  },
  {
   "cell_type": "markdown",
   "id": "16be9625-facd-455b-8476-013606620858",
   "metadata": {},
   "source": [
    "---"
   ]
  },
  {
   "cell_type": "markdown",
   "id": "fb989881-62b8-4b48-bbe7-b925a360628a",
   "metadata": {},
   "source": [
    "# 메서드 오버라이딩"
   ]
  },
  {
   "cell_type": "code",
   "execution_count": 29,
   "id": "ccac4647-5fbf-425f-b4bf-f5c72cedfd3a",
   "metadata": {},
   "outputs": [
    {
     "ename": "ZeroDivisionError",
     "evalue": "division by zero",
     "output_type": "error",
     "traceback": [
      "\u001b[1;31m---------------------------------------------------------------------------\u001b[0m",
      "\u001b[1;31mZeroDivisionError\u001b[0m                         Traceback (most recent call last)",
      "\u001b[1;32m~\\AppData\\Local\\Temp/ipykernel_27296/2246487860.py\u001b[0m in \u001b[0;36m<module>\u001b[1;34m\u001b[0m\n\u001b[0;32m      1\u001b[0m \u001b[0ma\u001b[0m\u001b[1;33m=\u001b[0m\u001b[0mFourcal\u001b[0m\u001b[1;33m(\u001b[0m\u001b[1;36m2\u001b[0m\u001b[1;33m,\u001b[0m\u001b[1;36m0\u001b[0m\u001b[1;33m)\u001b[0m\u001b[1;33m\u001b[0m\u001b[1;33m\u001b[0m\u001b[0m\n\u001b[1;32m----> 2\u001b[1;33m \u001b[0ma\u001b[0m\u001b[1;33m.\u001b[0m\u001b[0mdiv\u001b[0m\u001b[1;33m(\u001b[0m\u001b[1;33m)\u001b[0m\u001b[1;33m\u001b[0m\u001b[1;33m\u001b[0m\u001b[0m\n\u001b[0m",
      "\u001b[1;32m~\\AppData\\Local\\Temp/ipykernel_27296/1301558293.py\u001b[0m in \u001b[0;36mdiv\u001b[1;34m(self)\u001b[0m\n\u001b[0;32m     22\u001b[0m \u001b[1;33m\u001b[0m\u001b[0m\n\u001b[0;32m     23\u001b[0m     \u001b[1;32mdef\u001b[0m \u001b[0mdiv\u001b[0m\u001b[1;33m(\u001b[0m\u001b[0mself\u001b[0m\u001b[1;33m)\u001b[0m\u001b[1;33m:\u001b[0m\u001b[1;33m\u001b[0m\u001b[1;33m\u001b[0m\u001b[0m\n\u001b[1;32m---> 24\u001b[1;33m         \u001b[0mresult\u001b[0m \u001b[1;33m=\u001b[0m \u001b[0mself\u001b[0m\u001b[1;33m.\u001b[0m\u001b[0mfirst\u001b[0m \u001b[1;33m/\u001b[0m \u001b[0mself\u001b[0m\u001b[1;33m.\u001b[0m\u001b[0msecond\u001b[0m\u001b[1;33m\u001b[0m\u001b[1;33m\u001b[0m\u001b[0m\n\u001b[0m\u001b[0;32m     25\u001b[0m         \u001b[1;32mreturn\u001b[0m \u001b[0mresult\u001b[0m\u001b[1;33m\u001b[0m\u001b[1;33m\u001b[0m\u001b[0m\n",
      "\u001b[1;31mZeroDivisionError\u001b[0m: division by zero"
     ]
    }
   ],
   "source": [
    "a=Fourcal(2,0)\n",
    "a.div()"
   ]
  },
  {
   "cell_type": "markdown",
   "id": "9158adf6-b2a6-4f52-8610-ca25268b8007",
   "metadata": {},
   "source": [
    "- 0으로 나누지 못하니 나온 error\n",
    "- 그럼 error반환하지 말고 그냥 0을 반환해주게 수정해보자\n",
    "  - 상속을 이용한다"
   ]
  },
  {
   "cell_type": "code",
   "execution_count": 30,
   "id": "65518260-e1d7-4686-a4d8-5217c697184c",
   "metadata": {},
   "outputs": [],
   "source": [
    "class SafeFourCal(updateFourcal):\n",
    "    def div(self):\n",
    "        if self.second==0:\n",
    "            return 0\n",
    "        else :\n",
    "            return self.first/self.second"
   ]
  },
  {
   "cell_type": "markdown",
   "id": "4627fab6-c5d0-4085-91b8-42d634a48379",
   "metadata": {},
   "source": [
    "- 기존 updateFourcal 클래스의 div 메서드를 동일한 이름으로 다시 작성하였다\n",
    "#### 이렇게 부모 클래스(상속해주시는 부모 클래스)에 있는 메서드를 동일한 이름으로 다시 불러와서 다시 만드는 것을 `메서드 오버라이딩(덮어쓰기)`라고 한다. 이렇게 메서드를 오버라이딩하면 부모클래스의 메서드 대신 오버라이딩된 메서드가 호출된다. 메서드도 update된 것이다. "
   ]
  },
  {
   "cell_type": "code",
   "execution_count": 31,
   "id": "0af5e35c-f4b8-4136-9ea4-f4995b056553",
   "metadata": {},
   "outputs": [
    {
     "data": {
      "text/plain": [
       "0"
      ]
     },
     "execution_count": 31,
     "metadata": {},
     "output_type": "execute_result"
    }
   ],
   "source": [
    "a = SafeFourCal(2,0)\n",
    "a.div()"
   ]
  },
  {
   "cell_type": "markdown",
   "id": "4e9cb4ae-ee16-472c-a32a-20901374aab2",
   "metadata": {},
   "source": [
    "- error가 발생하지 않고 의도한대로 0을 반환하는 것을 알 수 있다. "
   ]
  },
  {
   "cell_type": "markdown",
   "id": "ea8fba2c-d4c9-4dd5-914e-b5e5c8a38453",
   "metadata": {},
   "source": [
    "---"
   ]
  },
  {
   "cell_type": "markdown",
   "id": "a03d4683-b3c3-4403-ae55-052489ec1413",
   "metadata": {},
   "source": [
    "# 클래스 변수"
   ]
  },
  {
   "cell_type": "markdown",
   "id": "ca15b68b-5d7b-410d-a7cc-a636a5144295",
   "metadata": {},
   "source": [
    "- 객체변수는 다른 객체들에 영향받지 않고 독립적으로 그 값을 유지한다는 점을 우린 알고있다. \n",
    "- 이와 다른 클래스 변수에 대해 알아보자"
   ]
  },
  {
   "cell_type": "code",
   "execution_count": 32,
   "id": "6be3deaf-29a7-491a-a25b-595b44c2a639",
   "metadata": {},
   "outputs": [],
   "source": [
    "class Family:\n",
    "    lastname = '곽'"
   ]
  },
  {
   "cell_type": "markdown",
   "id": "86175609-f518-4924-9bc5-062dd657b178",
   "metadata": {},
   "source": [
    "- 이때 lastname이 클래스 변수이다. \n",
    "- 클래스 변수는 클래스 안에 함수를 선언하는 것과 마찬가지로 클래스 안에 변수를 선언하여 생성한다."
   ]
  },
  {
   "cell_type": "code",
   "execution_count": 33,
   "id": "8da99e03-4447-487b-8078-a3c0ae357955",
   "metadata": {},
   "outputs": [
    {
     "data": {
      "text/plain": [
       "'곽'"
      ]
     },
     "execution_count": 33,
     "metadata": {},
     "output_type": "execute_result"
    }
   ],
   "source": [
    "Family.lastname"
   ]
  },
  {
   "cell_type": "markdown",
   "id": "dc711171-1a3d-4b3d-a140-87f2ef050fc0",
   "metadata": {},
   "source": [
    "- 클래스변수는 위 예와 같이 클래스이름.클래스변수로 사용할 수 있다. \n",
    "- 또는 다음과 같이 Familly 클래스로 만든 객체를 통해서도 클래스 변수를 사용할 수 있다. "
   ]
  },
  {
   "cell_type": "code",
   "execution_count": 34,
   "id": "36bdd363-a228-4dca-a456-72013515a29d",
   "metadata": {},
   "outputs": [
    {
     "name": "stdout",
     "output_type": "stream",
     "text": [
      "곽\n",
      "곽\n"
     ]
    }
   ],
   "source": [
    "a = Family()\n",
    "b = Family()\n",
    "print(a.lastname)\n",
    "print(b.lastname)"
   ]
  },
  {
   "cell_type": "markdown",
   "id": "e8802e8d-d442-4bb6-824a-0089408868cb",
   "metadata": {},
   "source": [
    "- 만약 Familly 클래스의 클래스 변수 값을 바꾸면 어떻게 될까?\n",
    "  - 객체에서 불러오는 lastname은 다 바뀔 것이다"
   ]
  },
  {
   "cell_type": "code",
   "execution_count": 35,
   "id": "cfae1855-7718-4cb9-b4eb-4833accb0492",
   "metadata": {},
   "outputs": [],
   "source": [
    "Family.lastname = '더 이상 곽이 아니야'"
   ]
  },
  {
   "cell_type": "code",
   "execution_count": 36,
   "id": "45aa3824-73b1-4156-800d-e32236c59d8a",
   "metadata": {},
   "outputs": [
    {
     "name": "stdout",
     "output_type": "stream",
     "text": [
      "더 이상 곽이 아니야\n",
      "더 이상 곽이 아니야\n"
     ]
    }
   ],
   "source": [
    "print(a.lastname)\n",
    "print(b.lastname)"
   ]
  },
  {
   "cell_type": "markdown",
   "id": "ccacab0b-2d21-4a4a-bd21-4d8c6cb660c6",
   "metadata": {},
   "source": [
    "- 즉 클래스 변수는 클래스로 만든 모든 객체에 공유된다."
   ]
  },
  {
   "cell_type": "markdown",
   "id": "63ac8be6-2f9b-42dc-ad0b-f9002a2caa65",
   "metadata": {},
   "source": [
    "- 그렇다면 객체에서 변경하면?"
   ]
  },
  {
   "cell_type": "code",
   "execution_count": 37,
   "id": "fe17457c-fb70-478c-b33c-fa8e1057b15d",
   "metadata": {},
   "outputs": [],
   "source": [
    "a.lastname = '넌 다시 곽이야'"
   ]
  },
  {
   "cell_type": "code",
   "execution_count": 39,
   "id": "77586cd5-56c6-4457-b2ca-21d875120d45",
   "metadata": {},
   "outputs": [
    {
     "name": "stdout",
     "output_type": "stream",
     "text": [
      "더 이상 곽이 아니야\n",
      "넌 다시 곽이야\n",
      "더 이상 곽이 아니야\n"
     ]
    }
   ],
   "source": [
    "print(Family.lastname)\n",
    "print(a.lastname)\n",
    "print(b.lastname)"
   ]
  },
  {
   "cell_type": "markdown",
   "id": "d96a857a-3ae0-48f5-b0b3-835b0e0f81b9",
   "metadata": {},
   "source": [
    "- got it"
   ]
  },
  {
   "cell_type": "markdown",
   "id": "3cbbf571-cc5a-41cb-a518-ff4184377a98",
   "metadata": {},
   "source": [
    "---"
   ]
  },
  {
   "cell_type": "markdown",
   "id": "a43ba897-669f-428f-a55e-56cf2054eadc",
   "metadata": {},
   "source": [
    "# 추가) 전역 변수 vs 지역 변수"
   ]
  },
  {
   "cell_type": "code",
   "execution_count": 1,
   "id": "e53d5479-80de-41c7-a543-be2d55cd14a2",
   "metadata": {},
   "outputs": [],
   "source": [
    "a = '나는 전역변수 입니다'"
   ]
  },
  {
   "cell_type": "code",
   "execution_count": 2,
   "id": "8629c43c-1b00-439a-bc5c-d383050fceed",
   "metadata": {},
   "outputs": [
    {
     "name": "stdout",
     "output_type": "stream",
     "text": [
      "나는 전역변수가 아닙니다.나는 함수안에서 정의된 지역변수라 함수밖에선 불러올 수 없어요\n"
     ]
    }
   ],
   "source": [
    "def iamnotGlobalvariables():\n",
    "    a = '나는 전역변수가 아닙니다.나는 함수안에서 정의된 지역변수라 함수밖에선 불러올 수 없어요'\n",
    "    print(a)\n",
    "iamnotGlobalvariables()"
   ]
  },
  {
   "cell_type": "code",
   "execution_count": 3,
   "id": "36f57c8d-7b5b-4429-9c34-6686088e9e6c",
   "metadata": {},
   "outputs": [
    {
     "data": {
      "text/plain": [
       "'나는 전역변수 입니다'"
      ]
     },
     "execution_count": 3,
     "metadata": {},
     "output_type": "execute_result"
    }
   ],
   "source": [
    "a"
   ]
  },
  {
   "cell_type": "code",
   "execution_count": 4,
   "id": "35881329-a3a0-4feb-bd9e-c6d627f9cc15",
   "metadata": {},
   "outputs": [],
   "source": [
    "del(a)"
   ]
  },
  {
   "cell_type": "code",
   "execution_count": 5,
   "id": "887fdc61-5f6e-40b1-ac5d-6d77125a992d",
   "metadata": {},
   "outputs": [
    {
     "ename": "NameError",
     "evalue": "name 'a' is not defined",
     "output_type": "error",
     "traceback": [
      "\u001b[1;31m---------------------------------------------------------------------------\u001b[0m",
      "\u001b[1;31mNameError\u001b[0m                                 Traceback (most recent call last)",
      "\u001b[1;32m~\\AppData\\Local\\Temp/ipykernel_12316/2167009006.py\u001b[0m in \u001b[0;36m<module>\u001b[1;34m\u001b[0m\n\u001b[1;32m----> 1\u001b[1;33m \u001b[0ma\u001b[0m\u001b[1;33m\u001b[0m\u001b[1;33m\u001b[0m\u001b[0m\n\u001b[0m",
      "\u001b[1;31mNameError\u001b[0m: name 'a' is not defined"
     ]
    }
   ],
   "source": [
    "a"
   ]
  },
  {
   "cell_type": "markdown",
   "id": "8d797bbe-905b-4671-9e65-b67dbb4b3991",
   "metadata": {},
   "source": [
    "- 그렇다면 전역변수는 꼭 함수 밖에서만 정의해줘야 하나?\n",
    "  - 그렇지 않다.\n",
    "  - 함수 안에서 global이라고 명시해준다면 함수 안에서도 전역변수를 생성할 수 있다.\n",
    "  - 즉, 함수안에서도 변수로 사용하고 밖에서도 변수로 사용할 수 있게 생성할 수 있다."
   ]
  },
  {
   "cell_type": "code",
   "execution_count": 6,
   "id": "e10161bf-0d12-48e6-9d02-eaa8d550ee62",
   "metadata": {},
   "outputs": [
    {
     "name": "stdout",
     "output_type": "stream",
     "text": [
      "나는 함수 안에서 선언됐지만 함수밖에서도 호출이 가능합니다\n"
     ]
    }
   ],
   "source": [
    "def iameverything():\n",
    "    global a\n",
    "    a = '나는 함수 안에서 선언됐지만 함수밖에서도 호출이 가능합니다'\n",
    "    print(a)\n",
    "iameverything()"
   ]
  },
  {
   "cell_type": "code",
   "execution_count": 7,
   "id": "df041595-459a-48a3-82ff-f157fa257aec",
   "metadata": {},
   "outputs": [
    {
     "data": {
      "text/plain": [
       "'나는 함수 안에서 선언됐지만 함수밖에서도 호출이 가능합니다'"
      ]
     },
     "execution_count": 7,
     "metadata": {},
     "output_type": "execute_result"
    }
   ],
   "source": [
    "a"
   ]
  },
  {
   "cell_type": "code",
   "execution_count": 10,
   "id": "ea495cb9-5863-4ed0-bd11-f01297c39e00",
   "metadata": {},
   "outputs": [
    {
     "data": {
      "text/plain": [
       "'나는 함수 안에서 선언됐지만 함수밖에서도 호출이 가능합니다 !! 이렇게 연산도 가능하겠지요'"
      ]
     },
     "execution_count": 10,
     "metadata": {},
     "output_type": "execute_result"
    }
   ],
   "source": [
    "a+' !! 이렇게 연산도 가능하겠지요'"
   ]
  },
  {
   "cell_type": "code",
   "execution_count": 11,
   "id": "5e8b116d-e11a-443c-a381-a66e5682755e",
   "metadata": {},
   "outputs": [
    {
     "data": {
      "text/plain": [
       "'나는 함수 안에서 선언됐지만 함수밖에서도 호출이 가능합니다'"
      ]
     },
     "execution_count": 11,
     "metadata": {},
     "output_type": "execute_result"
    }
   ],
   "source": [
    "a "
   ]
  },
  {
   "cell_type": "code",
   "execution_count": 12,
   "id": "4510d5e6-a105-419e-a79a-dbec08bcd8dd",
   "metadata": {},
   "outputs": [],
   "source": [
    "a = a[1:5]"
   ]
  },
  {
   "cell_type": "code",
   "execution_count": 13,
   "id": "ca1e2999-4a1a-458e-a5bb-a71f993246da",
   "metadata": {},
   "outputs": [
    {
     "data": {
      "text/plain": [
       "'는 함수'"
      ]
     },
     "execution_count": 13,
     "metadata": {},
     "output_type": "execute_result"
    }
   ],
   "source": [
    "a"
   ]
  },
  {
   "cell_type": "markdown",
   "id": "7c4ea32b-60e9-4a0f-92f3-7493e8cf037d",
   "metadata": {},
   "source": [
    "- 다시 iameverything을 불러오자"
   ]
  },
  {
   "cell_type": "code",
   "execution_count": 14,
   "id": "246e9074-4d81-4bc9-af72-6a577ef9c7fb",
   "metadata": {},
   "outputs": [
    {
     "name": "stdout",
     "output_type": "stream",
     "text": [
      "나는 함수 안에서 선언됐지만 함수밖에서도 호출이 가능합니다\n"
     ]
    }
   ],
   "source": [
    "iameverything()"
   ]
  },
  {
   "cell_type": "markdown",
   "id": "da70612d-7bc6-4c8c-a63d-df217305bfac",
   "metadata": {},
   "source": [
    "- 엥?\n",
    "  - iameverything의 기능자체가 global 변수 a를 생성해주는 기능을 하는 함수이다\n",
    "  - 그래서 함수밖에서 a를 변경해주어도 다시 reset되는 것 같다."
   ]
  },
  {
   "cell_type": "markdown",
   "id": "1e50b442-aea3-4afc-a12b-70f293895e8b",
   "metadata": {},
   "source": [
    "- 그렇다면"
   ]
  },
  {
   "cell_type": "code",
   "execution_count": 16,
   "id": "54eb4c98-6ed8-46ea-bcd1-ec472da02b09",
   "metadata": {},
   "outputs": [
    {
     "data": {
      "text/plain": [
       "'나는 함수 안에서 선언됐지만 함수밖에서도 호출이 가능합니다'"
      ]
     },
     "execution_count": 16,
     "metadata": {},
     "output_type": "execute_result"
    }
   ],
   "source": [
    "a"
   ]
  },
  {
   "cell_type": "code",
   "execution_count": 19,
   "id": "00fd63e5-4c39-4902-a72d-388c5acc5d29",
   "metadata": {},
   "outputs": [],
   "source": [
    "a = a[1:6]"
   ]
  },
  {
   "cell_type": "code",
   "execution_count": 20,
   "id": "b396fcf8-c262-41c5-a96f-83dbb918e741",
   "metadata": {},
   "outputs": [
    {
     "data": {
      "text/plain": [
       "' 함수 안'"
      ]
     },
     "execution_count": 20,
     "metadata": {},
     "output_type": "execute_result"
    }
   ],
   "source": [
    "a"
   ]
  },
  {
   "cell_type": "code",
   "execution_count": 21,
   "id": "a51951e9-b291-49f1-91f0-c303ec44829a",
   "metadata": {},
   "outputs": [
    {
     "name": "stdout",
     "output_type": "stream",
     "text": [
      " 함수 안\n"
     ]
    }
   ],
   "source": [
    "def iamfromglobal():\n",
    "    print(a)\n",
    "iamfromglobal()"
   ]
  },
  {
   "cell_type": "markdown",
   "id": "94a24c45-28e9-4275-b019-b9a75b59d96a",
   "metadata": {},
   "source": [
    "- got it"
   ]
  }
 ],
 "metadata": {
  "kernelspec": {
   "display_name": "Python 3 (ipykernel)",
   "language": "python",
   "name": "python3"
  },
  "language_info": {
   "codemirror_mode": {
    "name": "ipython",
    "version": 3
   },
   "file_extension": ".py",
   "mimetype": "text/x-python",
   "name": "python",
   "nbconvert_exporter": "python",
   "pygments_lexer": "ipython3",
   "version": "3.8.11"
  }
 },
 "nbformat": 4,
 "nbformat_minor": 5
}
