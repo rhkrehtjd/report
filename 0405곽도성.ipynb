{
 "cells": [
  {
   "cell_type": "markdown",
   "id": "cea9407c-134a-42f6-92a7-ed67eae1c80a",
   "metadata": {},
   "source": [
    "----"
   ]
  },
  {
   "cell_type": "markdown",
   "id": "9f9448ea-281b-4dbc-af88-bb0a1b618637",
   "metadata": {},
   "source": [
    "- 분류의 성능 평가 지표에 대해 알아보자(특히나 이진 분류에서 중요)\n",
    "  - 정확도\n",
    "  - 오차행렬\n",
    "  - 정밀도\n",
    "  - 재현율\n",
    "  - F1 스코어\n",
    "  - ROC AUC"
   ]
  },
  {
   "cell_type": "markdown",
   "id": "60faf87f-daf3-4252-85da-8dfa0f65d2d7",
   "metadata": {},
   "source": [
    "- 분류\n",
    "  - 결정 클래스가 2개 : 이진 분류\n",
    "  - 결정 클래스가 여러 개 : 멀티 분류"
   ]
  },
  {
   "cell_type": "code",
   "execution_count": 35,
   "id": "1f0b3bb2-4f19-4bd3-9c3f-fda89e50e899",
   "metadata": {},
   "outputs": [],
   "source": [
    "import numpy as np\n",
    "from sklearn.base import BaseEstimator\n",
    "\n",
    "\n",
    "# BaseEstimator 클래스를 상속받아, 아무런 학습 X, 성별에 따라 생존자를 예측하는 단순한 Classifier를 생성\n",
    "# 사이킷런은 BaseEstimator를 상속받으면 Customized 형태의 Estimator를 개발자가 생성할 수 있다.\n",
    "class MyDummyClassifier(BaseEstimator): # 상속 받는 中\n",
    "   \n",
    "    # fit( ) 메소드는 아무것도 학습하지 않음. \n",
    "    def fit(self, X , y=None):\n",
    "        pass\n",
    "    \n",
    "    # predict( ) 메소드는 단순히 Sex feature가 1 이면 0 , 그렇지 않으면 1 로 예측함. \n",
    "    def predict(self, X):\n",
    "        pred = np.zeros( ( X.shape[0], 1 ))\n",
    "        for i in range (X.shape[0]) :\n",
    "            if X['Sex'].iloc[i] == 1:\n",
    "                pred[i] = 0\n",
    "            else :\n",
    "                pred[i] = 1\n",
    "        \n",
    "        return pred"
   ]
  },
  {
   "cell_type": "markdown",
   "id": "1385e2dc-7ef3-47bf-8bab-d9dac8bd5ddf",
   "metadata": {},
   "source": [
    "- 즉, 학습은 하지 않고 예측만 하는 알고리즘의 모델을 자체 생성한 것"
   ]
  },
  {
   "cell_type": "code",
   "execution_count": 36,
   "id": "0f9e8477-cb3a-4d90-bbf7-9973415c399d",
   "metadata": {},
   "outputs": [
    {
     "name": "stdout",
     "output_type": "stream",
     "text": [
      "Dummy Classifier의 정확도는: 0.7877\n"
     ]
    }
   ],
   "source": [
    "import pandas as pd\n",
    "from sklearn.model_selection import train_test_split\n",
    "from sklearn.metrics import accuracy_score\n",
    "\n",
    "# 원본 데이터를 재로딩, 데이터 가공, 학습데이터/테스트 데이터 분할. \n",
    "titanic_df = pd.read_csv('train.csv')\n",
    "y_titanic_df = titanic_df['Survived']\n",
    "X_titanic_df= titanic_df.drop('Survived', axis=1)\n",
    "X_titanic_df = transform_features(X_titanic_df) # 데이터 전처리하는 함수\n",
    "X_train, X_test, y_train, y_test=train_test_split(X_titanic_df, y_titanic_df, \\\n",
    "                                                  test_size=0.2, random_state=0)\n",
    "\n",
    "# 위에서 생성한 Dummy Classifier를 이용하여 학습/예측/평가 수행. \n",
    "myclf = MyDummyClassifier() # 객체 생성\n",
    "myclf.fit(X_train ,y_train) # 학습 수행, 어차피 해당 객체에선 아무것도 학습하지 않을 것임\n",
    "mypredictions = myclf.predict(X_test) # 예측 수행\n",
    "print('Dummy Classifier의 정확도는: {0:.4f}'.format(accuracy_score(y_test , mypredictions))) # 평가 수행"
   ]
  },
  {
   "cell_type": "markdown",
   "id": "be7564e0-193a-46fe-a448-18d7d2887b81",
   "metadata": {},
   "source": [
    "- 정확도 평가지표의 맹점 : 데이터 분포도가 균일하지 않는 경우 높은 수치가 나타날 수 있음\n",
    "  - 150p 참고"
   ]
  },
  {
   "cell_type": "code",
   "execution_count": 48,
   "id": "6b2fd4de-7bba-4579-a019-e74fc84417a7",
   "metadata": {},
   "outputs": [
    {
     "data": {
      "text/plain": [
       "array([[ True],\n",
       "       [ True],\n",
       "       [ True],\n",
       "       [ True],\n",
       "       [ True]])"
      ]
     },
     "execution_count": 48,
     "metadata": {},
     "output_type": "execute_result"
    }
   ],
   "source": [
    "np.ones( (5, 1) , dtype=bool)"
   ]
  },
  {
   "cell_type": "code",
   "execution_count": 50,
   "id": "5c2e7f4e-9f65-452d-9874-6b5abdf10e8f",
   "metadata": {},
   "outputs": [
    {
     "data": {
      "text/plain": [
       "array([[False],\n",
       "       [False],\n",
       "       [False],\n",
       "       [False],\n",
       "       [False]])"
      ]
     },
     "execution_count": 50,
     "metadata": {},
     "output_type": "execute_result"
    }
   ],
   "source": [
    "np.zeros( (5, 1) , dtype=bool)"
   ]
  },
  {
   "cell_type": "code",
   "execution_count": 64,
   "id": "79328342-42f7-4115-8226-86d1bcaafd26",
   "metadata": {},
   "outputs": [
    {
     "name": "stdout",
     "output_type": "stream",
     "text": [
      "[[ 0.  0.  5. ...  0.  0.  0.]\n",
      " [ 0.  0.  0. ... 10.  0.  0.]\n",
      " [ 0.  0.  0. ... 16.  9.  0.]\n",
      " ...\n",
      " [ 0.  0.  1. ...  6.  0.  0.]\n",
      " [ 0.  0.  2. ... 12.  0.  0.]\n",
      " [ 0.  0. 10. ... 12.  1.  0.]]\n",
      "### digits.data.shape: (1797, 64)\n",
      "[0 1 2 ... 8 9 8]\n",
      "### digits.target.shape: (1797,)\n"
     ]
    }
   ],
   "source": [
    "from sklearn.datasets import load_digits\n",
    "from sklearn.model_selection import train_test_split\n",
    "from sklearn.base import BaseEstimator # Customized 형태의 Estimator를 생성할 수 있다. \n",
    "from sklearn.metrics import accuracy_score\n",
    "import numpy as np\n",
    "import pandas as pd\n",
    "\n",
    "class MyFakeClassifier(BaseEstimator): # BaseEstimator 클래스로부터 상속받는 중\n",
    "    def fit(self,X,y):\n",
    "        pass # 학습은 하지 않는다.\n",
    "    \n",
    "    # 입력값으로 들어오는 X 데이터 셋의 크기만큼 모두 0값, False로 만들어서 반환\n",
    "    # 모든 예측을 다 0으로 하고 있음\n",
    "    # 아래에서 볼 수 있겠지만\n",
    "    # label의 분포가 0은 405개 1은 45개임, 즉 7은 45개만 있음\n",
    "    # 따라서 다 7이 아니라고 예측하는 알고리즘인\n",
    "    # 다음과 같이 모두 예측을 0으로 해버리는 알고리즘을 생성해도\n",
    "    # 450개중 405개를 맞출 수 있게 된다.\n",
    "    # 약 90%의 정확도를 보일 것.\n",
    "    # 즉 결론은 데이터의 분포가 균일하지 않은 경우 정확도라는 평가지표는\n",
    "    # 높은 수치를 낼 수 있음\n",
    "    def predict(self,X):\n",
    "        return np.zeros( (len(X), 1) , dtype=bool)\n",
    "    # dtype을 꼭 bool형태로 하지 않아도 될 것 같다. \n",
    "    # False로만 이루어진 열벡터를 생성한다.\n",
    "    \n",
    "# 사이킷런의 내장 데이터 셋인 load_digits( )를 이용하여 MNIST 데이터 로딩\n",
    "digits = load_digits()\n",
    "\n",
    "print(digits.data)\n",
    "print(\"### digits.data.shape:\", digits.data.shape)\n",
    "print(digits.target)\n",
    "print(\"### digits.target.shape:\", digits.target.shape)"
   ]
  },
  {
   "cell_type": "markdown",
   "id": "65bfad23-77c5-471b-9328-46a6f75156ce",
   "metadata": {},
   "source": [
    "----"
   ]
  },
  {
   "cell_type": "markdown",
   "id": "1479c532-c937-4a48-9ac8-bfca2053814a",
   "metadata": {},
   "source": [
    "---"
   ]
  },
  {
   "cell_type": "code",
   "execution_count": 65,
   "id": "4fe8e2d1-bb8b-40bd-bcf0-32fc0df9192f",
   "metadata": {},
   "outputs": [
    {
     "data": {
      "text/plain": [
       "array([False, False, False, ..., False, False, False])"
      ]
     },
     "execution_count": 65,
     "metadata": {},
     "output_type": "execute_result"
    }
   ],
   "source": [
    "digits.target == 7"
   ]
  },
  {
   "cell_type": "code",
   "execution_count": 66,
   "id": "1a1b5429-7704-45d5-be6f-b1724d418262",
   "metadata": {},
   "outputs": [
    {
     "data": {
      "text/plain": [
       "array([0, 0, 0, ..., 0, 0, 0])"
      ]
     },
     "execution_count": 66,
     "metadata": {},
     "output_type": "execute_result"
    }
   ],
   "source": [
    "(digits.target == 7).astype(int)"
   ]
  },
  {
   "cell_type": "code",
   "execution_count": 67,
   "id": "bc8b7c4a-0684-482e-a9b3-223bc1269e00",
   "metadata": {},
   "outputs": [],
   "source": [
    "# digits번호가 7번이면 True이고 이를 astype(int)로 1로 변환, 7번이 아니면 False이고 0으로 변환. \n",
    "y = (digits.target == 7).astype(int)\n",
    "X_train, X_test, y_train, y_test = train_test_split( digits.data, y, random_state=11)"
   ]
  },
  {
   "cell_type": "code",
   "execution_count": 68,
   "id": "72211459-d77e-41bb-93b4-3050f8446362",
   "metadata": {},
   "outputs": [
    {
     "data": {
      "text/plain": [
       "0      0\n",
       "1      0\n",
       "2      0\n",
       "3      0\n",
       "4      0\n",
       "      ..\n",
       "445    0\n",
       "446    0\n",
       "447    0\n",
       "448    0\n",
       "449    0\n",
       "Length: 450, dtype: int32"
      ]
     },
     "execution_count": 68,
     "metadata": {},
     "output_type": "execute_result"
    }
   ],
   "source": [
    "pd.Series(y_test)"
   ]
  },
  {
   "cell_type": "code",
   "execution_count": 69,
   "id": "c331d8f4-dea0-4e34-bde3-1ad69d96be05",
   "metadata": {},
   "outputs": [
    {
     "name": "stdout",
     "output_type": "stream",
     "text": [
      "레이블 테스트 세트 크기 : (450,)\n",
      "테스트 세트 레이블 0 과 1의 분포도\n",
      "0    405\n",
      "1     45\n",
      "dtype: int64\n",
      "모든 예측을 0으로 하여도 정확도는:0.900\n"
     ]
    }
   ],
   "source": [
    "# 불균형한 레이블 데이터 분포도 확인. \n",
    "print('레이블 테스트 세트 크기 :', y_test.shape)\n",
    "print('테스트 세트 레이블 0 과 1의 분포도')\n",
    "print(pd.Series(y_test).value_counts())\n",
    "\n",
    "# Dummy Classifier로 학습/예측/정확도 평가\n",
    "fakeclf = MyFakeClassifier()\n",
    "fakeclf.fit(X_train , y_train)\n",
    "fakepred = fakeclf.predict(X_test)\n",
    "print('모든 예측을 0으로 하여도 정확도는:{:.3f}'.format(accuracy_score(y_test , fakepred)))"
   ]
  },
  {
   "cell_type": "code",
   "execution_count": 73,
   "id": "32587dfd-da1e-4eb4-9b37-55ac24bcd53c",
   "metadata": {},
   "outputs": [
    {
     "data": {
      "text/plain": [
       "0"
      ]
     },
     "execution_count": 73,
     "metadata": {},
     "output_type": "execute_result"
    }
   ],
   "source": [
    "fakepred.sum()"
   ]
  },
  {
   "cell_type": "markdown",
   "id": "6216c4c1-e936-457b-b05d-bef3bbb34643",
   "metadata": {},
   "source": [
    "- 즉, 모두다 예측을 0으로 한 것을 알 수 있다. "
   ]
  },
  {
   "cell_type": "markdown",
   "id": "e6af56eb-25d1-4580-b2ea-a930aff53e2f",
   "metadata": {},
   "source": [
    "- 이처럼 정확도 평가 지표는 불균형한 레이블 데이터 세트에서는 성능 수치로 사용돼서는 안 된다. \n",
    "  - 극복 : 오차행렬에 대해 알아보자"
   ]
  },
  {
   "cell_type": "markdown",
   "id": "4afc828c-e880-46d6-aad8-db2ff1a96d94",
   "metadata": {},
   "source": [
    "---"
   ]
  },
  {
   "cell_type": "markdown",
   "id": "5676c6ec-9240-4c77-ab0d-12a65d4984c5",
   "metadata": {},
   "source": [
    "- 오차 행렬\n",
    "  - 이진 분류에서 성능지표로 활용되는 오차행렬은 학습된 분류 모델이 예측을 수행하면서 얼마나 헷갈리고 있는지도 함께 보여주는 지표\n",
    "  - 이진 분류의 예측 오류가 얼마인지와 더불어 어떠한 유형의 예측 오류가 발생하고 있는지를 함께 나타내는 지표\n",
    "  - TN : True Negative \n",
    "  - FN : Fasle Negative\n",
    "  - FP : False Positive\n",
    "  - TP : True Positive\n",
    "  - 앞문자는 예측값과 실제값이 같은가 틀린가\n",
    "  - 뒤문자는 예측값"
   ]
  },
  {
   "cell_type": "code",
   "execution_count": 70,
   "id": "16b7da1d-7884-420d-a664-9ecead5862e7",
   "metadata": {},
   "outputs": [
    {
     "data": {
      "text/plain": [
       "array([[405,   0],\n",
       "       [ 45,   0]], dtype=int64)"
      ]
     },
     "execution_count": 70,
     "metadata": {},
     "output_type": "execute_result"
    }
   ],
   "source": [
    "from sklearn.metrics import confusion_matrix\n",
    "\n",
    "confusion_matrix(y_test, fakepred)"
   ]
  },
  {
   "cell_type": "markdown",
   "id": "b71bcc3a-d777-4388-ba6f-28ab9be05853",
   "metadata": {},
   "source": [
    "- 왼쪽, 오른쪽 = 예측클래스로서 N,P\n",
    "- 위, 아래 = 실제클래스로서 N,P"
   ]
  },
  {
   "cell_type": "markdown",
   "id": "554cd1b2-7d01-40a4-8e6d-f312e4e7875b",
   "metadata": {},
   "source": [
    "- 즉, (TN,FN) = (405,45)임을 알 수 있다."
   ]
  },
  {
   "cell_type": "markdown",
   "id": "35e2418e-eea2-40ab-bac6-c94cf0f3a144",
   "metadata": {},
   "source": [
    "- 이 값들을 조합해 Classifier의 성능 측정 지표를 알 수 있다.\n",
    "  - 정확도 : 예측값과 실제값이 얼마나 동일한가\n",
    "    - (TN + TP) / (TN + FP + FN + TP)\n",
    "    - 불균형한 이진 분류 데이터 세트에서는 Positive 데이터 건수가 매우 작기 때문에 데이터에 기반한 ML 알고리즘은 Positive보다는 Negative로 예측정확도가 높아지는 경향이 발생한다.\n",
    "    - 정확도는 불균형한 이진 분류 데이터 세트에서 부적합할  수 있다는 것이다.\n",
    "    - 정밀도나 재현율을 활용하는 게 더 좋다.\n",
    "    - 정밀도나 재현율은 Positive 데이터 세트의 예측 성능에 좀 더 초점을 맞춘 평가지표이다.\n",
    "  - 정밀도 (양성 예측 중 실제도 양성인 경우)\n",
    "    - TP / (FP + TP) \n",
    "    - Positive 예측 성능을 더욱 정밀하게 측정하기 위한 평가 지표로 양성 예측도라고도 불린다.\n",
    "  - 재현율 (실제 양성 중 예측도 양성인 경우)\n",
    "    - TP / (FN + TP)\n",
    "    - 민감도 또는 TPR(True Positive Rate)이라고 불린다.\n",
    "    - 암 판단 모델, 보험 사기와 같은 금융 사기 적발 모델과 같은 분야에서 중요할 것"
   ]
  },
  {
   "cell_type": "markdown",
   "id": "6d6f79bd-3129-4aa5-b9f1-abd21dfca703",
   "metadata": {},
   "source": [
    "- 보통은 재현율이 정밀도보다 상대적으로 중요한 업무가 多\n",
    "  - 재현율이 상대적으로 더 중요한 지표인 경우는 실제 Positive 양성인 데이터 예측을 Negative로 잘못 판단하게 되면 업무 상 큰 영향이 발생하는 경우\n",
    "  - 정밀도가 상대적으로 더 중요한 지표인 경우는 실제 Negative 음성인 데이터 예측을 Positive 양성으로 잘못 판단하게 되면 업무상 큰 영향이 발생하는 경우\n",
    "    - 스팸메일 필터링 할 때, 실제론 업무 메일이지만 스팸으로 판단하는 경우"
   ]
  },
  {
   "cell_type": "markdown",
   "id": "84246aa3-a1eb-4236-8af8-b472edb93656",
   "metadata": {},
   "source": [
    "- 재현율과 정밀도 모두 TP를 높이는 데 동일하게 초점을 맞추지만, 재현율은 FN를 낮추는 데, 정밀도는 FP를 낮추는 데 초점을 맞춘다.\n",
    "  - 서로 보완적인 지표로 분류의 성능을 평가하는 데 적용된다.\n",
    "  - 가장 좋은 성능 평가는 둘 다 높은 수치를 얻는 것"
   ]
  },
  {
   "cell_type": "markdown",
   "id": "b658640e-3f9d-4e96-879c-857f6340e80b",
   "metadata": {},
   "source": [
    "```python\n",
    "from sklearn.metrics import accuracy_score, precision_score , recall_score , confusion_matrix\n",
    "# (순서대로) 정확도, 정밀도, 재현율, 오차 행렬 불러옴\n",
    "\n",
    "# 평가를 한 번에 호출하는 함수\n",
    "def get_clf_eval(y_test , pred): # get classification evaluation\n",
    "    confusion = confusion_matrix( y_test, pred)\n",
    "    accuracy = accuracy_score(y_test , pred)\n",
    "    precision = precision_score(y_test , pred)\n",
    "    recall = recall_score(y_test , pred)\n",
    "    print('오차 행렬')\n",
    "    print(confusion)\n",
    "    print('정확도: {0:.4f}, 정밀도: {1:.4f}, 재현율: {2:.4f}'.format(accuracy , precision ,recall))\n",
    "# 로지스틱 회귀 기반 예측 수행 후, 평가해보자\n",
    "import numpy as np\n",
    "import pandas as pd\n",
    "from sklearn.model_selection import train_test_split \n",
    "from sklearn.linear_model import LogisticRegression # 로지스틱 회귀\n",
    "\n",
    "# 원본 데이터를 재로딩, 데이터 가공, 학습데이터/테스트 데이터 분할. \n",
    "titanic_df = pd.read_csv('train.csv')\n",
    "y_titanic_df = titanic_df['Survived'] # 정답 레이블 추출\n",
    "X_titanic_df= titanic_df.drop('Survived', axis=1) # feature 레이블 추출\n",
    "# train_test_split 함수 사용위해서 정답레이블과 feature 레이블을 분리해서 넣어주어야 한다.그래서 분리해서 따로 저장해두었던 것\n",
    "\n",
    "X_titanic_df = transform_features(X_titanic_df) # 앞에서 만들었던 데이터 전처리 한 번에 수행하는 함수\n",
    "\n",
    "X_train, X_test, y_train, y_test = train_test_split(X_titanic_df, y_titanic_df, \\\n",
    "                                                    test_size=0.20, random_state=11)\n",
    "\n",
    "lr_clf = LogisticRegression()\n",
    "\n",
    "lr_clf.fit(X_train , y_train) # 학습 수행 中\n",
    "pred = lr_clf.predict(X_test) # 예측 수행 中\n",
    "get_clf_eval(y_test , pred) # 평가해보자\n",
    "```"
   ]
  },
  {
   "cell_type": "markdown",
   "id": "49879c22-1cff-4bcb-a6a5-1f5da2e7f660",
   "metadata": {},
   "source": [
    "- 정밀도에 비해 재현율이 낮게 나왔다.\n",
    "  - 다시 review\n",
    "  - 정밀도 : 양성 예측 중 실제도 양성\n",
    "  - `재`현율 : 실`제` 양성 중 예측도 양성"
   ]
  },
  {
   "cell_type": "markdown",
   "id": "a9eaa8ed-53cf-426d-ac0e-a7ea7e201da2",
   "metadata": {},
   "source": [
    "---"
   ]
  },
  {
   "cell_type": "markdown",
   "id": "daaaefc7-8eb4-4594-b07c-171de59a6038",
   "metadata": {},
   "source": [
    "- 정밀도/재현율 트레이드오프\n",
    "  - 분류하려는 업무의 특성상 정밀도 또는 재현율이 특별히 강조돼야 할 경우 분류의 결정 임계값(Threshold)을 조정해 정밀도 또는 재현율의 수치를 높일 수 있다.\n",
    "    - 사이킷런의 분류 알고리즘 : 일반적으로 이진 분류에서는 결정 임계값을 0.5로 정하고 이 기준 값보다 확률이 크면 Positive, 작으면 Negative로 결정.\n",
    "  - 그러나 이 둘은 상호보완적인 지표, 시소의 관계에 있다. 이를 정밀도/재현율의 트레이드오프라고 부른다."
   ]
  },
  {
   "cell_type": "markdown",
   "id": "a0401272-6872-4417-bf43-b03f1ab1a33a",
   "metadata": {},
   "source": [
    "- 개별 데이터별로 예측 확률을 반환하는 메서드인 predict_proba()\n",
    "- 학습이 완료된 사이킷런 Classifier 객체에서 호출이 가능.\n",
    "  - ```python\n",
    "  lr_clf.predict_proba(X_test)\n",
    "  ```\n",
    "- predict() 메서드와 유사하지만 반환 결과가 예측 결과 클래스 값이 아닌 예측 확률 결과이다.\n",
    "  - 첫 번째 칼럼이 클래스 값 0에 대한 예측 확률, 두 번째 칼럼이 클래스 값 1에 대한 예측 확률."
   ]
  },
  {
   "cell_type": "markdown",
   "id": "23aa5c71-8c85-4f3b-a774-5da32e1dd268",
   "metadata": {},
   "source": [
    "- predict_proba() 메서드와 predict() 메서드의 결과를 비교해보자"
   ]
  },
  {
   "cell_type": "markdown",
   "id": "6504aeb5-9ba7-473f-830c-8423e5138637",
   "metadata": {},
   "source": [
    "```python\n",
    "pred_proba = lr_clf.predict_proba(X_test)\n",
    "pred  = lr_clf.predict(X_test)\n",
    "print('pred_proba()결과 Shape : {0}'.format(pred_proba.shape))\n",
    "print('pred_proba array에서 앞 3개만 샘플로 추출 \\n:', pred_proba[:3])\n",
    "\n",
    "\n",
    "\n",
    "\n",
    "# 예측 확률 array 와 예측 결과값 array 를 concatenate 하여 예측 확률과 결과값을 한눈에 확인\n",
    "pred_proba_result = np.concatenate([pred_proba , pred.reshape(-1,1)],axis=1)\n",
    "print('두개의 class 중에서 더 큰 확률을 클래스 값으로 예측 \\n',pred_proba_result[:3])\n",
    "\n",
    "\n",
    "\n",
    "pred_proba_result에서, pred_proba는 2개의 칼럼으로 이루어져있음을 pred_proba.shape으로 확인했음\n",
    "그 옆에 한 개의 칼럼으로 이진 분류 결과값 붙여주기 위해서 reshape함수 사용했음\n",
    "reshape(-1,1) = 행은 상관하지 말고 1열로\n",
    "reshape(-1,3) = 행은 상관하지 말고 3열로\n",
    "reshape(1,-1) = 열은 상관하지 말고 1행으로\n",
    "reshape(4,-1) = 열은 상관하지 말고 4행으로\n",
    "\n",
    "np.concatenate => R에서의 rbind, cbind 느낌\n",
    "\n",
    "```"
   ]
  },
  {
   "cell_type": "markdown",
   "id": "3c629c99-130c-465f-b90c-df328500fe85",
   "metadata": {},
   "source": [
    "- 사실 predict() 메서드는 predict_proba() 메서드에 기반해 생성된 API이다.\n",
    "- 사이킷런은 분류 결정 임곗값을 조절해 정밀도와 재현율의 성능 수치를 상호 보완적으로 조정할 수 있다."
   ]
  },
  {
   "cell_type": "code",
   "execution_count": 32,
   "id": "741ac997-0580-4180-af83-5ee42112b8c8",
   "metadata": {},
   "outputs": [
    {
     "name": "stdout",
     "output_type": "stream",
     "text": [
      "[[0. 0. 1.]\n",
      " [1. 0. 0.]\n",
      " [0. 0. 1.]]\n"
     ]
    }
   ],
   "source": [
    "from sklearn.preprocessing import Binarizer\n",
    "\n",
    "X = [[ 1, -1,  2],\n",
    "     [ 2,  0,  0],\n",
    "     [ 0,  1.1, 1.2]]\n",
    "\n",
    "\n",
    "# threshold 기준값 이하이면 0을, 크면 1을 반환\n",
    "binarizer = Binarizer(threshold=1.1)                     \n",
    "print(binarizer.fit_transform(X))"
   ]
  },
  {
   "cell_type": "markdown",
   "id": "0df89e25-1547-4650-8ab9-a36e68fec8bd",
   "metadata": {},
   "source": [
    "- 이제 이 Binarizer를 이용해 사이킷런의 predict()의 의사(pseudo) 코드를 만들어보자"
   ]
  },
  {
   "cell_type": "markdown",
   "id": "be08480d-a8b1-4bd2-9cd9-bc7eb3197601",
   "metadata": {},
   "source": [
    "```python\n",
    "#Binarizer의 threshold 설정값. 분류 결정 임곗값임.  \n",
    "custom_threshold = 0.5\n",
    "\n",
    "# predict_proba( ) 반환값의 두번째 컬럼(두개의 컬럼 중 하나는 Negative, 두 번째는 Positive칼럼)\n",
    "# 즉 Positive 클래스 컬럼 하나만 추출하여 Binarizer를 적용\n",
    "pred_proba_1 = pred_proba[:,1].reshape(-1,1) # 행은 상관하지 않고 1열로 추출\n",
    "\n",
    "binarizer = Binarizer(threshold=custom_threshold).fit(pred_proba_1) \n",
    "custom_predict = binarizer.transform(pred_proba_1)\n",
    "\n",
    "get_clf_eval(y_test, custom_predict)\n",
    "```"
   ]
  },
  {
   "cell_type": "markdown",
   "id": "903e2803-edd1-4e64-a1db-8e375a729d88",
   "metadata": {},
   "source": [
    "- pred : 0.5기준으로 0과 1로 나눴음\n",
    "- pred_proba -> 예측 확률을 반환함\n",
    "  - 그러나 Binarizer를 이용하여 pred와 똑같은 결과를 반환하였음"
   ]
  },
  {
   "cell_type": "markdown",
   "id": "e365a77f-a4d5-4be7-984d-556706705bfe",
   "metadata": {},
   "source": [
    "- 앞의 결과와 일맥상통\n",
    "  - 즉, pred와 pred_proba가 동일 과정을 거침을 알 수 있다. \n",
    "    - 둘다 threshold가 0.5임을 알 수 있다. \n",
    "  - 이제 진짜 threshold를 조정해보자"
   ]
  },
  {
   "cell_type": "markdown",
   "id": "96c48fc0-ad4d-46b1-9840-a1cde4bdfd1a",
   "metadata": {},
   "source": [
    "```python\n",
    "# Binarizer의 threshold 설정값을 0.4로 설정. 즉 분류 결정 임곗값을 0.5에서 0.4로 낮춤  \n",
    "custom_threshold = 0.4\n",
    "pred_proba_1 = pred_proba[:,1].reshape(-1,1)\n",
    "binarizer = Binarizer(threshold=custom_threshold).fit(pred_proba_1) \n",
    "custom_predict = binarizer.transform(pred_proba_1)\n",
    "\n",
    "get_clf_eval(y_test , custom_predict)\n",
    "```"
   ]
  },
  {
   "cell_type": "markdown",
   "id": "4f756576-916a-4175-958b-a5e3a05c933f",
   "metadata": {},
   "source": [
    "- 임계값 하향 조정\n",
    "  - 재현율 상승, 정밀도 하락\n",
    "    - 재현율이 상승했다.\n",
    "      - 재현율 : 실제 양성 중 양성을 예측하는 확률\n",
    "      - 즉 TP / FN + TP에서 FN이 낮아진 것을 의미함.\n",
    "    - threshold = Positive 예측값을 결정하는 확률의 기준.\n",
    "    - threshold 하향조정함으로써 Positive 결정이 너그러워졌음\n",
    "    - True 값이 많아졌다.\n",
    "    - Positive 예측값이 많아지면 상대적으로 재현율 값 상승\n",
    "    - 양성 예측을 많이 하다 보니 실제 양성을 음성(FN)으로 예측하는 횟수가 상대적으로 줄어듦"
   ]
  },
  {
   "cell_type": "markdown",
   "id": "39846ce3-33ad-47be-a4c7-751c0b0f38f9",
   "metadata": {},
   "source": [
    "- 임계값은 0.4에서 0.5, 0.6 증가시키며 평가지표 확인"
   ]
  },
  {
   "cell_type": "markdown",
   "id": "c0ea4791-a23d-4945-b097-4c19724ae781",
   "metadata": {},
   "source": [
    "---"
   ]
  },
  {
   "cell_type": "markdown",
   "id": "0d850e94-2a12-4632-8fcf-1a5ac3001c09",
   "metadata": {},
   "source": [
    "```python\n",
    "# 테스트를 수행할 모든 임곗값을 리스트 객체로 저장. \n",
    "thresholds = [0.4, 0.45, 0.50, 0.55, 0.60]\n",
    "\n",
    "def get_eval_by_threshold(y_test , pred_proba_c1, thresholds):\n",
    "    # thresholds list객체내의 값을 차례로 iteration하면서 Evaluation 수행.\n",
    "    for custom_threshold in thresholds:\n",
    "        binarizer = Binarizer(threshold=custom_threshold).fit(pred_proba_c1) \n",
    "        custom_predict = binarizer.transform(pred_proba_c1) # 여기서 임계값을 기준으로 N 혹은 P로 나눌 것임.\n",
    "        print('임곗값:',custom_threshold)\n",
    "        get_clf_eval(y_test , custom_predict)\n",
    "\n",
    "get_eval_by_threshold(y_test ,pred_proba[:,1].reshape(-1,1), thresholds )\n",
    "# 해당 함수에 pred_proba_c1 자리에 양성예측 확률을 넣어줬음\n",
    "```"
   ]
  },
  {
   "cell_type": "markdown",
   "id": "08355c71-8b92-4810-a54f-adca1c9af664",
   "metadata": {},
   "source": [
    "- threshold가 0.45일 경우에 default 값이었던 0.5인 경우와 비교해서, 정확도 동일, 정밀도 약간 하락, 재현율 상승\n",
    "  - 재현율을 상승시키면서 다른 수치의 손해를 어느 정도 감안한다면 threshold = 0.45가 적당해 보인다."
   ]
  },
  {
   "cell_type": "markdown",
   "id": "5e7850c0-23e6-4fe3-9dc4-3cb293c5ce1d",
   "metadata": {},
   "source": [
    "----"
   ]
  },
  {
   "cell_type": "markdown",
   "id": "faec03f2-e9a2-4518-8ee9-ae3cecfdd1b0",
   "metadata": {},
   "source": [
    "- 이와 유사한 기능인 precision_recall_curve() API가 있다.\n",
    "  - threshold별 정밀도와 재현율 알 수 있다."
   ]
  },
  {
   "cell_type": "markdown",
   "id": "4d16c72a-4c24-4bc2-9256-972c9da719c3",
   "metadata": {},
   "source": [
    "- `precision_recall_curve()는 일반적으로 0.11~0.95 정도의 threshold를 담은 ndarray와 이 임계값에 해당하는 정밀도 및 재현율 값을 담은 ndarray를 반환한다` \n",
    "  ```python\n",
    "  precisions, recalls, thresholds = precision_recall_curve(y_test, pred_proba_class1 )\n",
    "  ```"
   ]
  },
  {
   "cell_type": "markdown",
   "id": "955e695a-0b42-483b-a13c-fc5cf5124045",
   "metadata": {},
   "source": [
    "```python\n",
    "from sklearn.metrics import precision_recall_curve\n",
    "\n",
    "# 레이블 값이 1일때의 예측 확률을 추출 \n",
    "pred_proba_class1 = lr_clf.predict_proba(X_test)[:, 1] \n",
    "# 인자로 테스트 데이터 셋인 X_test를 넣어줬음\n",
    "# 학습된 모델에서 테스트 데이터 셋 넣어줬으니 예측할 것임.\n",
    "\n",
    "# 실제값 데이터 셋(y_test)과 레이블 값이 1일 때의 예측 확률을 precision_recall_curve 인자로 입력 \n",
    "precisions, recalls, thresholds = precision_recall_curve(y_test, pred_proba_class1 )\n",
    "print('반환된 분류 결정 임곗값 배열의 Shape:', thresholds.shape)\n",
    "print('반환된 precisions 배열의 Shape:', precisions.shape)\n",
    "print('반환된 recalls 배열의 Shape:', recalls.shape)\n",
    "\n",
    "print(\"thresholds 5 sample:\", thresholds[:5])\n",
    "print(\"precisions 5 sample:\", precisions[:5])\n",
    "print(\"recalls 5 sample:\", recalls[:5])\n",
    "\n",
    "#반환된 임계값 배열 로우가 147건이므로 샘플로 10건만 추출하되, 임곗값을 15 Step으로 추출. \n",
    "thr_index = np.arange(0, thresholds.shape[0], 15)\n",
    "print('샘플 추출을 위한 임계값 배열의 index 10개:', thr_index)\n",
    "print('샘플용 10개의 임곗값: ', np.round(thresholds[thr_index], 2))\n",
    "\n",
    "# 15 step 단위로 추출된 임계값에 따른 정밀도와 재현율 값 \n",
    "print('샘플 임계값별 정밀도: ', np.round(precisions[thr_index], 3))\n",
    "print('샘플 임계값별 재현율: ', np.round(recalls[thr_index], 3))ㅡ\n",
    "```"
   ]
  },
  {
   "cell_type": "markdown",
   "id": "6fc3c2e3-35ff-40a6-9a0e-e9928e24c817",
   "metadata": {},
   "source": [
    "- threshold 값이 증가할수록 정밀도 값은 동시에 높아지나. 재현율 값은 낮아진다.\n",
    "  - 임계값이 증가한다 $\\to$ 양성으로 판단할 경우가 낮아짐 $\\to$ 정밀도(양성 예측에 해당되는 분모가 낮아짐)가 높아짐\n",
    "- 정밀도와 재현율의 임계값에 따른 값 변화를 곡선 형태의 그래프로 시각화 할 수 있다. (166p 참고)"
   ]
  },
  {
   "cell_type": "markdown",
   "id": "5284575d-afe0-4bb8-9b52-63142084e0fc",
   "metadata": {},
   "source": [
    "-----"
   ]
  },
  {
   "cell_type": "markdown",
   "id": "a680c01d-b5cd-4a4f-ac1f-26c3284a876a",
   "metadata": {},
   "source": [
    "> 결론\n",
    "\n",
    "    Positive 예측의 임계값을 변경함에 따라 정밀도와 재현율의 수치가 변경된다. \n",
    "    임계값의 이러한 변경은 업무 환경에 맞게 두 개의 수치를 상호 보완할 수 있는 수준에서 적용돼야 한다.\n",
    "    물론 분류가 정밀도 또는 재현율 중 하나에 상대적인 중요도를 부여해 각 예측 상황에 맞는 분류 알고리즘을 튜닝할 수 있지만, 그렇다고 정밀도/재현율 중 하나만 강조하는 상황이 돼서는 안 된다. (예를 들어, 암 예측 모델에서 재현율을 높인다고 걸핏하면 양성으로 판단하는 건 지양해야 하듯 말이다.)"
   ]
  },
  {
   "cell_type": "markdown",
   "id": "d8a19551-3444-4cb0-910b-1826b500ef83",
   "metadata": {},
   "source": [
    "---"
   ]
  },
  {
   "cell_type": "markdown",
   "id": "3e076515-f276-4338-93fd-1314e24485c2",
   "metadata": {},
   "source": [
    "- F1 스코어\n",
    "  - 정밀도와 재현율을 결합한 지표\n",
    "  - 정밀도와 재현율이 어느 한쪽으로 치우치지 않는 수치를 나타낼 때 상대적으로 높은 값을 가진다.\n",
    "  - $2 * \\frac{precision * recall}{precision + recall}$"
   ]
  },
  {
   "cell_type": "markdown",
   "id": "5658a30c-69da-40b9-b88a-189f89e64fae",
   "metadata": {},
   "source": [
    "```python\n",
    "from sklearn.metrics import f1_score \n",
    "f1 = f1_score(y_test , pred)\n",
    "print('F1 스코어: {0:.4f}'.format(f1))\n",
    "```"
   ]
  },
  {
   "cell_type": "markdown",
   "id": "91569ad6-55a3-489d-bbf6-ec24cffb2100",
   "metadata": {},
   "source": [
    "- 임계값을 변화시키면서 F1 스코어를 포함한 평가 지표(정확도, 정밀도, 재현율, F1 스코어)를 구해보자"
   ]
  },
  {
   "cell_type": "markdown",
   "id": "7765f457-cfbe-438f-8219-ad91f88dd818",
   "metadata": {},
   "source": [
    "```python\n",
    "def get_clf_eval(y_test , pred):\n",
    "    confusion = confusion_matrix( y_test, pred) # 오차 행렬\n",
    "    accuracy = accuracy_score(y_test , pred) # 정확도\n",
    "    precision = precision_score(y_test , pred) # 정밀도\n",
    "    recall = recall_score(y_test , pred) # 재현율\n",
    "    f1 = f1_score(y_test,pred) # F1 스코어 추가\n",
    "    print('오차 행렬')\n",
    "    print(confusion)\n",
    "    # f1 score print 추가\n",
    "    print('정확도: {0:.4f}, 정밀도: {1:.4f}, 재현율: {2:.4f}, F1:{3:.4f}'.format(accuracy, precision, recall, f1))\n",
    "\n",
    "thresholds = [0.4 , 0.45 , 0.50 , 0.55 , 0.60]\n",
    "pred_proba = lr_clf.predict_proba(X_test) # 이게 predict ,예측 역할을 하는 것.\n",
    "get_eval_by_threshold(y_test, pred_proba[:,1].reshape(-1,1), thresholds)\n",
    "```"
   ]
  },
  {
   "cell_type": "markdown",
   "id": "87bfcaf2-9d4b-4010-8484-40f9a2143d96",
   "metadata": {},
   "source": [
    "- get_eval_by_threshold 메서드 안에 get_clf_eval 메서드가 들어있음"
   ]
  },
  {
   "cell_type": "markdown",
   "id": "a43382fc-1511-4f95-b8f8-ed7d06e48dd8",
   "metadata": {},
   "source": [
    "- F1 스코어는 임곗값이 0.6일 때, 가장 좋은 값을 보여준다. \n",
    "  - 하지만 임곗값이 0.6인 경우에는 재현율이 크게 감소하고 있으니 주지해야 한다."
   ]
  },
  {
   "cell_type": "markdown",
   "id": "0dff0df9-d703-4658-9132-34091c72cd7a",
   "metadata": {},
   "source": [
    "---"
   ]
  },
  {
   "cell_type": "markdown",
   "id": "d0001e85-b774-4b7e-b5df-3778213717d4",
   "metadata": {},
   "source": [
    "- ROC 곡선과 AUC(Area Under Curve : 곡선하면적)\n",
    "  - ROC 곡선과 이에 기반한 AUC 스코어는 이진 분류의 예측 성능 측정에서 중요하게 사용되는 지표이다.\n",
    "  - ROC 곡선은 FPR(False Positive Rate) = 1 - TNR 또는 1 - 특이성이 변할 때, TPR(True Positive Rate) = 재현율, 민감도가 어떻게 변하는지를 나타내는 곡선이다."
   ]
  },
  {
   "cell_type": "markdown",
   "id": "c240bff0-f45c-4b8e-91f5-da1c262ba5e6",
   "metadata": {},
   "source": [
    "- 민감도(TPR)는 실제값 Positive가 정확히 예측돼야 하는 수준을 나타낸다. (질병이 있는 사람을 질병이 있는 것으로 양성 판정)\n",
    "- 특이성(TNR)은 실제값 Negative가 정확히 예측돼야 하는 수준을 나타낸다. (질병이 없는 사람을 질병이 없는 것으로 음성 판정)\n",
    "  - 민감도에 대응하는 지표가 특이성이다."
   ]
  },
  {
   "cell_type": "markdown",
   "id": "6bd64c5e-f450-4d3c-9b70-71258915d7da",
   "metadata": {},
   "source": [
    "- 사이킷런은 ROC 곡선을 구하기 위해 roc_curve() API를 제공.\n",
    "  - precision_recall_curve() API와 유사."
   ]
  },
  {
   "cell_type": "markdown",
   "id": "994a8629-a590-4083-816c-d1be619b2634",
   "metadata": {},
   "source": [
    "- ROC 곡선을 이용해 타이타닉 생존자 예측 모델의 FPR, TPR, 임계값을 구해 보자."
   ]
  },
  {
   "cell_type": "markdown",
   "id": "68b0896d-1401-4d6d-afa3-93ffc059ba06",
   "metadata": {},
   "source": [
    "```python\n",
    "from sklearn.metrics import roc_curve\n",
    "\n",
    "# 레이블 값이 1일때의 예측 확률을 추출 \n",
    "pred_proba_class1 = lr_clf.predict_proba(X_test)[:, 1] \n",
    "\n",
    "fprs , tprs , thresholds = roc_curve(y_test, pred_proba_class1)\n",
    "# 반환 결과 \n",
    "# fprs = fpr 값을 array로 반환\n",
    "# tprs = tpr 값을 array로 반환\n",
    "# threshold = threshold 값 array\n",
    "\n",
    "# 반환된 임곗값 배열 로우가 47건이므로 샘플로 10건만 추출하되, 임곗값을 5 Step으로 추출. \n",
    "thr_index = np.arange(0, thresholds.shape[0], 5)\n",
    "print('샘플 추출을 위한 임곗값 배열의 index 10개:', thr_index)\n",
    "print('샘플용 10개의 임곗값: ', np.round(thresholds[thr_index], 2))\n",
    "\n",
    "# 5 step 단위로 추출된 임계값에 따른 FPR, TPR 값\n",
    "print('샘플 임곗값별 FPR: ', np.round(fprs[thr_index], 3))\n",
    "print('샘플 임곗값별 TPR: ', np.round(tprs[thr_index], 3))\n",
    "```"
   ]
  },
  {
   "cell_type": "markdown",
   "id": "11aaaf39-4667-41e6-b8f2-0c8966054ebe",
   "metadata": {},
   "source": [
    "- 임곗값이 1에 가까운 값에서 점점 작아지면서 FPR이 점점 커진다.\n",
    "  - 임계값이 점점 작아진다 -> Positive 확률이 높아진다 -> FPR이 점점 커진다\n",
    "  - 그리고 FPR이 조금씩 커질 때, TPR은 가파르게 커짐을 알 수 있다."
   ]
  },
  {
   "cell_type": "markdown",
   "id": "51e29791-84bc-4c3a-990d-a172b813b6f4",
   "metadata": {},
   "source": [
    "- ROC 곡선은 원점을 지나는 직선에 가까울수록 성능이 떨어지는 것이며, 멀어질수록 성능이 뛰어난 것이다."
   ]
  },
  {
   "cell_type": "markdown",
   "id": "ddadd520-5144-4c5e-871e-67fb3ad66c7e",
   "metadata": {},
   "source": [
    "- 일반적으로 ROC 곡선 자체는 FPR과 TPR의 변화 값을 보는 데 이용하며 분류의 성능 지표로 사용되는 것은 ROC 곡선 면적에 기반한 AUC 값으로 결정한다.\n",
    "- AUC 값은 일반적으로 1에 가까울수록 좋은 수치이다.\n",
    "- AUC가 커지려면 FPR이 작은 상태에서 얼마나 큰 TPR을 얻을 수 있느냐가 관건이다."
   ]
  },
  {
   "cell_type": "markdown",
   "id": "bfb47b7d-0493-4e10-b428-78fcd02e0d8c",
   "metadata": {},
   "source": [
    "```python\n",
    "from sklearn.metrics import roc_auc_score\n",
    "\n",
    "pred_proba = lr_clf.predict_proba(X_test)[:, 1]\n",
    "roc_score = roc_auc_score(y_test, pred_proba)\n",
    "print('ROC AUC 값: {0:.4f}'.format(roc_score))\n",
    "```"
   ]
  },
  {
   "cell_type": "markdown",
   "id": "5d767ea3-70bd-4587-8838-f0c08f8e4ae7",
   "metadata": {},
   "source": [
    "- 타이타닉 생존자 예측 로지스틱 회귀 모델의 ROC AUC 값은 0.9024로 추정됐다."
   ]
  },
  {
   "cell_type": "markdown",
   "id": "167aec63-41c2-453e-876d-e36adb9d7b99",
   "metadata": {},
   "source": [
    "```python\n",
    "def get_clf_eval(y_test, pred=None, pred_proba=None):\n",
    "    confusion = confusion_matrix( y_test, pred)\n",
    "    accuracy = accuracy_score(y_test , pred)\n",
    "    precision = precision_score(y_test , pred)\n",
    "    recall = recall_score(y_test , pred)\n",
    "    f1 = f1_score(y_test,pred)\n",
    "    roc_auc = roc_auc_score(y_test, pred_proba) ##### ROC-AUC 추가 #####\n",
    "    print('오차 행렬')\n",
    "    print(confusion)\n",
    "    # ROC-AUC print 추가\n",
    "    print('정확도: {0:.4f}, 정밀도: {1:.4f}, 재현율: {2:.4f},\\\n",
    "          F1: {3:.4f}, AUC:{4:.4f}'.format(accuracy, precision, recall, f1, roc_auc))\n",
    "```"
   ]
  },
  {
   "cell_type": "markdown",
   "id": "b6d4347e-bc0c-4f5a-bad9-766a57f18628",
   "metadata": {},
   "source": [
    "- ROC AUC는 예측 확률값을 기반으로 계산되므로 이를 get_clf_eval() 함수의 인자로 받을 수 있도록 \n",
    "```python\n",
    "def get_clf_eval(y_test, pred=None, pred_proba=None):\n",
    "```\n",
    "- 로 함수형을 변경해준다.\n",
    "- ROC AUC이전에 get_clf_eval은 pred -> 즉 prediction -> 즉 확률값이 아닌, 확률값에 기반해서 임계값을 넘으면 1로 예측한 결과값을 넣어줬음\n",
    "- 따라서 위 함수의 pred값들은 전부 0,1로 이루어진 배열이었음\n",
    "  - pred_proba를 이용할 땐, Binarizer를 이용해서 1로 예측하는 확률을 임의의 임계값을 기준으로 전부 이진분류해주고 pred로 넣어줬음\n",
    "  - 그런데 ROC AUC는 이진분류된 0,1들을 인자로 받지 않고 그냥 예측 확률 자체를 인자로 받겠다는 말임\n",
    "  - 즉 confusion부터 F1까지만 이용하려면 pred 인자 자리에 값을 넣어주면 되고 여기에 ROC AUC까지 이용하려면 pred_proba인자에 값을 넣어주면 됨\n",
    "  - 안 넣으면 그 평가지표는 출력이 안 되는 것임\n",
    " "
   ]
  },
  {
   "cell_type": "markdown",
   "id": "bec84d7e-6801-47e3-a873-bbb7dbfcc68f",
   "metadata": {},
   "source": [
    "> ### 함수에서 인자의 값으로 None 입력 ?\n",
    "\n",
    "    값을 따로 주지 않으면, 실행 자체가 안 된다.\n",
    "    None을 줌으로써 사용안 할 땐 그냥 할당하지 않으면 되고, 사용할 땐 할당을 해주면 된다."
   ]
  },
  {
   "cell_type": "code",
   "execution_count": 3,
   "id": "16deefc4-c579-4f63-8a10-162d997bfebc",
   "metadata": {},
   "outputs": [],
   "source": [
    "def f1(a,b=None):\n",
    "    print(a)\n",
    "    print(b)"
   ]
  },
  {
   "cell_type": "code",
   "execution_count": 4,
   "id": "46a81caa-05b8-4895-8c3b-effdc8b56275",
   "metadata": {},
   "outputs": [
    {
     "name": "stdout",
     "output_type": "stream",
     "text": [
      "123\n",
      "None\n"
     ]
    }
   ],
   "source": [
    "f1(123)"
   ]
  },
  {
   "cell_type": "code",
   "execution_count": 6,
   "id": "3cf8380d-c1f5-4cd3-b58c-91329aa8b378",
   "metadata": {},
   "outputs": [
    {
     "ename": "TypeError",
     "evalue": "f1() missing 1 required positional argument: 'a'",
     "output_type": "error",
     "traceback": [
      "\u001b[1;31m---------------------------------------------------------------------------\u001b[0m",
      "\u001b[1;31mTypeError\u001b[0m                                 Traceback (most recent call last)",
      "\u001b[1;32m~\\AppData\\Local\\Temp/ipykernel_10832/1072609966.py\u001b[0m in \u001b[0;36m<module>\u001b[1;34m\u001b[0m\n\u001b[1;32m----> 1\u001b[1;33m \u001b[0mf1\u001b[0m\u001b[1;33m(\u001b[0m\u001b[0mb\u001b[0m\u001b[1;33m=\u001b[0m\u001b[1;36m2\u001b[0m\u001b[1;33m)\u001b[0m\u001b[1;33m\u001b[0m\u001b[1;33m\u001b[0m\u001b[0m\n\u001b[0m",
      "\u001b[1;31mTypeError\u001b[0m: f1() missing 1 required positional argument: 'a'"
     ]
    }
   ],
   "source": [
    "f1(b=2)"
   ]
  },
  {
   "cell_type": "markdown",
   "id": "39b1dd98-8b58-49ab-b8df-ec273154e27f",
   "metadata": {},
   "source": [
    "- a는 None처리 안 해줬으므로 입력 안 해주면 error가 발생하는 것"
   ]
  },
  {
   "cell_type": "code",
   "execution_count": 15,
   "id": "7e9723af-f108-4c89-801c-51d12181bb25",
   "metadata": {},
   "outputs": [
    {
     "name": "stdout",
     "output_type": "stream",
     "text": [
      "123\n",
      "14\n"
     ]
    }
   ],
   "source": [
    "f1(123,14)"
   ]
  },
  {
   "cell_type": "markdown",
   "id": "2a5d0dd9-408f-4030-b125-894c95610954",
   "metadata": {},
   "source": [
    "---"
   ]
  },
  {
   "cell_type": "markdown",
   "id": "d1b69267-f028-4a9d-9025-5dd1d3443288",
   "metadata": {},
   "source": [
    "---"
   ]
  },
  {
   "cell_type": "markdown",
   "id": "536d823d-c96f-4ba0-a521-b3ac94565a0e",
   "metadata": {},
   "source": [
    "---"
   ]
  },
  {
   "cell_type": "markdown",
   "id": "e256cf74-3f30-464e-a838-e6f59e2279af",
   "metadata": {},
   "source": [
    "---"
   ]
  },
  {
   "cell_type": "markdown",
   "id": "3c1a8b51-b172-427f-893a-3d2c6109c90a",
   "metadata": {},
   "source": [
    "# 피마 인디언 당뇨병 예측\n",
    "  - 당뇨병 여부 판단하는 머신러닝 예측 모델 수립, 평가 지표 적용"
   ]
  },
  {
   "cell_type": "code",
   "execution_count": 3,
   "id": "a110bca7-9011-4f28-b7d6-855a4bc65735",
   "metadata": {},
   "outputs": [
    {
     "name": "stdout",
     "output_type": "stream",
     "text": [
      "0    500\n",
      "1    268\n",
      "Name: Outcome, dtype: int64\n"
     ]
    },
    {
     "data": {
      "text/html": [
       "<div>\n",
       "<style scoped>\n",
       "    .dataframe tbody tr th:only-of-type {\n",
       "        vertical-align: middle;\n",
       "    }\n",
       "\n",
       "    .dataframe tbody tr th {\n",
       "        vertical-align: top;\n",
       "    }\n",
       "\n",
       "    .dataframe thead th {\n",
       "        text-align: right;\n",
       "    }\n",
       "</style>\n",
       "<table border=\"1\" class=\"dataframe\">\n",
       "  <thead>\n",
       "    <tr style=\"text-align: right;\">\n",
       "      <th></th>\n",
       "      <th>Pregnancies</th>\n",
       "      <th>Glucose</th>\n",
       "      <th>BloodPressure</th>\n",
       "      <th>SkinThickness</th>\n",
       "      <th>Insulin</th>\n",
       "      <th>BMI</th>\n",
       "      <th>DiabetesPedigreeFunction</th>\n",
       "      <th>Age</th>\n",
       "      <th>Outcome</th>\n",
       "    </tr>\n",
       "  </thead>\n",
       "  <tbody>\n",
       "    <tr>\n",
       "      <th>0</th>\n",
       "      <td>6</td>\n",
       "      <td>148</td>\n",
       "      <td>72</td>\n",
       "      <td>35</td>\n",
       "      <td>0</td>\n",
       "      <td>33.6</td>\n",
       "      <td>0.627</td>\n",
       "      <td>50</td>\n",
       "      <td>1</td>\n",
       "    </tr>\n",
       "    <tr>\n",
       "      <th>1</th>\n",
       "      <td>1</td>\n",
       "      <td>85</td>\n",
       "      <td>66</td>\n",
       "      <td>29</td>\n",
       "      <td>0</td>\n",
       "      <td>26.6</td>\n",
       "      <td>0.351</td>\n",
       "      <td>31</td>\n",
       "      <td>0</td>\n",
       "    </tr>\n",
       "    <tr>\n",
       "      <th>2</th>\n",
       "      <td>8</td>\n",
       "      <td>183</td>\n",
       "      <td>64</td>\n",
       "      <td>0</td>\n",
       "      <td>0</td>\n",
       "      <td>23.3</td>\n",
       "      <td>0.672</td>\n",
       "      <td>32</td>\n",
       "      <td>1</td>\n",
       "    </tr>\n",
       "  </tbody>\n",
       "</table>\n",
       "</div>"
      ],
      "text/plain": [
       "   Pregnancies  Glucose  BloodPressure  SkinThickness  Insulin   BMI  \\\n",
       "0            6      148             72             35        0  33.6   \n",
       "1            1       85             66             29        0  26.6   \n",
       "2            8      183             64              0        0  23.3   \n",
       "\n",
       "   DiabetesPedigreeFunction  Age  Outcome  \n",
       "0                     0.627   50        1  \n",
       "1                     0.351   31        0  \n",
       "2                     0.672   32        1  "
      ]
     },
     "execution_count": 3,
     "metadata": {},
     "output_type": "execute_result"
    }
   ],
   "source": [
    "import numpy as np\n",
    "import pandas as pd\n",
    "import matplotlib.pyplot as plt\n",
    "%matplotlib inline\n",
    "\n",
    "from sklearn.model_selection import train_test_split\n",
    "from sklearn.metrics import accuracy_score, precision_score, recall_score, roc_auc_score\n",
    "from sklearn.metrics import f1_score, confusion_matrix, precision_recall_curve, roc_curve\n",
    "from sklearn.preprocessing import StandardScaler\n",
    "from sklearn.linear_model import LogisticRegression\n",
    "\n",
    "diabetes_data = pd.read_csv('diabetes.csv')\n",
    "print(diabetes_data['Outcome'].value_counts())\n",
    "diabetes_data.head(3)"
   ]
  },
  {
   "cell_type": "markdown",
   "id": "c3fe2793-a429-476c-bd86-5f7814453022",
   "metadata": {},
   "source": [
    "- Outcome이 종속변수 역할"
   ]
  },
  {
   "cell_type": "markdown",
   "id": "bdad8c2f-664e-489a-9ba2-347f6e069119",
   "metadata": {},
   "source": [
    "---"
   ]
  },
  {
   "cell_type": "markdown",
   "id": "3f69468e-621d-492d-8154-56f1211d27e9",
   "metadata": {},
   "source": [
    "> 잡담"
   ]
  },
  {
   "cell_type": "code",
   "execution_count": 8,
   "id": "b8a834ef-6912-491a-86f4-ce391f905fad",
   "metadata": {},
   "outputs": [
    {
     "data": {
      "text/plain": [
       "0    500\n",
       "1    268\n",
       "Name: Outcome, dtype: int64"
      ]
     },
     "execution_count": 8,
     "metadata": {},
     "output_type": "execute_result"
    }
   ],
   "source": [
    "diabetes_data['Outcome'].value_counts()"
   ]
  },
  {
   "cell_type": "code",
   "execution_count": 9,
   "id": "ce476821-022c-4b3a-89ac-c66f3b8f3bac",
   "metadata": {},
   "outputs": [
    {
     "data": {
      "text/plain": [
       "pandas.core.series.Series"
      ]
     },
     "execution_count": 9,
     "metadata": {},
     "output_type": "execute_result"
    }
   ],
   "source": [
    "type(diabetes_data['Outcome'].value_counts())"
   ]
  },
  {
   "cell_type": "code",
   "execution_count": 11,
   "id": "a1723a0d-f4a4-481b-b465-959b841d9c8a",
   "metadata": {},
   "outputs": [],
   "source": [
    "a = diabetes_data['Outcome'].value_counts()"
   ]
  },
  {
   "cell_type": "code",
   "execution_count": 12,
   "id": "7ebebfd7-2c52-4d87-b723-2256a0367bff",
   "metadata": {},
   "outputs": [
    {
     "data": {
      "text/plain": [
       "Int64Index([0, 1], dtype='int64')"
      ]
     },
     "execution_count": 12,
     "metadata": {},
     "output_type": "execute_result"
    }
   ],
   "source": [
    "a.index"
   ]
  },
  {
   "cell_type": "code",
   "execution_count": 13,
   "id": "e59fe283-4bea-4da6-9c58-78d2f10ee6b3",
   "metadata": {},
   "outputs": [
    {
     "data": {
      "text/plain": [
       "array([500, 268], dtype=int64)"
      ]
     },
     "execution_count": 13,
     "metadata": {},
     "output_type": "execute_result"
    }
   ],
   "source": [
    "a.values"
   ]
  },
  {
   "cell_type": "code",
   "execution_count": 14,
   "id": "36e5e66c-fc07-475a-a571-35a5046a08f2",
   "metadata": {},
   "outputs": [
    {
     "data": {
      "text/plain": [
       "<AxesSubplot:>"
      ]
     },
     "execution_count": 14,
     "metadata": {},
     "output_type": "execute_result"
    },
    {
     "data": {
      "image/png": "[encoded data removed]",
      "text/plain": [
       "<Figure size 432x288 with 1 Axes>"
      ]
     },
     "metadata": {
      "needs_background": "light"
     },
     "output_type": "display_data"
    }
   ],
   "source": [
    "a.plot.bar()"
   ]
  },
  {
   "cell_type": "markdown",
   "id": "0d6b3244-0e7d-43d6-bdd0-99e68585cdf7",
   "metadata": {},
   "source": [
    "> 잡담 끝"
   ]
  },
  {
   "cell_type": "markdown",
   "id": "a5bd34e6-4cd2-49d6-a0c5-2bb03d4448b8",
   "metadata": {},
   "source": [
    "---"
   ]
  },
  {
   "cell_type": "markdown",
   "id": "cbbfca4d-57cd-4ba3-8547-e436d8024789",
   "metadata": {},
   "source": [
    "- feature 타입과 Null 개수 확인\n",
    "  - pd.DataFrame에서 info()로 접근\n",
    " "
   ]
  },
  {
   "cell_type": "code",
   "execution_count": 16,
   "id": "212c7877-5e19-4f17-9b0f-721de7e0e929",
   "metadata": {},
   "outputs": [
    {
     "name": "stdout",
     "output_type": "stream",
     "text": [
      "<class 'pandas.core.frame.DataFrame'>\n",
      "RangeIndex: 768 entries, 0 to 767\n",
      "Data columns (total 9 columns):\n",
      " #   Column                    Non-Null Count  Dtype  \n",
      "---  ------                    --------------  -----  \n",
      " 0   Pregnancies               768 non-null    int64  \n",
      " 1   Glucose                   768 non-null    int64  \n",
      " 2   BloodPressure             768 non-null    int64  \n",
      " 3   SkinThickness             768 non-null    int64  \n",
      " 4   Insulin                   768 non-null    int64  \n",
      " 5   BMI                       768 non-null    float64\n",
      " 6   DiabetesPedigreeFunction  768 non-null    float64\n",
      " 7   Age                       768 non-null    int64  \n",
      " 8   Outcome                   768 non-null    int64  \n",
      "dtypes: float64(2), int64(7)\n",
      "memory usage: 54.1 KB\n"
     ]
    }
   ],
   "source": [
    "diabetes_data.info()"
   ]
  },
  {
   "cell_type": "markdown",
   "id": "0ff14711-dd94-4007-b676-e9217ff85762",
   "metadata": {},
   "source": [
    "- feature의 type은 모두 숫자형임\n",
    "- 임신 횟수, 나이와 같은 숫자형 faeture와 당뇨 검사 수치 feature로 구성된 특징으로 볼 떄 별도의 feautre encoding은 필요하지 않음\n",
    "  - 문자열 값이 아니기에 label encoding이나 One-Hot encoding도 불필요\n",
    "  - feature scaling은 별도의 문제임\n",
    "    - 값의 범위같은 것들을 다루는 것이기 때문에 Dtype과는 아직 별개임"
   ]
  },
  {
   "cell_type": "markdown",
   "id": "dc19f426-4bcc-4041-baab-0fffcc529eb5",
   "metadata": {},
   "source": [
    "- 로지스틱 회귀를 이용해 예측 모델을 생성해보자"
   ]
  },
  {
   "cell_type": "markdown",
   "id": "36470c62-219e-44c5-93e5-231b1699c29d",
   "metadata": {},
   "source": [
    "```python \n",
    "X = diabetes_data.iloc[:, :-1] # 피처 데이터 세트 X\n",
    "y = diabetes_data.iloc[:, -1] # 레이블 데이터 세트 y\n",
    "\n",
    "X_train, X_test, y_train, y_test = train_test_split(X, y, test_size=0.2, random_state=156, stratify=y)\n",
    "\n",
    "# stratify: default는 None \n",
    "# classification을 다룰 때 매우 중요한 옵션값\n",
    "# stratify 값을 target으로 지정해주면 각각의 class 비율을 train / test에 유지해 줌. \n",
    "# 한 쪽에 쏠려서 분배되는 것을 방지 \n",
    "# 만약 이 옵션을 지정해 주지 않고 classification 문제를 다룬다면, 성능의 차이가 많이 날 수 있음\n",
    "\n",
    "# 로지스틱 회귀로 학습,예측 및 평가 수행. \n",
    "lr_clf = LogisticRegression(solver='liblinear')\n",
    "# solver = https://stackoverflow.com/questions/38640109/logistic-regression-python-solvers-definitions\n",
    "# 간단히말하면 최적화에 사용할 알고리즘을 결정하는 것\n",
    "# newton-cg, lbfgs, liblinear, sag, saga등을 선택할 수 있음\n",
    "lr_clf.fit(X_train, y_train)\n",
    "pred = lr_clf.predict(X_test) # 예측 label을 반환, 반환 값은 pred에 저장\n",
    "pred_proba = lr_clf.predict_proba(X_test)[:, 1] # 각 label의 확률값을 반환, 반환값을 pred_proba에 저장\n",
    "\n",
    "get_clf_eval(y_test , pred, pred_proba)\n",
    "```"
   ]
  },
  {
   "cell_type": "code",
   "execution_count": 17,
   "id": "219eb353-3df0-4d31-9a14-4c4a343370e1",
   "metadata": {},
   "outputs": [
    {
     "data": {
      "text/plain": [
       "0    500\n",
       "1    268\n",
       "Name: Outcome, dtype: int64"
      ]
     },
     "execution_count": 17,
     "metadata": {},
     "output_type": "execute_result"
    }
   ],
   "source": [
    "diabetes_data.Outcome.value_counts()"
   ]
  },
  {
   "cell_type": "code",
   "execution_count": 18,
   "id": "b4ae5b19-02d4-4ec9-9c42-d9447ac13f62",
   "metadata": {},
   "outputs": [
    {
     "data": {
      "text/plain": [
       "65.10416666666666"
      ]
     },
     "execution_count": 18,
     "metadata": {},
     "output_type": "execute_result"
    }
   ],
   "source": [
    "(500/768)*100"
   ]
  },
  {
   "cell_type": "markdown",
   "id": "337b4b9a-ed46-48fe-9ea6-b380f43bd5cc",
   "metadata": {},
   "source": [
    "- 예측 정확도가 77.27%, 재현율은 59.26%로 측정.\n",
    "- 전체 데이터의 500개가 Negative임\n",
    "  - 65%가 Negative\n",
    "    - 즉 정확도보다는 재현율 성능에 초점 맞춰야함\n",
    "    - 재현율 : 실제 양성을 양성이라고 예측할 확률\n",
    "      - TP / TP + FN\n",
    "      - 즉 data set의 분포 자체가 Negative가 많아 양성으로 예측할 확률이 $\\downarrow$"
   ]
  },
  {
   "cell_type": "markdown",
   "id": "fb93f9f7-a3b6-47d3-a37b-b598868695c1",
   "metadata": {},
   "source": [
    "- 이를 위해 정밀도 재현율 곡선을 보고 임곗값별 정밀도와 재현율 값의 변화를 확인해보자\n",
    "- 재현율 곡선을 보면 임곗값을 0.42 정도로 낮추면 정밀도와 재현율이 어느 정도 균형을 맞출 것 같다.\n",
    "- 하지만 두 개의 지표 모두 0.7이 안 되는 수치로 보인다.\n",
    "- 여전히 두 지표의 값이 낮다.\n",
    "- 임곗값을 인위적으로 조작하기 전에 다시 데이터 값을 점검해보자"
   ]
  },
  {
   "cell_type": "code",
   "execution_count": 20,
   "id": "ba5a8b01-d756-4520-9317-3880a4cd1478",
   "metadata": {},
   "outputs": [
    {
     "data": {
      "text/html": [
       "<div>\n",
       "<style scoped>\n",
       "    .dataframe tbody tr th:only-of-type {\n",
       "        vertical-align: middle;\n",
       "    }\n",
       "\n",
       "    .dataframe tbody tr th {\n",
       "        vertical-align: top;\n",
       "    }\n",
       "\n",
       "    .dataframe thead th {\n",
       "        text-align: right;\n",
       "    }\n",
       "</style>\n",
       "<table border=\"1\" class=\"dataframe\">\n",
       "  <thead>\n",
       "    <tr style=\"text-align: right;\">\n",
       "      <th></th>\n",
       "      <th>Pregnancies</th>\n",
       "      <th>Glucose</th>\n",
       "      <th>BloodPressure</th>\n",
       "      <th>SkinThickness</th>\n",
       "      <th>Insulin</th>\n",
       "      <th>BMI</th>\n",
       "      <th>DiabetesPedigreeFunction</th>\n",
       "      <th>Age</th>\n",
       "      <th>Outcome</th>\n",
       "    </tr>\n",
       "  </thead>\n",
       "  <tbody>\n",
       "    <tr>\n",
       "      <th>count</th>\n",
       "      <td>768.000000</td>\n",
       "      <td>768.000000</td>\n",
       "      <td>768.000000</td>\n",
       "      <td>768.000000</td>\n",
       "      <td>768.000000</td>\n",
       "      <td>768.000000</td>\n",
       "      <td>768.000000</td>\n",
       "      <td>768.000000</td>\n",
       "      <td>768.000000</td>\n",
       "    </tr>\n",
       "    <tr>\n",
       "      <th>mean</th>\n",
       "      <td>3.845052</td>\n",
       "      <td>120.894531</td>\n",
       "      <td>69.105469</td>\n",
       "      <td>20.536458</td>\n",
       "      <td>79.799479</td>\n",
       "      <td>31.992578</td>\n",
       "      <td>0.471876</td>\n",
       "      <td>33.240885</td>\n",
       "      <td>0.348958</td>\n",
       "    </tr>\n",
       "    <tr>\n",
       "      <th>std</th>\n",
       "      <td>3.369578</td>\n",
       "      <td>31.972618</td>\n",
       "      <td>19.355807</td>\n",
       "      <td>15.952218</td>\n",
       "      <td>115.244002</td>\n",
       "      <td>7.884160</td>\n",
       "      <td>0.331329</td>\n",
       "      <td>11.760232</td>\n",
       "      <td>0.476951</td>\n",
       "    </tr>\n",
       "    <tr>\n",
       "      <th>min</th>\n",
       "      <td>0.000000</td>\n",
       "      <td>0.000000</td>\n",
       "      <td>0.000000</td>\n",
       "      <td>0.000000</td>\n",
       "      <td>0.000000</td>\n",
       "      <td>0.000000</td>\n",
       "      <td>0.078000</td>\n",
       "      <td>21.000000</td>\n",
       "      <td>0.000000</td>\n",
       "    </tr>\n",
       "    <tr>\n",
       "      <th>25%</th>\n",
       "      <td>1.000000</td>\n",
       "      <td>99.000000</td>\n",
       "      <td>62.000000</td>\n",
       "      <td>0.000000</td>\n",
       "      <td>0.000000</td>\n",
       "      <td>27.300000</td>\n",
       "      <td>0.243750</td>\n",
       "      <td>24.000000</td>\n",
       "      <td>0.000000</td>\n",
       "    </tr>\n",
       "    <tr>\n",
       "      <th>50%</th>\n",
       "      <td>3.000000</td>\n",
       "      <td>117.000000</td>\n",
       "      <td>72.000000</td>\n",
       "      <td>23.000000</td>\n",
       "      <td>30.500000</td>\n",
       "      <td>32.000000</td>\n",
       "      <td>0.372500</td>\n",
       "      <td>29.000000</td>\n",
       "      <td>0.000000</td>\n",
       "    </tr>\n",
       "    <tr>\n",
       "      <th>75%</th>\n",
       "      <td>6.000000</td>\n",
       "      <td>140.250000</td>\n",
       "      <td>80.000000</td>\n",
       "      <td>32.000000</td>\n",
       "      <td>127.250000</td>\n",
       "      <td>36.600000</td>\n",
       "      <td>0.626250</td>\n",
       "      <td>41.000000</td>\n",
       "      <td>1.000000</td>\n",
       "    </tr>\n",
       "    <tr>\n",
       "      <th>max</th>\n",
       "      <td>17.000000</td>\n",
       "      <td>199.000000</td>\n",
       "      <td>122.000000</td>\n",
       "      <td>99.000000</td>\n",
       "      <td>846.000000</td>\n",
       "      <td>67.100000</td>\n",
       "      <td>2.420000</td>\n",
       "      <td>81.000000</td>\n",
       "      <td>1.000000</td>\n",
       "    </tr>\n",
       "  </tbody>\n",
       "</table>\n",
       "</div>"
      ],
      "text/plain": [
       "       Pregnancies     Glucose  BloodPressure  SkinThickness     Insulin  \\\n",
       "count   768.000000  768.000000     768.000000     768.000000  768.000000   \n",
       "mean      3.845052  120.894531      69.105469      20.536458   79.799479   \n",
       "std       3.369578   31.972618      19.355807      15.952218  115.244002   \n",
       "min       0.000000    0.000000       0.000000       0.000000    0.000000   \n",
       "25%       1.000000   99.000000      62.000000       0.000000    0.000000   \n",
       "50%       3.000000  117.000000      72.000000      23.000000   30.500000   \n",
       "75%       6.000000  140.250000      80.000000      32.000000  127.250000   \n",
       "max      17.000000  199.000000     122.000000      99.000000  846.000000   \n",
       "\n",
       "              BMI  DiabetesPedigreeFunction         Age     Outcome  \n",
       "count  768.000000                768.000000  768.000000  768.000000  \n",
       "mean    31.992578                  0.471876   33.240885    0.348958  \n",
       "std      7.884160                  0.331329   11.760232    0.476951  \n",
       "min      0.000000                  0.078000   21.000000    0.000000  \n",
       "25%     27.300000                  0.243750   24.000000    0.000000  \n",
       "50%     32.000000                  0.372500   29.000000    0.000000  \n",
       "75%     36.600000                  0.626250   41.000000    1.000000  \n",
       "max     67.100000                  2.420000   81.000000    1.000000  "
      ]
     },
     "execution_count": 20,
     "metadata": {},
     "output_type": "execute_result"
    }
   ],
   "source": [
    "diabetes_data.describe()"
   ]
  },
  {
   "cell_type": "markdown",
   "id": "465d8870-adac-42fb-a55d-7b252d2c7344",
   "metadata": {},
   "source": [
    "- min값이 0으로 돼 있는 feature가 상당히 많다.\n",
    "  - 이를테면, Glucose feature는 포도당 수치인데 min값이 0인 것은 맞지 않음"
   ]
  },
  {
   "cell_type": "code",
   "execution_count": 21,
   "id": "3d62b9b0-cb7e-4c26-8412-d906c871ca85",
   "metadata": {},
   "outputs": [
    {
     "data": {
      "text/plain": [
       "(array([  5.,   0.,   4.,  32., 156., 211., 163.,  95.,  56.,  46.]),\n",
       " array([  0. ,  19.9,  39.8,  59.7,  79.6,  99.5, 119.4, 139.3, 159.2,\n",
       "        179.1, 199. ]),\n",
       " <BarContainer object of 10 artists>)"
      ]
     },
     "execution_count": 21,
     "metadata": {},
     "output_type": "execute_result"
    },
    {
     "data": {
      "image/png": "[encoded data removed]",
      "text/plain": [
       "<Figure size 432x288 with 1 Axes>"
      ]
     },
     "metadata": {
      "needs_background": "light"
     },
     "output_type": "display_data"
    }
   ],
   "source": [
    "plt.hist(diabetes_data['Glucose'],bins=10)"
   ]
  },
  {
   "cell_type": "markdown",
   "id": "015875b7-ff52-4e50-8547-246d23fba880",
   "metadata": {},
   "source": [
    "- 히스토그램에서 0값이 일부 확인됨을 알 수 있다. \n",
    "- min() 값이 0으로 돼 있는 feature에 대해 0 값의 건수 및 전체 데이터 건수 대비 몇 퍼센트의 비율로 존재하는지 확인해 보자."
   ]
  },
  {
   "cell_type": "code",
   "execution_count": 23,
   "id": "a252c651-b566-4ce8-bba3-1c28c840d8c9",
   "metadata": {},
   "outputs": [
    {
     "data": {
      "text/html": [
       "<div>\n",
       "<style scoped>\n",
       "    .dataframe tbody tr th:only-of-type {\n",
       "        vertical-align: middle;\n",
       "    }\n",
       "\n",
       "    .dataframe tbody tr th {\n",
       "        vertical-align: top;\n",
       "    }\n",
       "\n",
       "    .dataframe thead th {\n",
       "        text-align: right;\n",
       "    }\n",
       "</style>\n",
       "<table border=\"1\" class=\"dataframe\">\n",
       "  <thead>\n",
       "    <tr style=\"text-align: right;\">\n",
       "      <th></th>\n",
       "      <th>Pregnancies</th>\n",
       "      <th>Glucose</th>\n",
       "      <th>BloodPressure</th>\n",
       "      <th>SkinThickness</th>\n",
       "      <th>Insulin</th>\n",
       "      <th>BMI</th>\n",
       "      <th>DiabetesPedigreeFunction</th>\n",
       "      <th>Age</th>\n",
       "      <th>Outcome</th>\n",
       "    </tr>\n",
       "  </thead>\n",
       "  <tbody>\n",
       "    <tr>\n",
       "      <th>75</th>\n",
       "      <td>1</td>\n",
       "      <td>0</td>\n",
       "      <td>48</td>\n",
       "      <td>20</td>\n",
       "      <td>0</td>\n",
       "      <td>24.7</td>\n",
       "      <td>0.140</td>\n",
       "      <td>22</td>\n",
       "      <td>0</td>\n",
       "    </tr>\n",
       "    <tr>\n",
       "      <th>182</th>\n",
       "      <td>1</td>\n",
       "      <td>0</td>\n",
       "      <td>74</td>\n",
       "      <td>20</td>\n",
       "      <td>23</td>\n",
       "      <td>27.7</td>\n",
       "      <td>0.299</td>\n",
       "      <td>21</td>\n",
       "      <td>0</td>\n",
       "    </tr>\n",
       "    <tr>\n",
       "      <th>342</th>\n",
       "      <td>1</td>\n",
       "      <td>0</td>\n",
       "      <td>68</td>\n",
       "      <td>35</td>\n",
       "      <td>0</td>\n",
       "      <td>32.0</td>\n",
       "      <td>0.389</td>\n",
       "      <td>22</td>\n",
       "      <td>0</td>\n",
       "    </tr>\n",
       "    <tr>\n",
       "      <th>349</th>\n",
       "      <td>5</td>\n",
       "      <td>0</td>\n",
       "      <td>80</td>\n",
       "      <td>32</td>\n",
       "      <td>0</td>\n",
       "      <td>41.0</td>\n",
       "      <td>0.346</td>\n",
       "      <td>37</td>\n",
       "      <td>1</td>\n",
       "    </tr>\n",
       "    <tr>\n",
       "      <th>502</th>\n",
       "      <td>6</td>\n",
       "      <td>0</td>\n",
       "      <td>68</td>\n",
       "      <td>41</td>\n",
       "      <td>0</td>\n",
       "      <td>39.0</td>\n",
       "      <td>0.727</td>\n",
       "      <td>41</td>\n",
       "      <td>1</td>\n",
       "    </tr>\n",
       "  </tbody>\n",
       "</table>\n",
       "</div>"
      ],
      "text/plain": [
       "     Pregnancies  Glucose  BloodPressure  SkinThickness  Insulin   BMI  \\\n",
       "75             1        0             48             20        0  24.7   \n",
       "182            1        0             74             20       23  27.7   \n",
       "342            1        0             68             35        0  32.0   \n",
       "349            5        0             80             32        0  41.0   \n",
       "502            6        0             68             41        0  39.0   \n",
       "\n",
       "     DiabetesPedigreeFunction  Age  Outcome  \n",
       "75                      0.140   22        0  \n",
       "182                     0.299   21        0  \n",
       "342                     0.389   22        0  \n",
       "349                     0.346   37        1  \n",
       "502                     0.727   41        1  "
      ]
     },
     "execution_count": 23,
     "metadata": {},
     "output_type": "execute_result"
    }
   ],
   "source": [
    "diabetes_data[diabetes_data['Glucose'] == 0]"
   ]
  },
  {
   "cell_type": "code",
   "execution_count": 24,
   "id": "5077cc9e-57af-4df3-9380-2fe7eb54b5ba",
   "metadata": {},
   "outputs": [
    {
     "name": "stdout",
     "output_type": "stream",
     "text": [
      "Glucose 0 건수는 5, 퍼센트는 0.65 %\n",
      "BloodPressure 0 건수는 35, 퍼센트는 4.56 %\n",
      "SkinThickness 0 건수는 227, 퍼센트는 29.56 %\n",
      "Insulin 0 건수는 374, 퍼센트는 48.70 %\n",
      "BMI 0 건수는 11, 퍼센트는 1.43 %\n"
     ]
    }
   ],
   "source": [
    "# 0값을 검사할 피처명 리스트 객체 설정\n",
    "zero_features = ['Glucose', 'BloodPressure','SkinThickness','Insulin','BMI']\n",
    "\n",
    "# 전체 데이터 건수\n",
    "total_count = diabetes_data['Glucose'].count()\n",
    "\n",
    "# 피처별로 반복 하면서 데이터 값이 0 인 데이터 건수 추출하고, 퍼센트 계산\n",
    "for feature in zero_features:\n",
    "    zero_count = diabetes_data[diabetes_data[feature] == 0][feature].count()\n",
    "    # diabetes_data[diabetes_data[feature] == 0] 0인 값에 해당하는 행만 뽑는 것.\n",
    "    # 이어서 [feature] 입력해주면, 그 열만 얻을 수 있고\n",
    "    # pd.DataFrame의 내장 함수 기능인 count()기능을 이용하는 것\n",
    "    print('{0} 0 건수는 {1}, 퍼센트는 {2:.2f} %'.format(feature, zero_count, 100*zero_count/total_count))"
   ]
  },
  {
   "cell_type": "markdown",
   "id": "e29e1519-6287-42fb-ab2f-164ebadf04c3",
   "metadata": {},
   "source": [
    "- SkinThickness와 Insulin의 0값 비율은 대단히 높다. \n",
    "- 전체 데이터의 건수가 많지 않기 때문에 이들 데이터를 일괄적으로 삭제할 경우 학습에 악영향\n",
    "- 위 feature의 0값을 평균으로 대체한다."
   ]
  },
  {
   "cell_type": "code",
   "execution_count": 25,
   "id": "1aac51ea-f2d0-49a7-9109-772d2acc7ab1",
   "metadata": {},
   "outputs": [],
   "source": [
    "# zero_features 리스트 내부에 저장된 개별 피처들에 대해서 0값을 평균 값으로 대체\n",
    "diabetes_data[zero_features] = diabetes_data[zero_features].replace(0, diabetes_data[zero_features].mean())\n",
    "# 해당 df에서 zero_features에 해당되는 열들만 다 뽑고, replace 메서드를 이용하여 0 값은 모두 평균으로 대체"
   ]
  },
  {
   "cell_type": "markdown",
   "id": "067d8397-1aff-4e86-afc4-b0fe960770a4",
   "metadata": {},
   "source": [
    "- 0값을 평균값으로 대체한 데이터 세트에 feature scaling 적용해 변환\n",
    "- 로지스틱 회귀의 경우 일반적으로 숫자 데이터에 스케일링을 적용하는 것이 좋다 \n",
    "- 이후에 다시 학습/테스트 데이터 세트로 나누고 로지스틱 회귀를 적용해 성능 평가 지표를 확인한다. "
   ]
  },
  {
   "cell_type": "markdown",
   "id": "a7adc9f8-89ee-4b9d-83b8-4df3b8b4d82d",
   "metadata": {},
   "source": [
    "```python\n",
    "X = diabetes_data.iloc[:, :-1]\n",
    "y = diabetes_data.iloc[:, -1]\n",
    "\n",
    "# StandardScaler 클래스를 이용해 피처 데이터 세트에 일괄적으로 스케일링 적용\n",
    "scaler = StandardScaler( )\n",
    "X_scaled = scaler.fit_transform(X)\n",
    "\n",
    "X_train, X_test, y_train, y_test = train_test_split(X_scaled, y, test_size = 0.2, random_state = 156, stratify=y\n",
    "# y는 이진분류이기 때문에 feature scaling 필요 없음                                     \n",
    "# 로지스틱 회귀로 학습, 예측 및 평가 수행. \n",
    "lr_clf = LogisticRegression(solver='liblinear')\n",
    "# solver는 최적화 알고리즘 선택한 것임\n",
    "# 그 외에도 수 개의 선택지가 있음\n",
    "                                                    \n",
    "lr_clf.fit(X_train , y_train)\n",
    "pred = lr_clf.predict(X_test) # 이진 분류로 예측\n",
    "pred_proba = lr_clf.predict_proba(X_test)[:, 1] # 각 label의 확률값을 반환\n",
    " \n",
    "get_clf_eval(y_test , pred, pred_proba)\n",
    "```"
   ]
  },
  {
   "cell_type": "markdown",
   "id": "4a4e6873-e5da-4296-8ec0-d2b48166eeea",
   "metadata": {},
   "source": [
    "- 데이터 변환과 scaling을 통해 성능 수치가 일정 수준 개선됐다.\n",
    "- 여전히 재현율 수치는 개선이 필요해보인다. \n",
    "- 분류 결정 임곗값을 변화시키면서 재현율 값의 성능 수치가 어느 정도나 개선되는지 확인해보자"
   ]
  },
  {
   "cell_type": "markdown",
   "id": "f0d4d7c6-73e6-4332-aa16-4c3e91d10afa",
   "metadata": {},
   "source": [
    "```python\n",
    "from sklearn.preprocessing import Binarizer\n",
    "\n",
    "def get_eval_by_threshold(y_test , pred_proba_c1, thresholds):\n",
    "    # thresholds 리스트 객체내의 값을 차례로 iteration하면서 Evaluation 수행.\n",
    "    for custom_threshold in thresholds:\n",
    "        binarizer = Binarizer(threshold=custom_threshold).fit(pred_proba_c1) \n",
    "        custom_predict = binarizer.transform(pred_proba_c1)\n",
    "        # 이진분류 해줌\n",
    "        # pred_proba_c1는 2차원의 1열 배열이여야함 \n",
    "        # 그래서 아래에서 reshape을 이용해서 변환해주었음\n",
    "        print('임곗값:',custom_threshold)\n",
    "        get_clf_eval(y_test , custom_predict, pred_proba_c1)\n",
    "thresholds = [0.3 , 0.33 ,0.36,0.39, 0.42 , 0.45 ,0.48, 0.50]\n",
    "pred_proba = lr_clf.predict_proba(X_test)\n",
    "get_eval_by_threshold(y_test, pred_proba[:,1].reshape(-1,1), thresholds )\n",
    "```"
   ]
  },
  {
   "cell_type": "markdown",
   "id": "fff722f1-228b-41b8-919f-4a7e5936316f",
   "metadata": {},
   "source": [
    "- 임곗값을 0.48로 낮춘 상태에서 다시 예측을 해보자\n",
    "  - 사이킷런의 predict() 메서드는 임곗값을 마음대로 변환할 수 없으므로 별도의 로직으로 이를 구현해야 한다.\n",
    "  - 아래와 같다"
   ]
  },
  {
   "cell_type": "markdown",
   "id": "83ab7197-182c-4430-adcc-79a2fe88ce0f",
   "metadata": {},
   "source": [
    "```python\n",
    "# 임곗값를 0.48로 설정한 Binarizer 생성\n",
    "binarizer = Binarizer(threshold=0.48)\n",
    "\n",
    "# 위에서 구한 lr_clf의 predict_proba() 예측 확률 array에서 1에 해당하는 컬럼값을 Binarizer변환. \n",
    "pred_th_048 = binarizer.fit_transform(pred_proba[:, 1].reshape(-1,1)) \n",
    "\n",
    "get_clf_eval(y_test , pred_th_048, pred_proba[:, 1])\n",
    "```"
   ]
  },
  {
   "cell_type": "markdown",
   "id": "2263699c-8829-4cbd-8aba-99ac202ead9c",
   "metadata": {},
   "source": [
    "---"
   ]
  },
  {
   "cell_type": "markdown",
   "id": "15c724ec-8707-4689-b951-8f450b6e0936",
   "metadata": {},
   "source": [
    "---"
   ]
  },
  {
   "cell_type": "markdown",
   "id": "1d58a669-6511-456e-b1f9-117533ba6370",
   "metadata": {},
   "source": [
    "---"
   ]
  },
  {
   "cell_type": "markdown",
   "id": "bfc77575-8f73-453b-9660-be83a0f6af30",
   "metadata": {},
   "source": [
    "> 정리\n",
    "\n",
    "    이진 분류의 레이블 값이 불균형하게 분포될 경우(즉, 0이 매우 많고, 1이 매우 적을 경우 또는 반대의 경우)단순히 예측 결과와 실제 결과가 일치하는 지표인 정확도만으로는 머신러닝 모델의 예측 성능을 평가할 수 없다. \n",
    "    \n",
    "    \n",
    "    정밀도와 재현율은 Positive 데이터 세트의 예측 성능에 좀 더 초점을 맞춘 평가 지표이다.\n",
    "    \n",
    "    \n",
    "    특히 재현율(실제 양성 중 양성으로 예측할 확률)이 상대적으로 더 중요한 지표인 경우는 암 양성 예측 모델과 같이 실제 Positive 양성인 데이터 예측을 Negative로 잘못 판단하게 되면 업무상 큰 영향이 발생하는 경우이다. 분류하려는 업무의 특성상 정밀도 또는 재현율이 특별히 강조돼야 할 경우 분류의 결정 임곗값을 조정해 정밀도 도는 재현율의 수치를 높이는 방법도 있다.\n",
    "    \n",
    "    F1 스코어는 정밀도와 재현율을 결합한 평가 지표이며, 정밀도와 재현율이 어느 한쪽으로 치우치지 않을 때 높은 지표값을 가지게 된다.\n",
    "    \n",
    "    ROC-AUC는 일반적으로 이진 분류의 성능 평가를 위해 가장 많이 사용되는 지표이다. 일반적으로 1에 가까울수록 좋은 수치이다."
   ]
  },
  {
   "cell_type": "markdown",
   "id": "a646229f-52d4-4894-8db7-4b7986c9b68b",
   "metadata": {},
   "source": [
    "---"
   ]
  },
  {
   "cell_type": "markdown",
   "id": "ba647ec4-ca96-4f79-9ef9-390a28b938a4",
   "metadata": {},
   "source": [
    "---"
   ]
  },
  {
   "cell_type": "markdown",
   "id": "d3ef82dd-0557-4ffa-b649-7253a0f4abbb",
   "metadata": {},
   "source": [
    "---"
   ]
  },
  {
   "cell_type": "markdown",
   "id": "a4d4121f-865f-47b3-ba5c-8a411050042f",
   "metadata": {},
   "source": [
    "- 정리할 것\n",
    "  - astype같은 것들\n",
    "  - tolist\n",
    "  - class"
   ]
  }
 ],
 "metadata": {
  "kernelspec": {
   "display_name": "Python 3 (ipykernel)",
   "language": "python",
   "name": "python3"
  },
  "language_info": {
   "codemirror_mode": {
    "name": "ipython",
    "version": 3
   },
   "file_extension": ".py",
   "mimetype": "text/x-python",
   "name": "python",
   "nbconvert_exporter": "python",
   "pygments_lexer": "ipython3",
   "version": "3.8.11"
  }
 },
 "nbformat": 4,
 "nbformat_minor": 5
}
