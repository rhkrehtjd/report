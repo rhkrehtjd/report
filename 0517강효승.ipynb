{
 "cells": [
  {
   "cell_type": "markdown",
   "id": "2ab92774-ba9e-48ef-8f5d-bfb6a3f0716c",
   "metadata": {},
   "source": [
    "### 05회귀"
   ]
  },
  {
   "cell_type": "markdown",
   "id": "5092b0f9-917d-476c-91f7-701013dfa28c",
   "metadata": {},
   "source": [
    "* 회귀분석은 데이터 값이 평균과 같은 일정한 값으로 돌아가려는 경향이 있음. ex)사람의 키는 평균 키로 회귀하려는 경향을 가진다는 자연의 법칙\n",
    "* 회귀는 여러 개의 독립변수와 한 개의 종속변수 간의 상관관계를 모델링하는 기법임. ex) 아파트 방 개수, 방 크기, 주변 학군 등 여러개의 독립 변수에 따라 아파트 가결 이라는 종속 변수가 어떤 관계를 나타내는 지 모델링 하고 에측하는 것.\n",
    "* Y=W1*X1 + W2*X2 + W3*X3 + .. + Wn*Xn  Y는 종속변수, X1, X2, X3은 방개수, 방크기, 주변 학군 등의 독립변수를 의미하고 W1, W2, W3은 독립변수의 값에 영향을 미치는 회귀계수를 의미함. 기본이 Y=w0+ W1*X1\n",
    "* 회귀는 계수의 선형/비선형 여부에 따라 독립변수의 개수에 따라( 단일/ 다중 회귀), 종속변수의 개수에 따라 여러 유형으로 나눌 수 있음.\n",
    "* 머신러닝 회귀 예측의 핵심은 주어진 피처와 결정 값 데이터 기반에서 `최적의 회귀 계수`를 찾아내는 것임\n",
    "\n",
    "+) 독립변수는 피처, 종속변수는 결정값\n",
    "\n",
    "+) 지도학습은 분류와 회귀로 나뉨. 이 둘의 가장 큰 차이점은 분류는 예측값이 카테고리와 같은 이산형 클래스 값이고 회귀는 연속형 숫자값이라는 점.\n"
   ]
  },
  {
   "cell_type": "markdown",
   "id": "6a4a8a19-4c4e-4e8d-b239-92950272b889",
   "metadata": {},
   "source": [
    "#### 선형회귀\n",
    "* 회귀중 선형 회귀가 가장 많이 사용됨, 선형회귀는 (실제값-예측값)=오류의 제곱값 을 최소화 하는 직선형 회귀선을 최적화 하는 방식.\n",
    "*선형회귀는 모델 규제방법에 따라 다시 별도의 유형으로 나뉠 수 있음. 규제는 일반적인 선형 회귀의 과적합 문제를 해결하기 위해서 회귀 계수에 페털티 값을 적용하는 것을 말함.\n",
    "* 대표적인 선형 회귀 모델\n",
    "  * 일반 선형 회귀 \n",
    "  * 릿지\n",
    "  * 라쏘\n",
    "  * 엘라스틱넷\n",
    "  * 로지스틱 회귀\n",
    "  \n",
    "\n",
    "* 단순 선형 회귀: 독립변수가 1개인 단순 선형 회귀에서는 이 기울기 W1과 절편 W0을 회귀계수로 지칭함."
   ]
  },
  {
   "cell_type": "markdown",
   "id": "68a45754-a00b-4662-a087-6b55ed9e1bda",
   "metadata": {},
   "source": [
    "#### RSS(=오류 합)=시그마 i부터 n * 1/n * (yi-(w0+w1*xi))^2 =시그마 i부터 n * 1/n * 잔차^2"
   ]
  },
  {
   "cell_type": "markdown",
   "id": "ab139ebf-1198-4800-b4f6-54fa405326ec",
   "metadata": {},
   "source": [
    "+) 잔차란 실제 값과 회귀모델의 차이에 따른 오류 값을 남은 오류임. 잔차의 합이 최소가 되는것이 최적의 회귀 모델을 찾는 다는 거임(최적의 회귀계수 찾기)\n",
    "\n",
    "* RSS을 계산할 때는 절댓값을 취해서 더하거나 오류값의 제곱을 구해서 더하는 방식을 취함.\n",
    "* `RSS는 회귀식의 독립변수나 종속변수가 중심이 아니라 W 변수, 즉 회귀계수가 중심 변수임을 인지하는 것이 매우 중요함. 나머지 둘은 상수 취급`\n",
    "* 회귀에서 RSS는 비용이며 W변수(회귀 계수)로 구성되는 RSS를 비용함수라 함. 비용함수를 손실함수 라고 하기도 함."
   ]
  },
  {
   "cell_type": "markdown",
   "id": "8ea83d62-77dd-4a56-9119-e7fa64fbf6a5",
   "metadata": {},
   "source": [
    "#### 어떻게 비용함수가 최소가 되는 W파라미터를 구할 수 있을까?(=rss가 최소가 되는 회귀계수 어케 구할까?)\n",
    "\n",
    "* 경사하강법: 점진적으로 반복적인 계산을 통해 W파라미터 값을 업데이트 하면서 오류 값이 최소가 되는 W 파라미터를 구하는 방식 (더 이상 오류가 작아지지 않으면 그 오류 값을 최소 비용으로 판단하고 그때 W값을 최적 파라미터로 반환) - 말이 좋아 경사하강법이지 존나 당연한거,,\n",
    "* w파라미터로 이뤄진 함수(비용함수)를 미분하여 미분 함수의 최솟값을 구해야 하는데 이떄 변수가 두개 이상이면 (w0, w1..) 편미분을 적용해 준다-> 이러면 편미분 결과 값으로 나온 두개를 최솟값으로 업데이트 하면서 비용함수가 최소가 되는 w0, w1를 구할수 있음\n",
    "* 예를 들어 2차함수면, 경사하강법은 최초 w에서부터 미분을 적용한 한 뒤 이 미분값이 계속 감소하는 방향으로 순차적으로 w를 업데이터 함."
   ]
  },
  {
   "cell_type": "markdown",
   "id": "6a6e6ab0-9d7a-4ae2-9586-e64163a618ba",
   "metadata": {},
   "source": [
    "#### 정리\n",
    "* rss를 w로 미분해서 나오는 최솟값을 구해야하고 이때의 w값이 회귀계수\n",
    "* w1= 이전 w1 + 편미분한 값* 학습률(보정값)\n",
    "* 예측값은 w0 + x1*w1 + x2*w2...\n",
    "* 경사하강법으로 예측값을 구하고 이때의 회귀계수도 구함. 이거를 여러번 해서 업데이트 시켜주는 거임."
   ]
  },
  {
   "cell_type": "code",
   "execution_count": 27,
   "id": "767dc366-0743-43ec-b7df-c01bf6a8027b",
   "metadata": {},
   "outputs": [
    {
     "data": {
      "text/plain": [
       "<matplotlib.collections.PathCollection at 0x270b91eae80>"
      ]
     },
     "execution_count": 27,
     "metadata": {},
     "output_type": "execute_result"
    },
    {
     "data": {
      "image/png": "[encoded data removed]",
      "text/plain": [
       "<Figure size 432x288 with 1 Axes>"
      ]
     },
     "metadata": {
      "needs_background": "light"
     },
     "output_type": "display_data"
    }
   ],
   "source": [
    "# 간단 회귀식 y=4*x + 6을 근사하기 위한 100개의 데이터 셋 만들고, 이걸 경사하강법 써서 w1, w0 도출해보기\n",
    "\n",
    "import numpy as np\n",
    "import matplotlib.pyplot as plt\n",
    "%matplotlib inline\n",
    "\n",
    "np.random.seed(0)\n",
    "# y = 4X + 6 식을 근사(w1=4, w0=6). random 값은 Noise를 위해 만듬  \n",
    "# 잡음(noise)이란 측정된 변수에 무작위의 오류 또는 분산이 존재하는 것을 말함.\n",
    "X = 2 * np.random.rand(100,1)\n",
    "y = 6 +4 * X+ np.random.randn(100,1)\n",
    "\n",
    "# X, y 데이터 셋 scatter plot으로 시각화\n",
    "plt.scatter(X, y)"
   ]
  },
  {
   "cell_type": "code",
   "execution_count": 22,
   "id": "c6a7d18f-7582-4775-bf0e-9ff9363d74b6",
   "metadata": {},
   "outputs": [],
   "source": [
    "# rss를 계산하는 비용함수 get_cost(). 나중에 경사 하강법으로 y예측값 구하고 비용함수로 rss계산할거임.\n",
    "\n",
    "def get_cost(y,y_pred):   \n",
    "    cost=np.sum(np.square(y-y_pred))/N  # square가 제곱\n",
    "    N=len(y) \n",
    "    return cost"
   ]
  },
  {
   "cell_type": "markdown",
   "id": "6e3ad157-fe64-4d6a-97d2-ab5366cfc5fb",
   "metadata": {},
   "source": [
    "* 경사 하강법을 gradient_descent()라는 함수를 생성해 구현해 보자 (무작위로 생성한 x, y값 입력받음)"
   ]
  },
  {
   "cell_type": "code",
   "execution_count": 29,
   "id": "18d5dfd7-298b-4b3f-b727-1b2a18360584",
   "metadata": {},
   "outputs": [],
   "source": [
    "# 경사하강법으로 rss구하기\n",
    "\n",
    "# w1 과 w0 를 업데이트 할 w1_update, w0_update를 반환. \n",
    "def get_weight_updates(w1, w0, X, y, learning_rate=0.01):  # learning_rate 기울기에 따른 학습률\n",
    "    N = len(y)\n",
    "    # 먼저 w1_update, w0_update를 각각 w1, w0의 shape와 동일한 크기를 가진 0 값으로 초기화\n",
    "    w1_update = np.zeros_like(w1) # np.zeros : 0으로 가득찬 Array를 배출\n",
    "    w0_update = np.zeros_like(w0) # np.zeros_like : 어떤 변수만큼의 사이즈인 0 으로 가득 찬 Array를 배출\n",
    "    # 예측 배열 계산하고 예측과 실제 값의 차이 계산\n",
    "    y_pred=np.dot(X, w1.T) + w0   # np.dot은 X, w1.T(w1의 전치)의 내적\n",
    "                                  # 1w1 + x2w2 + x3w3 같이 계산하기 위해 전치시킴. 변수가 하나면 전치 안시켜도 상관없지만\n",
    "                                  # 보통은 변수가 여러개 이기에 전치 과정이 필요함.\n",
    "    diff = y-y_pred \n",
    "         \n",
    "    # w0_update를 dot 행렬 연산으로 구하기 위해 모두 1값을 가진 행렬 생성 \n",
    "    w0_factors = np.ones((N,1)) #N행 ,1열로 값이 1인 배열 생성\n",
    "\n",
    "    # w1과 w0을 업데이트할 w1_update와 w0_update 계산\n",
    "    w1_update = -(2/N)*learning_rate*(np.dot(X.T, diff))\n",
    "    w0_update = -(2/N)*learning_rate*(np.dot(w0_factors.T, diff))    \n",
    "    \n",
    "    return w1_update, w0_update"
   ]
  },
  {
   "cell_type": "markdown",
   "id": "da62af01-dc29-4cf5-945c-770433759b03",
   "metadata": {},
   "source": [
    "?`0으로 초기화 하는 이유를 몰게쑴,,ㅠ`"
   ]
  },
  {
   "cell_type": "code",
   "execution_count": 24,
   "id": "d0509655-a503-41dc-bb26-33e02cef801d",
   "metadata": {},
   "outputs": [],
   "source": [
    "# 위 함수(get_weight_updates)를 경사 하강 방식으로 반복적으로 수행하여 w1과 w0을 업데이트하는 함수(gradient_descent_steps)를 생성\n",
    "\n",
    "# 입력 인자 iters로 주어진 횟수만큼 반복적으로 w1과 w0를 업데이트 적용함. \n",
    "def gradient_descent_steps(X, y, iters=10000):\n",
    "    # w0와 w1을 모두 0으로 초기화. \n",
    "    w0 = np.zeros((1,1))\n",
    "    w1 = np.zeros((1,1))\n",
    "    \n",
    "    # 인자로 주어진 iters 만큼 반복적으로 get_weight_updates() 호출하여 w1, w0 업데이트 수행. \n",
    "    for ind in range(iters): \n",
    "        w1_update, w0_update = get_weight_updates(w1, w0, X, y, learning_rate=0.01)\n",
    "        w1 = w1 - w1_update\n",
    "        w0 = w0 - w0_update\n",
    "              \n",
    "    return w1, w0"
   ]
  },
  {
   "cell_type": "markdown",
   "id": "0a1fd6ca-7b66-4f69-a150-423c36ccd18c",
   "metadata": {},
   "source": [
    "?`여기도 0으로 왜 초기화 시키지..? 코드 이해x`\n",
    "\n",
    "?`잔차가 작으면 업데이트 하는건데 여기서의 업데이트 기준은 머임?`\n",
    "\n",
    "?`ind 얜 뭐야`"
   ]
  },
  {
   "cell_type": "code",
   "execution_count": 25,
   "id": "68ab2829-9e0c-4e4f-a541-8a8baf6b054d",
   "metadata": {},
   "outputs": [
    {
     "name": "stdout",
     "output_type": "stream",
     "text": [
      "w1:4.022 w0:6.162\n",
      "Gradient Descent Total Cost:0.9935\n"
     ]
    }
   ],
   "source": [
    "# gradient_descent_steps()를 호출해 w1과 w0구해보기\n",
    "\n",
    "def get_cost(y, y_pred):\n",
    "    N = len(y) \n",
    "    cost = np.sum(np.square(y - y_pred))/N\n",
    "    return cost\n",
    "\n",
    "w1, w0 = gradient_descent_steps(X, y, iters=1000)\n",
    "print(\"w1:{0:.3f} w0:{1:.3f}\".format(w1[0,0], w0[0,0]))\n",
    "y_pred = w1[0,0] * X + w0\n",
    "print('Gradient Descent Total Cost:{0:.4f}'.format(get_cost(y, y_pred)))"
   ]
  },
  {
   "cell_type": "markdown",
   "id": "7d72e971-b4ee-4b41-a36f-1b8802fb9b0f",
   "metadata": {},
   "source": [
    "?`w1[0,0], w0[0,0] 이 위치가 최적 회귀계수인거 어케앎?`"
   ]
  },
  {
   "cell_type": "code",
   "execution_count": 26,
   "id": "8f2cd32f-eeb0-46fc-a75d-cecd89770608",
   "metadata": {},
   "outputs": [
    {
     "data": {
      "text/plain": [
       "[<matplotlib.lines.Line2D at 0x270b918f1c0>]"
      ]
     },
     "execution_count": 26,
     "metadata": {},
     "output_type": "execute_result"
    },
    {
     "data": {
      "image/png": "[encoded data removed]",
      "text/plain": [
       "<Figure size 432x288 with 1 Axes>"
      ]
     },
     "metadata": {
      "needs_background": "light"
     },
     "output_type": "display_data"
    }
   ],
   "source": [
    "# 회귀선 그려보기\n",
    "plt.scatter(X, y)\n",
    "plt.plot(X,y_pred)"
   ]
  },
  {
   "cell_type": "markdown",
   "id": "4a9e1ecd-7dd7-43fa-87c2-5bd4a6e20893",
   "metadata": {},
   "source": [
    "+) 확률적 경사하강법은 시간이 덜 걸려서 이걸로 많이 이용함. 근데 전체 입력 데이터로 w가 업데이트되는 값을 계산하는 것이 아니라 일부 데이터만 이용해 w가 업데이트 되기에 값을 계산하므로 경사 하강법에 비해서 빠른 속도를 보장함. 따라서 대용량의 데이터 경우 대부분 확률적 경사하강법이나 미니 배치 확률적 경사하강법을 이용해 최적 비용함수를 도출함. "
   ]
  },
  {
   "cell_type": "markdown",
   "id": "8bb65b6c-31aa-464e-9d66-a0dcd63eee23",
   "metadata": {},
   "source": [
    "* (미니배치) 확률적 경사 하강법을 stochastic_gradient_descent_steps() 함수로 구현해 보자\n",
    "   * gradient_descent_steps()와 비슷 하고, x,y 데이터에서 랜덤하게 batch_size만큼 추출해 w값 계산하는 것만 다름"
   ]
  },
  {
   "cell_type": "code",
   "execution_count": 32,
   "id": "a3864414-526a-4beb-b255-e9e51e243d5d",
   "metadata": {},
   "outputs": [],
   "source": [
    "def stochastic_gradient_descent_steps(X, y, batch_size=10, iters=1000):\n",
    "    w0 = np.zeros((1,1))\n",
    "    w1 = np.zeros((1,1))\n",
    "    prev_cost = 100000\n",
    "    iter_index =0\n",
    "    \n",
    "    for ind in range(iters):\n",
    "        np.random.seed(ind)\n",
    "        # 전체 X, y 데이터에서 랜덤하게 batch_size만큼 데이터 추출하여 sample_X, sample_y로 저장\n",
    "        stochastic_random_index = np.random.permutation(X.shape[0])\n",
    "        sample_X = X[stochastic_random_index[0:batch_size]]\n",
    "        sample_y = y[stochastic_random_index[0:batch_size]]\n",
    "        # 랜덤하게 batch_size만큼 추출된 데이터 기반으로 w1_update, w0_update 계산 후 업데이트\n",
    "        w1_update, w0_update = get_weight_updates(w1, w0, sample_X, sample_y, learning_rate=0.01)\n",
    "        w1 = w1 - w1_update\n",
    "        w0 = w0 - w0_update\n",
    "    \n",
    "    return w1, w0"
   ]
  },
  {
   "cell_type": "code",
   "execution_count": 37,
   "id": "4acb920b-b0ac-4cf8-9818-75da34d5cb23",
   "metadata": {},
   "outputs": [
    {
     "name": "stdout",
     "output_type": "stream",
     "text": [
      "w1: 4.028 w0: 6.156\n",
      "Stochastic Gradient Descent Total Cost:0.9937\n"
     ]
    }
   ],
   "source": [
    "# 위에서 만들어진걸로 w1, w0 및 예측 오류비용 계산하기\n",
    "\n",
    "w1, w0 = stochastic_gradient_descent_steps(X, y, iters=1000)\n",
    "print(\"w1:\",round(w1[0,0],3),\"w0:\",round(w0[0,0],3))\n",
    "y_pred = w1[0,0] * X + w0\n",
    "print('Stochastic Gradient Descent Total Cost:{0:.4f}'.format(get_cost(y, y_pred)))"
   ]
  },
  {
   "cell_type": "markdown",
   "id": "3d5df86c-41ec-4aa1-ad96-dc27038a88d5",
   "metadata": {},
   "source": [
    "* 지금까지 피처가 1개, 즉 독립변수가 1개인 단순 선형 회귀에서 경사 하강법을 적용해보. 만약 피처가 여러개인 경우레는 어떻게 회귀계수를 도출할 수 있을까? 음 피처가 m개 있다면 회귀계수도 m + 1개(1개는 w0)로 도출됨. 즉, y-hat= w0 + w1*x1 +...+ w100*x100"
   ]
  },
  {
   "cell_type": "markdown",
   "id": "441cd28a-9a94-40af-b633-e046cd312ab0",
   "metadata": {},
   "source": [
    "#### 보스턴 주택 가격 예측"
   ]
  },
  {
   "cell_type": "code",
   "execution_count": 44,
   "id": "6179fa33-805d-4c3e-8d82-eadd1b932d12",
   "metadata": {},
   "outputs": [
    {
     "ename": "SyntaxError",
     "evalue": "invalid syntax (263906781.py, line 1)",
     "output_type": "error",
     "traceback": [
      "\u001b[1;36m  Input \u001b[1;32mIn [44]\u001b[1;36m\u001b[0m\n\u001b[1;33m    class sklearn.linear_model.LinearRegression(fit_intercept=True, normalize=False, copy_X=True, n_jobs=1)\u001b[0m\n\u001b[1;37m                 ^\u001b[0m\n\u001b[1;31mSyntaxError\u001b[0m\u001b[1;31m:\u001b[0m invalid syntax\n"
     ]
    }
   ],
   "source": [
    "class sklearn.linear_model.LinearRegression(fit_intercept=True, normalize=False, copy_X=True, n_jobs=1)"
   ]
  },
  {
   "cell_type": "markdown",
   "id": "05490e7e-235b-4b87-962e-30ff6da497c6",
   "metadata": {},
   "source": []
  },
  {
   "cell_type": "code",
   "execution_count": null,
   "id": "1a8ee0c9-4e53-4809-a1d1-a9d51f24397e",
   "metadata": {},
   "outputs": [],
   "source": []
  },
  {
   "cell_type": "code",
   "execution_count": null,
   "id": "a25c7c11-6076-4e80-ae5b-41c2b1c72a2f",
   "metadata": {},
   "outputs": [],
   "source": []
  },
  {
   "cell_type": "code",
   "execution_count": null,
   "id": "0182f743-610f-4169-a591-10c756a56ce8",
   "metadata": {},
   "outputs": [],
   "source": []
  },
  {
   "cell_type": "code",
   "execution_count": null,
   "id": "b440288d-e6f1-48cf-a2e4-563c04438f7b",
   "metadata": {},
   "outputs": [],
   "source": []
  }
 ],
 "metadata": {
  "kernelspec": {
   "display_name": "Python 3 (ipykernel)",
   "language": "python",
   "name": "python3"
  },
  "language_info": {
   "codemirror_mode": {
    "name": "ipython",
    "version": 3
   },
   "file_extension": ".py",
   "mimetype": "text/x-python",
   "name": "python",
   "nbconvert_exporter": "python",
   "pygments_lexer": "ipython3",
   "version": "3.9.7"
  }
 },
 "nbformat": 4,
 "nbformat_minor": 5
}
