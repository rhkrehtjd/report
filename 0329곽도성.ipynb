{
 "cells": [
  {
   "cell_type": "markdown",
   "id": "46481e5a-056a-415a-ae0d-999330416312",
   "metadata": {},
   "source": [
    "# review 3"
   ]
  },
  {
   "cell_type": "markdown",
   "id": "bb68db3c-d264-40f2-b4c5-464497462eed",
   "metadata": {},
   "source": [
    "- 데이터 전처리는 0322곽도성 파일 확인"
   ]
  },
  {
   "cell_type": "markdown",
   "id": "e3a3bd3b-64ae-4d75-8bcf-406c1b221a6a",
   "metadata": {},
   "source": [
    "- 사이킷런으로 수행하는 타이타닉 생존자 예측"
   ]
  },
  {
   "cell_type": "code",
   "execution_count": 60,
   "id": "28ee7083-e9b6-46e9-be4c-6335b63b82b4",
   "metadata": {},
   "outputs": [
    {
     "data": {
      "text/html": [
       "<div>\n",
       "<style scoped>\n",
       "    .dataframe tbody tr th:only-of-type {\n",
       "        vertical-align: middle;\n",
       "    }\n",
       "\n",
       "    .dataframe tbody tr th {\n",
       "        vertical-align: top;\n",
       "    }\n",
       "\n",
       "    .dataframe thead th {\n",
       "        text-align: right;\n",
       "    }\n",
       "</style>\n",
       "<table border=\"1\" class=\"dataframe\">\n",
       "  <thead>\n",
       "    <tr style=\"text-align: right;\">\n",
       "      <th></th>\n",
       "      <th>PassengerId</th>\n",
       "      <th>Survived</th>\n",
       "      <th>Pclass</th>\n",
       "      <th>Name</th>\n",
       "      <th>Sex</th>\n",
       "      <th>Age</th>\n",
       "      <th>SibSp</th>\n",
       "      <th>Parch</th>\n",
       "      <th>Ticket</th>\n",
       "      <th>Fare</th>\n",
       "      <th>Cabin</th>\n",
       "      <th>Embarked</th>\n",
       "    </tr>\n",
       "  </thead>\n",
       "  <tbody>\n",
       "    <tr>\n",
       "      <th>0</th>\n",
       "      <td>1</td>\n",
       "      <td>0</td>\n",
       "      <td>3</td>\n",
       "      <td>Braund, Mr. Owen Harris</td>\n",
       "      <td>male</td>\n",
       "      <td>22.0</td>\n",
       "      <td>1</td>\n",
       "      <td>0</td>\n",
       "      <td>A/5 21171</td>\n",
       "      <td>7.2500</td>\n",
       "      <td>NaN</td>\n",
       "      <td>S</td>\n",
       "    </tr>\n",
       "    <tr>\n",
       "      <th>1</th>\n",
       "      <td>2</td>\n",
       "      <td>1</td>\n",
       "      <td>1</td>\n",
       "      <td>Cumings, Mrs. John Bradley (Florence Briggs Th...</td>\n",
       "      <td>female</td>\n",
       "      <td>38.0</td>\n",
       "      <td>1</td>\n",
       "      <td>0</td>\n",
       "      <td>PC 17599</td>\n",
       "      <td>71.2833</td>\n",
       "      <td>C85</td>\n",
       "      <td>C</td>\n",
       "    </tr>\n",
       "    <tr>\n",
       "      <th>2</th>\n",
       "      <td>3</td>\n",
       "      <td>1</td>\n",
       "      <td>3</td>\n",
       "      <td>Heikkinen, Miss. Laina</td>\n",
       "      <td>female</td>\n",
       "      <td>26.0</td>\n",
       "      <td>0</td>\n",
       "      <td>0</td>\n",
       "      <td>STON/O2. 3101282</td>\n",
       "      <td>7.9250</td>\n",
       "      <td>NaN</td>\n",
       "      <td>S</td>\n",
       "    </tr>\n",
       "  </tbody>\n",
       "</table>\n",
       "</div>"
      ],
      "text/plain": [
       "   PassengerId  Survived  Pclass  \\\n",
       "0            1         0       3   \n",
       "1            2         1       1   \n",
       "2            3         1       3   \n",
       "\n",
       "                                                Name     Sex   Age  SibSp  \\\n",
       "0                            Braund, Mr. Owen Harris    male  22.0      1   \n",
       "1  Cumings, Mrs. John Bradley (Florence Briggs Th...  female  38.0      1   \n",
       "2                             Heikkinen, Miss. Laina  female  26.0      0   \n",
       "\n",
       "   Parch            Ticket     Fare Cabin Embarked  \n",
       "0      0         A/5 21171   7.2500   NaN        S  \n",
       "1      0          PC 17599  71.2833   C85        C  \n",
       "2      0  STON/O2. 3101282   7.9250   NaN        S  "
      ]
     },
     "execution_count": 60,
     "metadata": {},
     "output_type": "execute_result"
    }
   ],
   "source": [
    "import numpy as np\n",
    "import pandas as pd\n",
    "import matplotlib.pyplot as plt\n",
    "import seaborn as sns\n",
    "%matplotlib inline\n",
    "# IPython에 대한 표현방식으로서 Rich output(그림, 소리 ,애니메이션) 출력 옵션이다.\n",
    "# 이미지, 사운드, 애니메이션 등으로 표현할 수 있는 객체를 프론트(Jupyter Notebook)에서 표시되도록 하는 기능\n",
    "\n",
    "\n",
    "titanic_df = pd.read_csv('train.csv')\n",
    "titanic_df.head(3)"
   ]
  },
  {
   "cell_type": "markdown",
   "id": "8f519dda-57e8-475d-b6c8-824f9e23b306",
   "metadata": {},
   "source": [
    "- 칼럼 타입 확인해보자\n",
    "  - df.info()"
   ]
  },
  {
   "cell_type": "code",
   "execution_count": 61,
   "id": "f51c9c2a-d82c-4f28-92cd-829337f4c25b",
   "metadata": {},
   "outputs": [
    {
     "name": "stdout",
     "output_type": "stream",
     "text": [
      "<class 'pandas.core.frame.DataFrame'>\n",
      "RangeIndex: 891 entries, 0 to 890\n",
      "Data columns (total 12 columns):\n",
      " #   Column       Non-Null Count  Dtype  \n",
      "---  ------       --------------  -----  \n",
      " 0   PassengerId  891 non-null    int64  \n",
      " 1   Survived     891 non-null    int64  \n",
      " 2   Pclass       891 non-null    int64  \n",
      " 3   Name         891 non-null    object \n",
      " 4   Sex          891 non-null    object \n",
      " 5   Age          714 non-null    float64\n",
      " 6   SibSp        891 non-null    int64  \n",
      " 7   Parch        891 non-null    int64  \n",
      " 8   Ticket       891 non-null    object \n",
      " 9   Fare         891 non-null    float64\n",
      " 10  Cabin        204 non-null    object \n",
      " 11  Embarked     889 non-null    object \n",
      "dtypes: float64(2), int64(5), object(5)\n",
      "memory usage: 83.7+ KB\n"
     ]
    }
   ],
   "source": [
    "titanic_df.info()"
   ]
  },
  {
   "cell_type": "markdown",
   "id": "e9530fbc-0622-4deb-be9a-1b58a3ab6ff3",
   "metadata": {},
   "source": [
    "- pandas의 object 타입은 string 문자열 타입으로 봐도 무방하다. \n",
    "- #### `사이킷런 머신러닝 알고리즘은 Null 값을 허용하지 않으므로 전처리 수행해야 함`\n",
    "  - DataFrame의 fillna() 함수를 사용해 간단하게 Null 값을 평균 또는 고정 값으로 변경하자."
   ]
  },
  {
   "cell_type": "markdown",
   "id": "ec38bf1c-9495-46f3-9064-b9455a525eb5",
   "metadata": {},
   "source": [
    "- Null 컬럼들에 대한 전처리\n",
    "  - Age, Cabin, Embarked 칼럼만 Null 값이 존재한다. "
   ]
  },
  {
   "cell_type": "code",
   "execution_count": 62,
   "id": "2a961f16-7d92-416f-ae2c-d8683bfd8f03",
   "metadata": {},
   "outputs": [
    {
     "name": "stdout",
     "output_type": "stream",
     "text": [
      "데이터 세트 Null 값 갯수  0\n"
     ]
    }
   ],
   "source": [
    "titanic_df['Age'].fillna(titanic_df['Age'].mean(),inplace=True)\n",
    "titanic_df['Cabin'].fillna('N',inplace=True) # 어차피 'Cabin'칼럼이 문자열 칼럼이라서 일단 Null값도 문자열('N')로 변환\n",
    "titanic_df['Embarked'].fillna('N',inplace=True) # 어차피 'Embarked'칼럼이 문자열 칼럼이라서 일단 Null도 문자열('N')로 변환\n",
    "\n",
    "print('데이터 세트 Null 값 갯수 ',titanic_df.isnull().sum().sum())"
   ]
  },
  {
   "cell_type": "code",
   "execution_count": 63,
   "id": "90ffbc35-5d94-4bd5-bdec-e8a5e4fea413",
   "metadata": {},
   "outputs": [
    {
     "data": {
      "text/html": [
       "<div>\n",
       "<style scoped>\n",
       "    .dataframe tbody tr th:only-of-type {\n",
       "        vertical-align: middle;\n",
       "    }\n",
       "\n",
       "    .dataframe tbody tr th {\n",
       "        vertical-align: top;\n",
       "    }\n",
       "\n",
       "    .dataframe thead th {\n",
       "        text-align: right;\n",
       "    }\n",
       "</style>\n",
       "<table border=\"1\" class=\"dataframe\">\n",
       "  <thead>\n",
       "    <tr style=\"text-align: right;\">\n",
       "      <th></th>\n",
       "      <th>PassengerId</th>\n",
       "      <th>Survived</th>\n",
       "      <th>Pclass</th>\n",
       "      <th>Name</th>\n",
       "      <th>Sex</th>\n",
       "      <th>Age</th>\n",
       "      <th>SibSp</th>\n",
       "      <th>Parch</th>\n",
       "      <th>Ticket</th>\n",
       "      <th>Fare</th>\n",
       "      <th>Cabin</th>\n",
       "      <th>Embarked</th>\n",
       "    </tr>\n",
       "  </thead>\n",
       "  <tbody>\n",
       "    <tr>\n",
       "      <th>0</th>\n",
       "      <td>False</td>\n",
       "      <td>False</td>\n",
       "      <td>False</td>\n",
       "      <td>False</td>\n",
       "      <td>False</td>\n",
       "      <td>False</td>\n",
       "      <td>False</td>\n",
       "      <td>False</td>\n",
       "      <td>False</td>\n",
       "      <td>False</td>\n",
       "      <td>False</td>\n",
       "      <td>False</td>\n",
       "    </tr>\n",
       "    <tr>\n",
       "      <th>1</th>\n",
       "      <td>False</td>\n",
       "      <td>False</td>\n",
       "      <td>False</td>\n",
       "      <td>False</td>\n",
       "      <td>False</td>\n",
       "      <td>False</td>\n",
       "      <td>False</td>\n",
       "      <td>False</td>\n",
       "      <td>False</td>\n",
       "      <td>False</td>\n",
       "      <td>False</td>\n",
       "      <td>False</td>\n",
       "    </tr>\n",
       "    <tr>\n",
       "      <th>2</th>\n",
       "      <td>False</td>\n",
       "      <td>False</td>\n",
       "      <td>False</td>\n",
       "      <td>False</td>\n",
       "      <td>False</td>\n",
       "      <td>False</td>\n",
       "      <td>False</td>\n",
       "      <td>False</td>\n",
       "      <td>False</td>\n",
       "      <td>False</td>\n",
       "      <td>False</td>\n",
       "      <td>False</td>\n",
       "    </tr>\n",
       "    <tr>\n",
       "      <th>3</th>\n",
       "      <td>False</td>\n",
       "      <td>False</td>\n",
       "      <td>False</td>\n",
       "      <td>False</td>\n",
       "      <td>False</td>\n",
       "      <td>False</td>\n",
       "      <td>False</td>\n",
       "      <td>False</td>\n",
       "      <td>False</td>\n",
       "      <td>False</td>\n",
       "      <td>False</td>\n",
       "      <td>False</td>\n",
       "    </tr>\n",
       "    <tr>\n",
       "      <th>4</th>\n",
       "      <td>False</td>\n",
       "      <td>False</td>\n",
       "      <td>False</td>\n",
       "      <td>False</td>\n",
       "      <td>False</td>\n",
       "      <td>False</td>\n",
       "      <td>False</td>\n",
       "      <td>False</td>\n",
       "      <td>False</td>\n",
       "      <td>False</td>\n",
       "      <td>False</td>\n",
       "      <td>False</td>\n",
       "    </tr>\n",
       "    <tr>\n",
       "      <th>...</th>\n",
       "      <td>...</td>\n",
       "      <td>...</td>\n",
       "      <td>...</td>\n",
       "      <td>...</td>\n",
       "      <td>...</td>\n",
       "      <td>...</td>\n",
       "      <td>...</td>\n",
       "      <td>...</td>\n",
       "      <td>...</td>\n",
       "      <td>...</td>\n",
       "      <td>...</td>\n",
       "      <td>...</td>\n",
       "    </tr>\n",
       "    <tr>\n",
       "      <th>886</th>\n",
       "      <td>False</td>\n",
       "      <td>False</td>\n",
       "      <td>False</td>\n",
       "      <td>False</td>\n",
       "      <td>False</td>\n",
       "      <td>False</td>\n",
       "      <td>False</td>\n",
       "      <td>False</td>\n",
       "      <td>False</td>\n",
       "      <td>False</td>\n",
       "      <td>False</td>\n",
       "      <td>False</td>\n",
       "    </tr>\n",
       "    <tr>\n",
       "      <th>887</th>\n",
       "      <td>False</td>\n",
       "      <td>False</td>\n",
       "      <td>False</td>\n",
       "      <td>False</td>\n",
       "      <td>False</td>\n",
       "      <td>False</td>\n",
       "      <td>False</td>\n",
       "      <td>False</td>\n",
       "      <td>False</td>\n",
       "      <td>False</td>\n",
       "      <td>False</td>\n",
       "      <td>False</td>\n",
       "    </tr>\n",
       "    <tr>\n",
       "      <th>888</th>\n",
       "      <td>False</td>\n",
       "      <td>False</td>\n",
       "      <td>False</td>\n",
       "      <td>False</td>\n",
       "      <td>False</td>\n",
       "      <td>False</td>\n",
       "      <td>False</td>\n",
       "      <td>False</td>\n",
       "      <td>False</td>\n",
       "      <td>False</td>\n",
       "      <td>False</td>\n",
       "      <td>False</td>\n",
       "    </tr>\n",
       "    <tr>\n",
       "      <th>889</th>\n",
       "      <td>False</td>\n",
       "      <td>False</td>\n",
       "      <td>False</td>\n",
       "      <td>False</td>\n",
       "      <td>False</td>\n",
       "      <td>False</td>\n",
       "      <td>False</td>\n",
       "      <td>False</td>\n",
       "      <td>False</td>\n",
       "      <td>False</td>\n",
       "      <td>False</td>\n",
       "      <td>False</td>\n",
       "    </tr>\n",
       "    <tr>\n",
       "      <th>890</th>\n",
       "      <td>False</td>\n",
       "      <td>False</td>\n",
       "      <td>False</td>\n",
       "      <td>False</td>\n",
       "      <td>False</td>\n",
       "      <td>False</td>\n",
       "      <td>False</td>\n",
       "      <td>False</td>\n",
       "      <td>False</td>\n",
       "      <td>False</td>\n",
       "      <td>False</td>\n",
       "      <td>False</td>\n",
       "    </tr>\n",
       "  </tbody>\n",
       "</table>\n",
       "<p>891 rows × 12 columns</p>\n",
       "</div>"
      ],
      "text/plain": [
       "     PassengerId  Survived  Pclass   Name    Sex    Age  SibSp  Parch  Ticket  \\\n",
       "0          False     False   False  False  False  False  False  False   False   \n",
       "1          False     False   False  False  False  False  False  False   False   \n",
       "2          False     False   False  False  False  False  False  False   False   \n",
       "3          False     False   False  False  False  False  False  False   False   \n",
       "4          False     False   False  False  False  False  False  False   False   \n",
       "..           ...       ...     ...    ...    ...    ...    ...    ...     ...   \n",
       "886        False     False   False  False  False  False  False  False   False   \n",
       "887        False     False   False  False  False  False  False  False   False   \n",
       "888        False     False   False  False  False  False  False  False   False   \n",
       "889        False     False   False  False  False  False  False  False   False   \n",
       "890        False     False   False  False  False  False  False  False   False   \n",
       "\n",
       "      Fare  Cabin  Embarked  \n",
       "0    False  False     False  \n",
       "1    False  False     False  \n",
       "2    False  False     False  \n",
       "3    False  False     False  \n",
       "4    False  False     False  \n",
       "..     ...    ...       ...  \n",
       "886  False  False     False  \n",
       "887  False  False     False  \n",
       "888  False  False     False  \n",
       "889  False  False     False  \n",
       "890  False  False     False  \n",
       "\n",
       "[891 rows x 12 columns]"
      ]
     },
     "execution_count": 63,
     "metadata": {},
     "output_type": "execute_result"
    }
   ],
   "source": [
    "titanic_df.isnull()"
   ]
  },
  {
   "cell_type": "code",
   "execution_count": 64,
   "id": "6fa9bab8-7361-4a8e-acd1-cae431fe43d4",
   "metadata": {},
   "outputs": [
    {
     "data": {
      "text/plain": [
       "PassengerId    0\n",
       "Survived       0\n",
       "Pclass         0\n",
       "Name           0\n",
       "Sex            0\n",
       "Age            0\n",
       "SibSp          0\n",
       "Parch          0\n",
       "Ticket         0\n",
       "Fare           0\n",
       "Cabin          0\n",
       "Embarked       0\n",
       "dtype: int64"
      ]
     },
     "execution_count": 64,
     "metadata": {},
     "output_type": "execute_result"
    }
   ],
   "source": [
    "titanic_df.isnull().sum()"
   ]
  },
  {
   "cell_type": "code",
   "execution_count": 65,
   "id": "8e104cb4-1d5b-423b-9172-0327c5ca99ea",
   "metadata": {},
   "outputs": [
    {
     "data": {
      "text/plain": [
       "0"
      ]
     },
     "execution_count": 65,
     "metadata": {},
     "output_type": "execute_result"
    }
   ],
   "source": [
    "titanic_df.isnull().sum().sum()"
   ]
  },
  {
   "cell_type": "code",
   "execution_count": 66,
   "id": "ec7689d1-62f7-481e-a8e8-2c03052fa70d",
   "metadata": {},
   "outputs": [
    {
     "data": {
      "text/html": [
       "<div>\n",
       "<style scoped>\n",
       "    .dataframe tbody tr th:only-of-type {\n",
       "        vertical-align: middle;\n",
       "    }\n",
       "\n",
       "    .dataframe tbody tr th {\n",
       "        vertical-align: top;\n",
       "    }\n",
       "\n",
       "    .dataframe thead th {\n",
       "        text-align: right;\n",
       "    }\n",
       "</style>\n",
       "<table border=\"1\" class=\"dataframe\">\n",
       "  <thead>\n",
       "    <tr style=\"text-align: right;\">\n",
       "      <th></th>\n",
       "      <th>PassengerId</th>\n",
       "      <th>Survived</th>\n",
       "      <th>Pclass</th>\n",
       "      <th>Name</th>\n",
       "      <th>Sex</th>\n",
       "      <th>Age</th>\n",
       "      <th>SibSp</th>\n",
       "      <th>Parch</th>\n",
       "      <th>Ticket</th>\n",
       "      <th>Fare</th>\n",
       "      <th>Cabin</th>\n",
       "      <th>Embarked</th>\n",
       "    </tr>\n",
       "  </thead>\n",
       "  <tbody>\n",
       "    <tr>\n",
       "      <th>888</th>\n",
       "      <td>889</td>\n",
       "      <td>0</td>\n",
       "      <td>3</td>\n",
       "      <td>Johnston, Miss. Catherine Helen \"Carrie\"</td>\n",
       "      <td>female</td>\n",
       "      <td>29.699118</td>\n",
       "      <td>1</td>\n",
       "      <td>2</td>\n",
       "      <td>W./C. 6607</td>\n",
       "      <td>23.45</td>\n",
       "      <td>N</td>\n",
       "      <td>S</td>\n",
       "    </tr>\n",
       "    <tr>\n",
       "      <th>889</th>\n",
       "      <td>890</td>\n",
       "      <td>1</td>\n",
       "      <td>1</td>\n",
       "      <td>Behr, Mr. Karl Howell</td>\n",
       "      <td>male</td>\n",
       "      <td>26.000000</td>\n",
       "      <td>0</td>\n",
       "      <td>0</td>\n",
       "      <td>111369</td>\n",
       "      <td>30.00</td>\n",
       "      <td>C148</td>\n",
       "      <td>C</td>\n",
       "    </tr>\n",
       "    <tr>\n",
       "      <th>890</th>\n",
       "      <td>891</td>\n",
       "      <td>0</td>\n",
       "      <td>3</td>\n",
       "      <td>Dooley, Mr. Patrick</td>\n",
       "      <td>male</td>\n",
       "      <td>32.000000</td>\n",
       "      <td>0</td>\n",
       "      <td>0</td>\n",
       "      <td>370376</td>\n",
       "      <td>7.75</td>\n",
       "      <td>N</td>\n",
       "      <td>Q</td>\n",
       "    </tr>\n",
       "  </tbody>\n",
       "</table>\n",
       "</div>"
      ],
      "text/plain": [
       "     PassengerId  Survived  Pclass                                      Name  \\\n",
       "888          889         0       3  Johnston, Miss. Catherine Helen \"Carrie\"   \n",
       "889          890         1       1                     Behr, Mr. Karl Howell   \n",
       "890          891         0       3                       Dooley, Mr. Patrick   \n",
       "\n",
       "        Sex        Age  SibSp  Parch      Ticket   Fare Cabin Embarked  \n",
       "888  female  29.699118      1      2  W./C. 6607  23.45     N        S  \n",
       "889    male  26.000000      0      0      111369  30.00  C148        C  \n",
       "890    male  32.000000      0      0      370376   7.75     N        Q  "
      ]
     },
     "execution_count": 66,
     "metadata": {},
     "output_type": "execute_result"
    }
   ],
   "source": [
    "titanic_df.tail(3)"
   ]
  },
  {
   "cell_type": "code",
   "execution_count": 67,
   "id": "08804723-6243-47ee-aa0a-66ee33a96021",
   "metadata": {},
   "outputs": [
    {
     "name": "stdout",
     "output_type": "stream",
     "text": [
      "<class 'pandas.core.frame.DataFrame'>\n",
      "RangeIndex: 891 entries, 0 to 890\n",
      "Data columns (total 12 columns):\n",
      " #   Column       Non-Null Count  Dtype  \n",
      "---  ------       --------------  -----  \n",
      " 0   PassengerId  891 non-null    int64  \n",
      " 1   Survived     891 non-null    int64  \n",
      " 2   Pclass       891 non-null    int64  \n",
      " 3   Name         891 non-null    object \n",
      " 4   Sex          891 non-null    object \n",
      " 5   Age          891 non-null    float64\n",
      " 6   SibSp        891 non-null    int64  \n",
      " 7   Parch        891 non-null    int64  \n",
      " 8   Ticket       891 non-null    object \n",
      " 9   Fare         891 non-null    float64\n",
      " 10  Cabin        891 non-null    object \n",
      " 11  Embarked     891 non-null    object \n",
      "dtypes: float64(2), int64(5), object(5)\n",
      "memory usage: 83.7+ KB\n"
     ]
    }
   ],
   "source": [
    "titanic_df.info()"
   ]
  },
  {
   "cell_type": "markdown",
   "id": "75884b24-8a61-4e38-81f7-54bfb01274b9",
   "metadata": {},
   "source": [
    "- 현재 남아있는 문자열 feature는 Sex,Cabin,Embarked이다.\n",
    "  - 물론 Name, Ticket도 있는데, 분석 대상으로서 효과가 없을 것 같아서 논외로 차치해둔 것 같음"
   ]
  },
  {
   "cell_type": "code",
   "execution_count": 68,
   "id": "e0234680-9c80-49e3-8394-1f30839fc460",
   "metadata": {},
   "outputs": [
    {
     "name": "stdout",
     "output_type": "stream",
     "text": [
      " Sex 값 분포 :\n",
      " male      577\n",
      "female    314\n",
      "Name: Sex, dtype: int64\n",
      "\n",
      " Cabin 값 분포 :\n",
      " N              687\n",
      "C23 C25 C27      4\n",
      "G6               4\n",
      "B96 B98          4\n",
      "C22 C26          3\n",
      "              ... \n",
      "E34              1\n",
      "C7               1\n",
      "C54              1\n",
      "E36              1\n",
      "C148             1\n",
      "Name: Cabin, Length: 148, dtype: int64\n",
      "\n",
      " Embarked 값 분포 :\n",
      " S    644\n",
      "C    168\n",
      "Q     77\n",
      "N      2\n",
      "Name: Embarked, dtype: int64\n"
     ]
    }
   ],
   "source": [
    "print(' Sex 값 분포 :\\n',titanic_df['Sex'].value_counts())\n",
    "print('\\n Cabin 값 분포 :\\n',titanic_df['Cabin'].value_counts())\n",
    "print('\\n Embarked 값 분포 :\\n',titanic_df['Embarked'].value_counts())"
   ]
  },
  {
   "cell_type": "markdown",
   "id": "884e5cab-7daa-4b1e-b7b4-143f1f3beb5f",
   "metadata": {},
   "source": [
    "- Cabin의 경우 N이 687건으로 가장 많은 것이 좀 특이하긴 함.\n",
    "  - 속성값이 제대로 정리되지 않은 것 같음\n",
    "- Cabin의 경우 첫글자가 제일 중요해보이므로 첫글자만 따서 재정리해보자"
   ]
  },
  {
   "cell_type": "markdown",
   "id": "17ab8d48-49f8-4c5d-b01d-b421f3b1a5a3",
   "metadata": {},
   "source": [
    "----"
   ]
  },
  {
   "cell_type": "markdown",
   "id": "ded79de7-5a80-4186-94c5-1f8ab8a8a074",
   "metadata": {},
   "source": [
    "# *****************************`추가 학습`*****************************"
   ]
  },
  {
   "cell_type": "markdown",
   "id": "ade96c17-099d-4150-b90b-0ed8468b36f1",
   "metadata": {},
   "source": [
    "# `판다스 문자열 관련 함수 str`(판다스에서 문자열처리하는 method)\n",
    "  - 판다스에서 문자열 관련 함수를 사용하거나 전처리를 하기 위해서는 함수 및 명령어 앞에 str을 붙여준다\n",
    "    - 1) 인덱싱하기\n",
    "      - titanic_df['Cabin'].str[:1]\n",
    "    - 2) 분할하여 list에 모아두기 (이 경우는 space로 문자열이 구분되어져 있을 때 )\n",
    "      - titanic_df['Cabin'].str.split(' ')\n",
    "      - 분할된 개별 list를 바로 df으로 만드려면 expand = True 옵션을 추가한다. \n",
    "      - titanic_df['Cabin'].str.split(' ', expand = True)\n",
    "    - 3) 시작글자 인식하여 Boolean 형태로 반환해주기\n",
    "      - titanic_df['Cabin'].str.startwith('N')\n",
    "      - 위 반환 결과는 Boolean이기 때문에 이 결과를 이용하여 바로 필터링에 사용할 수 있다.\n",
    "      - titanic_df[titanic_df['Cabin'].str.startwith('N')]\n",
    "    - 4) 끝글자 인식하여 Boolean 형태로 반환해주기(필터링까지 한 번에 해보기)\n",
    "      - titanic_df[titanic_df['Cabin'].str.endswith('N')]\n",
    "    - 5) 포함글자 인식하여 필터링까지 한 번에 해보기\n",
    "      - titanic_df[titanic_df['Cabin'].str.contains('N')]\n",
    "      - 이것도 결과가 Boolean으로 반환되기 때문에 필터링에 활용할 수 있다. \n",
    "    - 6) 문자 위치 찾기\n",
    "      - titanic_df.str.find('C') # 이건 왼쪽부터 검색\n",
    "      - 검색 후 없는 건 -1로 반환되고 있는 건 indexing 번호로 반환된다. \n",
    "\n",
    "\n",
    "   - 이 외에도 pandas의 DataFrame에서 만약 문자열 칼럼이 있다면 .str의 여러 함수를 통해 문자열 처리할 수 있다. "
   ]
  },
  {
   "cell_type": "markdown",
   "id": "fd5c988a-2e04-4dad-8040-7ffc93526fc6",
   "metadata": {},
   "source": [
    "\n",
    "---"
   ]
  },
  {
   "cell_type": "code",
   "execution_count": 69,
   "id": "1e11473b-b839-4e2f-bdcc-4f63c79b6bd8",
   "metadata": {},
   "outputs": [
    {
     "data": {
      "text/plain": [
       "<pandas.core.strings.accessor.StringMethods at 0x18e2a1fda00>"
      ]
     },
     "execution_count": 69,
     "metadata": {},
     "output_type": "execute_result"
    }
   ],
   "source": [
    "titanic_df['Cabin'].str"
   ]
  },
  {
   "cell_type": "markdown",
   "id": "ed48698d-ad2c-462d-b48b-3e9a77439ab9",
   "metadata": {},
   "source": [
    "- 해당 셀의 반환 결과가 strings.accessor.StringMethods라는 걸 알 수 있다. "
   ]
  },
  {
   "cell_type": "code",
   "execution_count": 70,
   "id": "d39453cf-17b2-4d96-a85e-1e475d03ef9c",
   "metadata": {},
   "outputs": [
    {
     "name": "stdout",
     "output_type": "stream",
     "text": [
      "0    N\n",
      "1    C\n",
      "2    N\n",
      "Name: Cabin, dtype: object\n"
     ]
    },
    {
     "data": {
      "text/plain": [
       "N    687\n",
       "C     59\n",
       "B     47\n",
       "D     33\n",
       "E     32\n",
       "A     15\n",
       "F     13\n",
       "G      4\n",
       "T      1\n",
       "Name: Cabin, dtype: int64"
      ]
     },
     "execution_count": 70,
     "metadata": {},
     "output_type": "execute_result"
    }
   ],
   "source": [
    "# 문자열 인덱싱해서 새로운 열 생성하기(여기서는 기존의 열 Cabin을 인덱싱해서 기존의 열 구성을 변경해준 것임)\n",
    "# 문자열 쪼개서 새로운 열을 생성해줄 수도 있다.\n",
    "# 다음을 참고한다. \n",
    "# https://hleecaster.com/pandas-data-cleaning-2/\n",
    "titanic_df['Cabin'] = titanic_df['Cabin'].str[:1]\n",
    "# pandas의 문자열 칼럼 처리하는 여러 함수 중 index slicing하는 기능 이용중인 것.\n",
    "print(titanic_df['Cabin'].head(3))\n",
    "titanic_df['Cabin'].value_counts()"
   ]
  },
  {
   "cell_type": "markdown",
   "id": "cf221671-4a1a-41d4-9361-2838c3e42bf3",
   "metadata": {},
   "source": [
    "- 머신러닝 알고리즘을 적용해 예측 수행 전, 데이터를 먼저 탐색해보자\n",
    "  - 어떤 유형의 승객이 생존 확률이 높을까?\n",
    "  - 성별이 생존 확률에 어떤 영향을 미쳤는지, 성별에 따른 생존자 수를 비교해보자"
   ]
  },
  {
   "cell_type": "markdown",
   "id": "3ba67594-8d03-46f0-86b3-53b101218f2e",
   "metadata": {},
   "source": [
    "---"
   ]
  },
  {
   "cell_type": "markdown",
   "id": "e938133b-fcb0-40be-943b-48567aa08924",
   "metadata": {},
   "source": [
    "# *****`추가 학습`*****"
   ]
  },
  {
   "cell_type": "markdown",
   "id": "e3feecee-96fe-49a0-9c13-41a01b1d80d2",
   "metadata": {},
   "source": [
    "# **********`pandas DataFrame의 GroupBy 기능 이용하기`**********\n",
    "  - groupby 함수의 반환 값은 GroupBy 클래스 객체이다.\n",
    "  - 구체적으로 말하면 객체는 두가지로 만들 수 있다.\n",
    "    - GroupBy 클래스의 객체를\n",
    "      - 단지 column 이름만으로 색인(indexing)한다면 $\\to$ SeriesGroupBy 객체가 생성될 것이고 \n",
    "      - column 이름을 list 배열에 담아서 색인(indexing)한다면 $\\to$ DataFrameGroupBy 객체가 생성된다.\n",
    "      - 여러 칼럼을 동시에 그룹핑하여 요약정보들을 확인할 땐, DataFrameGroupBy 객체를 생성하는 게 용이하다.\n",
    "  - 해당 객체를 이용해서 여러 요약정보를 확인할 수 있는데, 이 객체를 임의의 특정 변수에 담아 사용할 수도 있다.\n",
    "    - 이를테면 sex = titanic_df.groupby(['Sex'])\n",
    "    - sex에 DataFrameGroupBy라는 객체가 담겨있고\n",
    "    - sex.size()와 같이\n",
    "    - 다양한 그룹 연산 메소드를 활용할 수 있다. "
   ]
  },
  {
   "cell_type": "code",
   "execution_count": 71,
   "id": "0a3d7e31-d7d4-4d3e-9fa6-acf7df427b04",
   "metadata": {},
   "outputs": [],
   "source": [
    "# 이건 지금 column이름이 담긴 배열로 색인했음을 알 수 있다.\n",
    "# 그 차이를 비교해보자\n",
    "sex = titanic_df.groupby(['Sex']) # sex = titanic_df.groupby('Sex') 대체 가능하다"
   ]
  },
  {
   "cell_type": "code",
   "execution_count": 72,
   "id": "57cdc370-17e9-4856-8b0e-fddeb0cdb060",
   "metadata": {},
   "outputs": [
    {
     "data": {
      "text/html": [
       "<div>\n",
       "<style scoped>\n",
       "    .dataframe tbody tr th:only-of-type {\n",
       "        vertical-align: middle;\n",
       "    }\n",
       "\n",
       "    .dataframe tbody tr th {\n",
       "        vertical-align: top;\n",
       "    }\n",
       "\n",
       "    .dataframe thead th {\n",
       "        text-align: right;\n",
       "    }\n",
       "</style>\n",
       "<table border=\"1\" class=\"dataframe\">\n",
       "  <thead>\n",
       "    <tr style=\"text-align: right;\">\n",
       "      <th></th>\n",
       "      <th>PassengerId</th>\n",
       "      <th>Survived</th>\n",
       "      <th>Pclass</th>\n",
       "      <th>Age</th>\n",
       "      <th>SibSp</th>\n",
       "      <th>Parch</th>\n",
       "      <th>Fare</th>\n",
       "    </tr>\n",
       "    <tr>\n",
       "      <th>Sex</th>\n",
       "      <th></th>\n",
       "      <th></th>\n",
       "      <th></th>\n",
       "      <th></th>\n",
       "      <th></th>\n",
       "      <th></th>\n",
       "      <th></th>\n",
       "    </tr>\n",
       "  </thead>\n",
       "  <tbody>\n",
       "    <tr>\n",
       "      <th>female</th>\n",
       "      <td>431.028662</td>\n",
       "      <td>0.742038</td>\n",
       "      <td>2.159236</td>\n",
       "      <td>28.216730</td>\n",
       "      <td>0.694268</td>\n",
       "      <td>0.649682</td>\n",
       "      <td>44.479818</td>\n",
       "    </tr>\n",
       "    <tr>\n",
       "      <th>male</th>\n",
       "      <td>454.147314</td>\n",
       "      <td>0.188908</td>\n",
       "      <td>2.389948</td>\n",
       "      <td>30.505824</td>\n",
       "      <td>0.429809</td>\n",
       "      <td>0.235702</td>\n",
       "      <td>25.523893</td>\n",
       "    </tr>\n",
       "  </tbody>\n",
       "</table>\n",
       "</div>"
      ],
      "text/plain": [
       "        PassengerId  Survived    Pclass        Age     SibSp     Parch  \\\n",
       "Sex                                                                      \n",
       "female   431.028662  0.742038  2.159236  28.216730  0.694268  0.649682   \n",
       "male     454.147314  0.188908  2.389948  30.505824  0.429809  0.235702   \n",
       "\n",
       "             Fare  \n",
       "Sex                \n",
       "female  44.479818  \n",
       "male    25.523893  "
      ]
     },
     "execution_count": 72,
     "metadata": {},
     "output_type": "execute_result"
    }
   ],
   "source": [
    "sex.mean()"
   ]
  },
  {
   "cell_type": "code",
   "execution_count": 73,
   "id": "5b8b797c-c123-4292-beef-b638a4078943",
   "metadata": {},
   "outputs": [
    {
     "data": {
      "text/plain": [
       "Sex\n",
       "female    314\n",
       "male      577\n",
       "dtype: int64"
      ]
     },
     "execution_count": 73,
     "metadata": {},
     "output_type": "execute_result"
    }
   ],
   "source": [
    "titanic_df.groupby(['Sex']).size()"
   ]
  },
  {
   "cell_type": "code",
   "execution_count": 74,
   "id": "053ff3f8-bae8-4b75-8dcd-eacefddf369f",
   "metadata": {},
   "outputs": [
    {
     "data": {
      "text/plain": [
       "<pandas.core.groupby.generic.SeriesGroupBy object at 0x0000018E2A1DDFA0>"
      ]
     },
     "execution_count": 74,
     "metadata": {},
     "output_type": "execute_result"
    }
   ],
   "source": [
    "a = titanic_df.groupby(['Sex','Survived'])['Survived']\n",
    "a"
   ]
  },
  {
   "cell_type": "code",
   "execution_count": 75,
   "id": "ae22ec67-fca3-41a9-9c14-89e1c428c989",
   "metadata": {},
   "outputs": [
    {
     "data": {
      "text/plain": [
       "<pandas.core.groupby.generic.DataFrameGroupBy object at 0x0000018E2A84EF40>"
      ]
     },
     "execution_count": 75,
     "metadata": {},
     "output_type": "execute_result"
    }
   ],
   "source": [
    "b = titanic_df.groupby(['Sex','Survived'])[['Survived']]\n",
    "b"
   ]
  },
  {
   "cell_type": "code",
   "execution_count": 76,
   "id": "40699b0f-8b70-4cdf-abb9-797b6b97eb8a",
   "metadata": {},
   "outputs": [
    {
     "data": {
      "text/plain": [
       "Sex     Survived\n",
       "female  0            81\n",
       "        1           233\n",
       "male    0           468\n",
       "        1           109\n",
       "Name: Survived, dtype: int64"
      ]
     },
     "execution_count": 76,
     "metadata": {},
     "output_type": "execute_result"
    }
   ],
   "source": [
    "a.count()"
   ]
  },
  {
   "cell_type": "code",
   "execution_count": 77,
   "id": "2ef08ce2-9b69-48b1-9758-6ee277aeb2aa",
   "metadata": {},
   "outputs": [
    {
     "data": {
      "text/html": [
       "<div>\n",
       "<style scoped>\n",
       "    .dataframe tbody tr th:only-of-type {\n",
       "        vertical-align: middle;\n",
       "    }\n",
       "\n",
       "    .dataframe tbody tr th {\n",
       "        vertical-align: top;\n",
       "    }\n",
       "\n",
       "    .dataframe thead th {\n",
       "        text-align: right;\n",
       "    }\n",
       "</style>\n",
       "<table border=\"1\" class=\"dataframe\">\n",
       "  <thead>\n",
       "    <tr style=\"text-align: right;\">\n",
       "      <th></th>\n",
       "      <th></th>\n",
       "      <th>Survived</th>\n",
       "    </tr>\n",
       "    <tr>\n",
       "      <th>Sex</th>\n",
       "      <th>Survived</th>\n",
       "      <th></th>\n",
       "    </tr>\n",
       "  </thead>\n",
       "  <tbody>\n",
       "    <tr>\n",
       "      <th rowspan=\"2\" valign=\"top\">female</th>\n",
       "      <th>0</th>\n",
       "      <td>81</td>\n",
       "    </tr>\n",
       "    <tr>\n",
       "      <th>1</th>\n",
       "      <td>233</td>\n",
       "    </tr>\n",
       "    <tr>\n",
       "      <th rowspan=\"2\" valign=\"top\">male</th>\n",
       "      <th>0</th>\n",
       "      <td>468</td>\n",
       "    </tr>\n",
       "    <tr>\n",
       "      <th>1</th>\n",
       "      <td>109</td>\n",
       "    </tr>\n",
       "  </tbody>\n",
       "</table>\n",
       "</div>"
      ],
      "text/plain": [
       "                 Survived\n",
       "Sex    Survived          \n",
       "female 0               81\n",
       "       1              233\n",
       "male   0              468\n",
       "       1              109"
      ]
     },
     "execution_count": 77,
     "metadata": {},
     "output_type": "execute_result"
    }
   ],
   "source": [
    "b.count()"
   ]
  },
  {
   "cell_type": "markdown",
   "id": "47fb5c84-3c58-4727-8d29-b28aefb6e1f6",
   "metadata": {},
   "source": [
    "- 다름을 알 수 있다. "
   ]
  },
  {
   "cell_type": "markdown",
   "id": "9681d9cf-4460-439b-97f7-8091c8e50f4c",
   "metadata": {},
   "source": [
    "---"
   ]
  },
  {
   "cell_type": "code",
   "execution_count": 78,
   "id": "8fd5beff-9d75-4fca-9cb0-2e6656ba8e56",
   "metadata": {},
   "outputs": [
    {
     "data": {
      "text/html": [
       "<div>\n",
       "<style scoped>\n",
       "    .dataframe tbody tr th:only-of-type {\n",
       "        vertical-align: middle;\n",
       "    }\n",
       "\n",
       "    .dataframe tbody tr th {\n",
       "        vertical-align: top;\n",
       "    }\n",
       "\n",
       "    .dataframe thead th {\n",
       "        text-align: right;\n",
       "    }\n",
       "</style>\n",
       "<table border=\"1\" class=\"dataframe\">\n",
       "  <thead>\n",
       "    <tr style=\"text-align: right;\">\n",
       "      <th></th>\n",
       "      <th>PassengerId</th>\n",
       "      <th>Survived</th>\n",
       "      <th>Pclass</th>\n",
       "      <th>Name</th>\n",
       "      <th>Age</th>\n",
       "      <th>SibSp</th>\n",
       "      <th>Parch</th>\n",
       "      <th>Ticket</th>\n",
       "      <th>Fare</th>\n",
       "      <th>Cabin</th>\n",
       "      <th>Embarked</th>\n",
       "    </tr>\n",
       "    <tr>\n",
       "      <th>Sex</th>\n",
       "      <th></th>\n",
       "      <th></th>\n",
       "      <th></th>\n",
       "      <th></th>\n",
       "      <th></th>\n",
       "      <th></th>\n",
       "      <th></th>\n",
       "      <th></th>\n",
       "      <th></th>\n",
       "      <th></th>\n",
       "      <th></th>\n",
       "    </tr>\n",
       "  </thead>\n",
       "  <tbody>\n",
       "    <tr>\n",
       "      <th>female</th>\n",
       "      <td>314</td>\n",
       "      <td>314</td>\n",
       "      <td>314</td>\n",
       "      <td>314</td>\n",
       "      <td>314</td>\n",
       "      <td>314</td>\n",
       "      <td>314</td>\n",
       "      <td>314</td>\n",
       "      <td>314</td>\n",
       "      <td>314</td>\n",
       "      <td>314</td>\n",
       "    </tr>\n",
       "    <tr>\n",
       "      <th>male</th>\n",
       "      <td>577</td>\n",
       "      <td>577</td>\n",
       "      <td>577</td>\n",
       "      <td>577</td>\n",
       "      <td>577</td>\n",
       "      <td>577</td>\n",
       "      <td>577</td>\n",
       "      <td>577</td>\n",
       "      <td>577</td>\n",
       "      <td>577</td>\n",
       "      <td>577</td>\n",
       "    </tr>\n",
       "  </tbody>\n",
       "</table>\n",
       "</div>"
      ],
      "text/plain": [
       "        PassengerId  Survived  Pclass  Name  Age  SibSp  Parch  Ticket  Fare  \\\n",
       "Sex                                                                            \n",
       "female          314       314     314   314  314    314    314     314   314   \n",
       "male            577       577     577   577  577    577    577     577   577   \n",
       "\n",
       "        Cabin  Embarked  \n",
       "Sex                      \n",
       "female    314       314  \n",
       "male      577       577  "
      ]
     },
     "execution_count": 78,
     "metadata": {},
     "output_type": "execute_result"
    }
   ],
   "source": [
    "titanic_df.groupby(['Sex']).count()"
   ]
  },
  {
   "cell_type": "code",
   "execution_count": 79,
   "id": "9ff62f67-7bfe-4b96-8425-df95df3197d8",
   "metadata": {},
   "outputs": [
    {
     "data": {
      "text/plain": [
       "<pandas.core.groupby.generic.SeriesGroupBy object at 0x0000018E2A1FD6A0>"
      ]
     },
     "execution_count": 79,
     "metadata": {},
     "output_type": "execute_result"
    }
   ],
   "source": [
    "titanic_df.groupby(['Sex','Survived'])['Survived']"
   ]
  },
  {
   "cell_type": "code",
   "execution_count": 80,
   "id": "30e8d0ca-3772-4d32-9149-5f484dd4d708",
   "metadata": {},
   "outputs": [
    {
     "data": {
      "text/plain": [
       "Sex     Survived\n",
       "female  0            81\n",
       "        1           233\n",
       "male    0           468\n",
       "        1           109\n",
       "Name: Survived, dtype: int64"
      ]
     },
     "execution_count": 80,
     "metadata": {},
     "output_type": "execute_result"
    }
   ],
   "source": [
    "titanic_df.groupby(['Sex','Survived'])['Survived'].count()"
   ]
  },
  {
   "cell_type": "code",
   "execution_count": 81,
   "id": "7beb335b-bb5e-430d-b806-307793b2ad9c",
   "metadata": {},
   "outputs": [
    {
     "data": {
      "text/plain": [
       "<AxesSubplot:xlabel='Sex', ylabel='Survived'>"
      ]
     },
     "execution_count": 81,
     "metadata": {},
     "output_type": "execute_result"
    },
    {
     "data": {
      "image/png": "[encoded data removed]",
      "text/plain": [
       "<Figure size 432x288 with 1 Axes>"
      ]
     },
     "metadata": {
      "needs_background": "light"
     },
     "output_type": "display_data"
    }
   ],
   "source": [
    "# import seaborn as sns\n",
    "sns.barplot(x='Sex', y='Survived', data = titanic_df)"
   ]
  },
  {
   "cell_type": "markdown",
   "id": "93385e26-4178-4c04-8705-0a34de591a91",
   "metadata": {},
   "source": [
    "- 부자와 가난한 사람 간의 생존 확률에 대해 알아보자\n",
    "  - 객실 등급으로 확인할 수 있을 것이다. \n",
    "  - + 성별까지 함께 고려해보자 \n",
    "    - hue 파라미터를 추가해주면 된다. "
   ]
  },
  {
   "cell_type": "code",
   "execution_count": 82,
   "id": "8e8883a2-4ed8-43a9-a101-e80faf32c8e4",
   "metadata": {},
   "outputs": [
    {
     "data": {
      "text/plain": [
       "<AxesSubplot:xlabel='Pclass', ylabel='Survived'>"
      ]
     },
     "execution_count": 82,
     "metadata": {},
     "output_type": "execute_result"
    },
    {
     "data": {
      "image/png": "[encoded data removed]",
      "text/plain": [
       "<Figure size 432x288 with 1 Axes>"
      ]
     },
     "metadata": {
      "needs_background": "light"
     },
     "output_type": "display_data"
    }
   ],
   "source": [
    "sns.barplot(x = 'Pclass', y = 'Survived', hue = 'Sex', data = titanic_df)\n",
    "# 구분 기준이 Pclass와 Sex가 되는 것이다."
   ]
  },
  {
   "cell_type": "markdown",
   "id": "6fcc737c-946d-4735-b7db-ef6dd716f45a",
   "metadata": {},
   "source": [
    "- 분석\n",
    "  - 여성의 경우 일,이등실에 따른 생존 확률의 차이가 크지 않으나. 삼등실의 경우 생존 확률이 상대적으로 많이 떨어졌다.\n",
    "  - 남성의 경우 일등실의 생존확률이 이,삼등실의 생존확률보다 월등히 높다. "
   ]
  },
  {
   "cell_type": "markdown",
   "id": "c87c43f5-f629-4a40-a7d0-ebf4f88868b6",
   "metadata": {},
   "source": [
    "- Age에 따른 생존 확률을 알아보자\n",
    "  - 값 종류가 많기 때문에 카테고리를 나눠서 분석해보자"
   ]
  },
  {
   "cell_type": "markdown",
   "id": "67edcbf4-62b7-478e-9c52-b1c814dd8d65",
   "metadata": {},
   "source": [
    "---"
   ]
  },
  {
   "cell_type": "markdown",
   "id": "3fa9736f-f2ca-4590-8247-a35d1b1215bb",
   "metadata": {},
   "source": [
    "# *****************************`추가 학습`*****************************\n",
    "#  pandas의 DataFrame method 알아보기"
   ]
  },
  {
   "attachments": {
    "432dee24-d383-4531-9f68-41c2db17eb41.png": {
     "image/png": "[encoded data removed]"
    }
   },
   "cell_type": "markdown",
   "id": "b0a5e542-e295-41fc-b9ed-730d9d4854f1",
   "metadata": {},
   "source": [
    "- ![image.png](attachment:432dee24-d383-4531-9f68-41c2db17eb41.png)\n",
    "- dtype은 안 되는 것 같음"
   ]
  },
  {
   "cell_type": "markdown",
   "id": "c41b117f-88f9-4a03-b691-836828200ae8",
   "metadata": {},
   "source": [
    "- apply 활용하기"
   ]
  },
  {
   "cell_type": "markdown",
   "id": "cbca3c11-b72e-4873-974e-dbf1f1d6224d",
   "metadata": {},
   "source": [
    "- 예를 들면"
   ]
  },
  {
   "cell_type": "code",
   "execution_count": 83,
   "id": "34ee2f82-2a91-427c-8566-62a44d299f68",
   "metadata": {},
   "outputs": [
    {
     "data": {
      "text/html": [
       "<div>\n",
       "<style scoped>\n",
       "    .dataframe tbody tr th:only-of-type {\n",
       "        vertical-align: middle;\n",
       "    }\n",
       "\n",
       "    .dataframe tbody tr th {\n",
       "        vertical-align: top;\n",
       "    }\n",
       "\n",
       "    .dataframe thead th {\n",
       "        text-align: right;\n",
       "    }\n",
       "</style>\n",
       "<table border=\"1\" class=\"dataframe\">\n",
       "  <thead>\n",
       "    <tr style=\"text-align: right;\">\n",
       "      <th></th>\n",
       "      <th>PassengerId</th>\n",
       "      <th>Survived</th>\n",
       "      <th>Pclass</th>\n",
       "      <th>Name</th>\n",
       "      <th>Sex</th>\n",
       "      <th>Age</th>\n",
       "      <th>SibSp</th>\n",
       "      <th>Parch</th>\n",
       "      <th>Ticket</th>\n",
       "      <th>Fare</th>\n",
       "      <th>Cabin</th>\n",
       "      <th>Embarked</th>\n",
       "    </tr>\n",
       "  </thead>\n",
       "  <tbody>\n",
       "    <tr>\n",
       "      <th>0</th>\n",
       "      <td>1</td>\n",
       "      <td>0</td>\n",
       "      <td>3</td>\n",
       "      <td>Braund, Mr. Owen Harris</td>\n",
       "      <td>male</td>\n",
       "      <td>22.0</td>\n",
       "      <td>1</td>\n",
       "      <td>0</td>\n",
       "      <td>A/5 21171</td>\n",
       "      <td>7.2500</td>\n",
       "      <td>N</td>\n",
       "      <td>S</td>\n",
       "    </tr>\n",
       "    <tr>\n",
       "      <th>1</th>\n",
       "      <td>2</td>\n",
       "      <td>1</td>\n",
       "      <td>1</td>\n",
       "      <td>Cumings, Mrs. John Bradley (Florence Briggs Th...</td>\n",
       "      <td>female</td>\n",
       "      <td>38.0</td>\n",
       "      <td>1</td>\n",
       "      <td>0</td>\n",
       "      <td>PC 17599</td>\n",
       "      <td>71.2833</td>\n",
       "      <td>C</td>\n",
       "      <td>C</td>\n",
       "    </tr>\n",
       "    <tr>\n",
       "      <th>2</th>\n",
       "      <td>3</td>\n",
       "      <td>1</td>\n",
       "      <td>3</td>\n",
       "      <td>Heikkinen, Miss. Laina</td>\n",
       "      <td>female</td>\n",
       "      <td>26.0</td>\n",
       "      <td>0</td>\n",
       "      <td>0</td>\n",
       "      <td>STON/O2. 3101282</td>\n",
       "      <td>7.9250</td>\n",
       "      <td>N</td>\n",
       "      <td>S</td>\n",
       "    </tr>\n",
       "  </tbody>\n",
       "</table>\n",
       "</div>"
      ],
      "text/plain": [
       "   PassengerId  Survived  Pclass  \\\n",
       "0            1         0       3   \n",
       "1            2         1       1   \n",
       "2            3         1       3   \n",
       "\n",
       "                                                Name     Sex   Age  SibSp  \\\n",
       "0                            Braund, Mr. Owen Harris    male  22.0      1   \n",
       "1  Cumings, Mrs. John Bradley (Florence Briggs Th...  female  38.0      1   \n",
       "2                             Heikkinen, Miss. Laina  female  26.0      0   \n",
       "\n",
       "   Parch            Ticket     Fare Cabin Embarked  \n",
       "0      0         A/5 21171   7.2500     N        S  \n",
       "1      0          PC 17599  71.2833     C        C  \n",
       "2      0  STON/O2. 3101282   7.9250     N        S  "
      ]
     },
     "execution_count": 83,
     "metadata": {},
     "output_type": "execute_result"
    }
   ],
   "source": [
    "titanic_df.head(3)"
   ]
  },
  {
   "cell_type": "markdown",
   "id": "ffcd0d72-d5bb-4a9b-88d9-f4e7f84e17d8",
   "metadata": {},
   "source": [
    "```python\n",
    "titanic_df.apply(np.sqrt,axis=0)\n",
    "```"
   ]
  },
  {
   "cell_type": "markdown",
   "id": "80c4e300-4766-4e9c-ac0f-ece5d440d1dd",
   "metadata": {},
   "source": [
    "- str같은 type이 있으니 당연히 실행 안 될것"
   ]
  },
  {
   "cell_type": "code",
   "execution_count": 84,
   "id": "f32ad991-4104-4ab2-b5cb-646adb2e084d",
   "metadata": {},
   "outputs": [
    {
     "data": {
      "text/plain": [
       "0       1.000000\n",
       "1       1.414214\n",
       "2       1.732051\n",
       "3       2.000000\n",
       "4       2.236068\n",
       "         ...    \n",
       "886    29.782545\n",
       "887    29.799329\n",
       "888    29.816103\n",
       "889    29.832868\n",
       "890    29.849623\n",
       "Name: PassengerId, Length: 891, dtype: float64"
      ]
     },
     "execution_count": 84,
     "metadata": {},
     "output_type": "execute_result"
    }
   ],
   "source": [
    "titanic_df.PassengerId.apply(np.sqrt,axis=0)"
   ]
  },
  {
   "cell_type": "code",
   "execution_count": 85,
   "id": "bbaa5eb5-6046-48ef-82fb-29d388ca7b71",
   "metadata": {},
   "outputs": [
    {
     "data": {
      "text/plain": [
       "0       1.000000\n",
       "1       1.414214\n",
       "2       1.732051\n",
       "3       2.000000\n",
       "4       2.236068\n",
       "         ...    \n",
       "886    29.782545\n",
       "887    29.799329\n",
       "888    29.816103\n",
       "889    29.832868\n",
       "890    29.849623\n",
       "Name: PassengerId, Length: 891, dtype: float64"
      ]
     },
     "execution_count": 85,
     "metadata": {},
     "output_type": "execute_result"
    }
   ],
   "source": [
    "titanic_df.PassengerId.apply(np.sqrt,axis=1)"
   ]
  },
  {
   "cell_type": "code",
   "execution_count": 86,
   "id": "c672d3e8-6588-4a7b-a8b4-7ce3136456b8",
   "metadata": {},
   "outputs": [
    {
     "data": {
      "text/plain": [
       "0       1.000000\n",
       "1       1.414214\n",
       "2       1.732051\n",
       "3       2.000000\n",
       "4       2.236068\n",
       "         ...    \n",
       "886    29.782545\n",
       "887    29.799329\n",
       "888    29.816103\n",
       "889    29.832868\n",
       "890    29.849623\n",
       "Name: PassengerId, Length: 891, dtype: float64"
      ]
     },
     "execution_count": 86,
     "metadata": {},
     "output_type": "execute_result"
    }
   ],
   "source": [
    "titanic_df.PassengerId.apply(np.sqrt)"
   ]
  },
  {
   "cell_type": "markdown",
   "id": "687ad449-7dfd-4518-945e-bb3b94c9b701",
   "metadata": {},
   "source": [
    "- axis를 행이나 열이나 뭘로 설정해도 동일한 결과\n",
    "  - 어차피 각 data에 루트 씌우는 거라서\n",
    "  - axis 설정 안 해줘도 되긴 함\n",
    "- 그런데 np.mean 같은 함수를 사용할 땐, 축 설정 해줘야 함"
   ]
  },
  {
   "cell_type": "code",
   "execution_count": 87,
   "id": "ce91de3a-4e34-4143-ae20-a4bbbb4e51d1",
   "metadata": {},
   "outputs": [
    {
     "data": {
      "text/plain": [
       "2.0"
      ]
     },
     "execution_count": 87,
     "metadata": {},
     "output_type": "execute_result"
    }
   ],
   "source": [
    "(lambda x : np.sqrt(x))(4)"
   ]
  },
  {
   "cell_type": "code",
   "execution_count": 88,
   "id": "d189b35f-8971-4e37-8907-070e6f9bafec",
   "metadata": {},
   "outputs": [
    {
     "data": {
      "text/plain": [
       "3.0"
      ]
     },
     "execution_count": 88,
     "metadata": {},
     "output_type": "execute_result"
    }
   ],
   "source": [
    "g = lambda x : np.sqrt(x)\n",
    "g(9)\n",
    "# 이거 자체가 함수"
   ]
  },
  {
   "cell_type": "markdown",
   "id": "467ae823-abac-4b11-8a00-91528fb631d3",
   "metadata": {},
   "source": [
    "- lambda를 map에 사용해보자"
   ]
  },
  {
   "cell_type": "markdown",
   "id": "7a1d47ed-70c6-436d-a77a-a77fda0868ee",
   "metadata": {},
   "source": [
    "# map(변환 함수, 순회 가능 data)\n",
    "- 여러 개의 데이터를 한 번에 다른 형태로 변환하기 위해서 사용\n",
    "  - 따라서, 여러 개의 데이터를 담고 있는 list나 tuple을 대상으로 주로 사용하는 함수\n",
    "- map 함수는 함수를 인자로 받기 때문에 함수가 필요\n",
    "  - 이때 lambda를 이용할 수 있다. "
   ]
  },
  {
   "cell_type": "markdown",
   "id": "f46620d1-ad56-428b-9499-b69f1fc948f9",
   "metadata": {},
   "source": [
    "- 여러 개의 데이터를 한 번에 다른 형태로 변환하기 위해서 사용한다고 했으니\n",
    "- titanic_df의 PassengerId 칼럼을 str으로 바꿔서 반환해보자"
   ]
  },
  {
   "cell_type": "code",
   "execution_count": 89,
   "id": "4ab20b98-7eed-48eb-ac3d-9a7083d6cfdf",
   "metadata": {},
   "outputs": [],
   "source": [
    "titanic_df['strID'] = list(map(lambda x : str(x), titanic_df.PassengerId))"
   ]
  },
  {
   "cell_type": "code",
   "execution_count": 90,
   "id": "3fe491ed-485d-40c3-b58b-28cc5bc7614b",
   "metadata": {},
   "outputs": [
    {
     "data": {
      "text/html": [
       "<div>\n",
       "<style scoped>\n",
       "    .dataframe tbody tr th:only-of-type {\n",
       "        vertical-align: middle;\n",
       "    }\n",
       "\n",
       "    .dataframe tbody tr th {\n",
       "        vertical-align: top;\n",
       "    }\n",
       "\n",
       "    .dataframe thead th {\n",
       "        text-align: right;\n",
       "    }\n",
       "</style>\n",
       "<table border=\"1\" class=\"dataframe\">\n",
       "  <thead>\n",
       "    <tr style=\"text-align: right;\">\n",
       "      <th></th>\n",
       "      <th>PassengerId</th>\n",
       "      <th>Survived</th>\n",
       "      <th>Pclass</th>\n",
       "      <th>Name</th>\n",
       "      <th>Sex</th>\n",
       "      <th>Age</th>\n",
       "      <th>SibSp</th>\n",
       "      <th>Parch</th>\n",
       "      <th>Ticket</th>\n",
       "      <th>Fare</th>\n",
       "      <th>Cabin</th>\n",
       "      <th>Embarked</th>\n",
       "      <th>strID</th>\n",
       "    </tr>\n",
       "  </thead>\n",
       "  <tbody>\n",
       "    <tr>\n",
       "      <th>0</th>\n",
       "      <td>1</td>\n",
       "      <td>0</td>\n",
       "      <td>3</td>\n",
       "      <td>Braund, Mr. Owen Harris</td>\n",
       "      <td>male</td>\n",
       "      <td>22.0</td>\n",
       "      <td>1</td>\n",
       "      <td>0</td>\n",
       "      <td>A/5 21171</td>\n",
       "      <td>7.2500</td>\n",
       "      <td>N</td>\n",
       "      <td>S</td>\n",
       "      <td>1</td>\n",
       "    </tr>\n",
       "    <tr>\n",
       "      <th>1</th>\n",
       "      <td>2</td>\n",
       "      <td>1</td>\n",
       "      <td>1</td>\n",
       "      <td>Cumings, Mrs. John Bradley (Florence Briggs Th...</td>\n",
       "      <td>female</td>\n",
       "      <td>38.0</td>\n",
       "      <td>1</td>\n",
       "      <td>0</td>\n",
       "      <td>PC 17599</td>\n",
       "      <td>71.2833</td>\n",
       "      <td>C</td>\n",
       "      <td>C</td>\n",
       "      <td>2</td>\n",
       "    </tr>\n",
       "    <tr>\n",
       "      <th>2</th>\n",
       "      <td>3</td>\n",
       "      <td>1</td>\n",
       "      <td>3</td>\n",
       "      <td>Heikkinen, Miss. Laina</td>\n",
       "      <td>female</td>\n",
       "      <td>26.0</td>\n",
       "      <td>0</td>\n",
       "      <td>0</td>\n",
       "      <td>STON/O2. 3101282</td>\n",
       "      <td>7.9250</td>\n",
       "      <td>N</td>\n",
       "      <td>S</td>\n",
       "      <td>3</td>\n",
       "    </tr>\n",
       "  </tbody>\n",
       "</table>\n",
       "</div>"
      ],
      "text/plain": [
       "   PassengerId  Survived  Pclass  \\\n",
       "0            1         0       3   \n",
       "1            2         1       1   \n",
       "2            3         1       3   \n",
       "\n",
       "                                                Name     Sex   Age  SibSp  \\\n",
       "0                            Braund, Mr. Owen Harris    male  22.0      1   \n",
       "1  Cumings, Mrs. John Bradley (Florence Briggs Th...  female  38.0      1   \n",
       "2                             Heikkinen, Miss. Laina  female  26.0      0   \n",
       "\n",
       "   Parch            Ticket     Fare Cabin Embarked strID  \n",
       "0      0         A/5 21171   7.2500     N        S     1  \n",
       "1      0          PC 17599  71.2833     C        C     2  \n",
       "2      0  STON/O2. 3101282   7.9250     N        S     3  "
      ]
     },
     "execution_count": 90,
     "metadata": {},
     "output_type": "execute_result"
    }
   ],
   "source": [
    "titanic_df.head(3)"
   ]
  },
  {
   "cell_type": "code",
   "execution_count": 91,
   "id": "d408d221-51b1-4432-8c5e-e92ba80fec6a",
   "metadata": {},
   "outputs": [
    {
     "name": "stdout",
     "output_type": "stream",
     "text": [
      "<class 'pandas.core.frame.DataFrame'>\n",
      "RangeIndex: 891 entries, 0 to 890\n",
      "Data columns (total 13 columns):\n",
      " #   Column       Non-Null Count  Dtype  \n",
      "---  ------       --------------  -----  \n",
      " 0   PassengerId  891 non-null    int64  \n",
      " 1   Survived     891 non-null    int64  \n",
      " 2   Pclass       891 non-null    int64  \n",
      " 3   Name         891 non-null    object \n",
      " 4   Sex          891 non-null    object \n",
      " 5   Age          891 non-null    float64\n",
      " 6   SibSp        891 non-null    int64  \n",
      " 7   Parch        891 non-null    int64  \n",
      " 8   Ticket       891 non-null    object \n",
      " 9   Fare         891 non-null    float64\n",
      " 10  Cabin        891 non-null    object \n",
      " 11  Embarked     891 non-null    object \n",
      " 12  strID        891 non-null    object \n",
      "dtypes: float64(2), int64(5), object(6)\n",
      "memory usage: 90.6+ KB\n"
     ]
    }
   ],
   "source": [
    "titanic_df.info()\n",
    "# titanic_df.info랑 반환 결과가 다름\n",
    "# titanic_df.describe()은 요약통계량"
   ]
  },
  {
   "cell_type": "markdown",
   "id": "f30a0528-2024-4a42-9fbc-fb1a61f3ae10",
   "metadata": {},
   "source": [
    "- 보면 0번 칼럼과 12번 칼럼의 Dtype이 다른 걸 알 수 있음"
   ]
  },
  {
   "cell_type": "markdown",
   "id": "4da54864-d968-4b7f-b709-6da81c3127c0",
   "metadata": {},
   "source": [
    "---"
   ]
  },
  {
   "cell_type": "code",
   "execution_count": 92,
   "id": "9188dae9-e5b2-4550-9880-026a60308dbe",
   "metadata": {},
   "outputs": [
    {
     "data": {
      "image/png": "[encoded data removed]",
      "text/plain": [
       "<Figure size 720x432 with 1 Axes>"
      ]
     },
     "metadata": {
      "needs_background": "light"
     },
     "output_type": "display_data"
    }
   ],
   "source": [
    "# 입력 age에 따라 구분값을 반환하는 함수 설정. DataFrame의 apply lambda식에 사용. \n",
    "def get_category(age):\n",
    "    cat = '' # 구분 카테고리를 담은 빈 str 생성\n",
    "    if age <= -1 : cat = 'Unknown'\n",
    "    elif age <= 5 : cat = 'Baby'\n",
    "    elif age <= 12 : cat = 'Child'\n",
    "    elif age <= 18 : cat = 'Teenager'\n",
    "    elif age <= 25 : cat = 'Student'\n",
    "    elif age <= 35 : cat = 'Young Adult'\n",
    "    elif age <= 60 : cat = 'Adult'\n",
    "    else : cat = 'Elderly'\n",
    "    \n",
    "    return cat\n",
    "# 함수 값 돌려주는 return 명시해주자\n",
    "\n",
    "# 막대그래프의 크기 figure를 더 크게 설정\n",
    "# import matplotlib.pyplot as plt\n",
    "plt.figure(figsize=(10,6))\n",
    "\n",
    "# X축의 값을 순차적으로 표시하기 위한 설정 \n",
    "group_names = ['Unknown', 'Baby', 'Child', 'Teenager', 'Student', 'Young Adult', 'Adult', 'Elderly']\n",
    "\n",
    "# lambda 식에 위에서 생성한 get_category( ) 함수를 반환값으로 지정. \n",
    "# DataFrame의 apply lambda식에 사용\n",
    "# get_category(X)는 입력값으로 'Age' 컬럼값을 받아서 해당하는 cat 반환\n",
    "titanic_df['Age_cat'] = titanic_df['Age'].apply(lambda x : get_category(x))\n",
    "sns.barplot(x='Age_cat', y = 'Survived', hue='Sex', data=titanic_df, order=group_names)\n",
    "# order = group_names을 통해 X축의 값을 순차적으로 표시해준다.\n",
    "titanic_df.drop('Age_cat', axis=1, inplace=True) # 그래프 그리려고 사용했던 칼럼이니까 사용 뒤 삭제해주는 것뿐"
   ]
  },
  {
   "cell_type": "markdown",
   "id": "a36bed0b-dd58-46f1-9a4f-c99e59092854",
   "metadata": {},
   "source": [
    "- 분석\n",
    "  - 여자 Baby의 경우 생존 확률이 높다. \n",
    "  - 여자 Child의 경우 다른 연령대에 비해 생존 확률이 낮다. \n",
    "  - 여자 Elderly의 경우 매우 높은 생존 확률을 보인다. \n",
    "\n",
    "---\n",
    ">  결론\n",
    "\n",
    "    Sex, Age, PClass 등이 생존을 좌우하는 feature임을 어느 정도 확인할 수 있었다. "
   ]
  },
  {
   "cell_type": "markdown",
   "id": "552ce205-e29d-47d5-a0af-912a82a32430",
   "metadata": {},
   "source": [
    "---"
   ]
  },
  {
   "cell_type": "markdown",
   "id": "07b2f31d-a3fd-4450-9315-249a7cca9f07",
   "metadata": {},
   "source": [
    "- 좀 전에 확인했던 문자열 카테고리 피처를 숫자형 카테고리 피처로 변환해보자\n",
    "  - LabelEncoder 클래스 활용"
   ]
  },
  {
   "cell_type": "code",
   "execution_count": 93,
   "id": "30748a15-4bb0-4783-9ac4-a67eb73a955c",
   "metadata": {},
   "outputs": [
    {
     "data": {
      "text/html": [
       "<div>\n",
       "<style scoped>\n",
       "    .dataframe tbody tr th:only-of-type {\n",
       "        vertical-align: middle;\n",
       "    }\n",
       "\n",
       "    .dataframe tbody tr th {\n",
       "        vertical-align: top;\n",
       "    }\n",
       "\n",
       "    .dataframe thead th {\n",
       "        text-align: right;\n",
       "    }\n",
       "</style>\n",
       "<table border=\"1\" class=\"dataframe\">\n",
       "  <thead>\n",
       "    <tr style=\"text-align: right;\">\n",
       "      <th></th>\n",
       "      <th>PassengerId</th>\n",
       "      <th>Survived</th>\n",
       "      <th>Pclass</th>\n",
       "      <th>Name</th>\n",
       "      <th>Sex</th>\n",
       "      <th>Age</th>\n",
       "      <th>SibSp</th>\n",
       "      <th>Parch</th>\n",
       "      <th>Ticket</th>\n",
       "      <th>Fare</th>\n",
       "      <th>Cabin</th>\n",
       "      <th>Embarked</th>\n",
       "      <th>strID</th>\n",
       "    </tr>\n",
       "  </thead>\n",
       "  <tbody>\n",
       "    <tr>\n",
       "      <th>0</th>\n",
       "      <td>1</td>\n",
       "      <td>0</td>\n",
       "      <td>3</td>\n",
       "      <td>Braund, Mr. Owen Harris</td>\n",
       "      <td>1</td>\n",
       "      <td>22.0</td>\n",
       "      <td>1</td>\n",
       "      <td>0</td>\n",
       "      <td>A/5 21171</td>\n",
       "      <td>7.2500</td>\n",
       "      <td>7</td>\n",
       "      <td>3</td>\n",
       "      <td>1</td>\n",
       "    </tr>\n",
       "    <tr>\n",
       "      <th>1</th>\n",
       "      <td>2</td>\n",
       "      <td>1</td>\n",
       "      <td>1</td>\n",
       "      <td>Cumings, Mrs. John Bradley (Florence Briggs Th...</td>\n",
       "      <td>0</td>\n",
       "      <td>38.0</td>\n",
       "      <td>1</td>\n",
       "      <td>0</td>\n",
       "      <td>PC 17599</td>\n",
       "      <td>71.2833</td>\n",
       "      <td>2</td>\n",
       "      <td>0</td>\n",
       "      <td>2</td>\n",
       "    </tr>\n",
       "    <tr>\n",
       "      <th>2</th>\n",
       "      <td>3</td>\n",
       "      <td>1</td>\n",
       "      <td>3</td>\n",
       "      <td>Heikkinen, Miss. Laina</td>\n",
       "      <td>0</td>\n",
       "      <td>26.0</td>\n",
       "      <td>0</td>\n",
       "      <td>0</td>\n",
       "      <td>STON/O2. 3101282</td>\n",
       "      <td>7.9250</td>\n",
       "      <td>7</td>\n",
       "      <td>3</td>\n",
       "      <td>3</td>\n",
       "    </tr>\n",
       "    <tr>\n",
       "      <th>3</th>\n",
       "      <td>4</td>\n",
       "      <td>1</td>\n",
       "      <td>1</td>\n",
       "      <td>Futrelle, Mrs. Jacques Heath (Lily May Peel)</td>\n",
       "      <td>0</td>\n",
       "      <td>35.0</td>\n",
       "      <td>1</td>\n",
       "      <td>0</td>\n",
       "      <td>113803</td>\n",
       "      <td>53.1000</td>\n",
       "      <td>2</td>\n",
       "      <td>3</td>\n",
       "      <td>4</td>\n",
       "    </tr>\n",
       "    <tr>\n",
       "      <th>4</th>\n",
       "      <td>5</td>\n",
       "      <td>0</td>\n",
       "      <td>3</td>\n",
       "      <td>Allen, Mr. William Henry</td>\n",
       "      <td>1</td>\n",
       "      <td>35.0</td>\n",
       "      <td>0</td>\n",
       "      <td>0</td>\n",
       "      <td>373450</td>\n",
       "      <td>8.0500</td>\n",
       "      <td>7</td>\n",
       "      <td>3</td>\n",
       "      <td>5</td>\n",
       "    </tr>\n",
       "  </tbody>\n",
       "</table>\n",
       "</div>"
      ],
      "text/plain": [
       "   PassengerId  Survived  Pclass  \\\n",
       "0            1         0       3   \n",
       "1            2         1       1   \n",
       "2            3         1       3   \n",
       "3            4         1       1   \n",
       "4            5         0       3   \n",
       "\n",
       "                                                Name  Sex   Age  SibSp  Parch  \\\n",
       "0                            Braund, Mr. Owen Harris    1  22.0      1      0   \n",
       "1  Cumings, Mrs. John Bradley (Florence Briggs Th...    0  38.0      1      0   \n",
       "2                             Heikkinen, Miss. Laina    0  26.0      0      0   \n",
       "3       Futrelle, Mrs. Jacques Heath (Lily May Peel)    0  35.0      1      0   \n",
       "4                           Allen, Mr. William Henry    1  35.0      0      0   \n",
       "\n",
       "             Ticket     Fare  Cabin  Embarked strID  \n",
       "0         A/5 21171   7.2500      7         3     1  \n",
       "1          PC 17599  71.2833      2         0     2  \n",
       "2  STON/O2. 3101282   7.9250      7         3     3  \n",
       "3            113803  53.1000      2         3     4  \n",
       "4            373450   8.0500      7         3     5  "
      ]
     },
     "execution_count": 93,
     "metadata": {},
     "output_type": "execute_result"
    }
   ],
   "source": [
    "from sklearn import preprocessing\n",
    "\n",
    "def encode_features(dataDF):\n",
    "    features = ['Cabin', 'Sex', 'Embarked']\n",
    "    for feature in features:\n",
    "        le = preprocessing.LabelEncoder() # preprocessing.Labelencoder 객체 생성 le에 저장\n",
    "        le = le.fit(dataDF[feature]) \n",
    "        # 데이터 변환을 위한 기준 정보 설정\n",
    "        # 기존에 있던 titanic_df의 칼럼들 중 Cabin,Sex, Embarked칼럼의 data를 변경해주는 것\n",
    "        # 없던 칼럼을 만들어서 data를 저장하는 게 아니라 기존에 있던 칼럼의 data를 label로 변경해주는 것\n",
    "        dataDF[feature] = le.transform(dataDF[feature]) # 설정된 기준 정보를 이용하여 데이터 변환\n",
    "        # 이 값들을 해당 feature에 넣어줄 것임.\n",
    "    return dataDF\n",
    "\n",
    "titanic_df = encode_features(titanic_df)\n",
    "titanic_df.head()"
   ]
  },
  {
   "cell_type": "markdown",
   "id": "ac5f084d-7032-40ca-afd0-31b765a45373",
   "metadata": {},
   "source": [
    "- for문에서 features를 지정해준 속성들이 숫자형으로 바뀐 것을 알 수 있다. "
   ]
  },
  {
   "cell_type": "markdown",
   "id": "d9865c14-d423-410c-9aae-abccf679174c",
   "metadata": {},
   "source": [
    "---"
   ]
  },
  {
   "cell_type": "markdown",
   "id": "f74d1ecf-fbff-49f8-8231-18606deaa9c9",
   "metadata": {},
   "source": [
    "- 지금까지 수행한 전처리\n",
    "  - 1) Null 처리\n",
    "    - pandas의 DataFrame method 중 fillna를 이용해서 수로 이루어진 칼럼은 그 칼럼의 평균으로 대체 해주었고\n",
    "    - 그렇지 않은 문자열로 이루어진 칼럼은 동일하게 문자(예를 들면, 'N')로 변경해주었음\n",
    "      - 해당 문자열은 LabelEncoder로 수로 변경해주었음 -> 과정 3\n",
    "  - 2) 머신러닝 알고리즘에 불필요한 속성 제거\n",
    "    - 이름이나 티겟번호나 고유ID는 분석할 목적에 영향이 없다고 판단 되므로 즉, 머신러닝 알고리즘에 불필요한 속성이므로 제거하는 칼럼이다.\n",
    "  - 3) 레이블 인코딩\n",
    "    - 문자열은 분석 가능하도록 숫자형태로 변경할 수 있는 Label로 변경해준다. \n",
    "    - 이때 pd.dummies 함수를 이용할 수도 있겠다.\n",
    "  - 그리고 1)~3)을 호출해줄 함수 설정"
   ]
  },
  {
   "cell_type": "code",
   "execution_count": 94,
   "id": "68c3d8c9-8aef-47d9-b1dc-6299acc00f44",
   "metadata": {},
   "outputs": [],
   "source": [
    "from sklearn.preprocessing import LabelEncoder\n",
    "\n",
    "# Null 처리 함수\n",
    "def fillna(df):\n",
    "    df['Age'].fillna(df['Age'].mean(),inplace=True)\n",
    "    # inplace = True는 바로 해당열의 변경사항을 저장하게 해줌.\n",
    "    df['Cabin'].fillna('N',inplace=True) # 애초에 문자열이었기 때문에 그냥 'N'으로 채워주는 것\n",
    "    df['Embarked'].fillna('N',inplace=True) # # 애초에 문자열이었기 때문에 그냥 'N'으로 채워주는 것\n",
    "    df['Fare'].fillna(0,inplace=True)\n",
    "    return df\n",
    "    # 이렇게 return 값을 설정해주어야 함수의 결과값을 특정 값에 저장시킬 수 있다.고 배움, 정확하진 않음\n",
    "\n",
    "# 머신러닝 알고리즘에 불필요한 속성 제거\n",
    "def drop_features(df):\n",
    "    df.drop(['PassengerId','Name','Ticket'],axis=1,inplace=True)\n",
    "    return df\n",
    "\n",
    "# 레이블 인코딩 수행. \n",
    "def format_features(df):\n",
    "    df['Cabin'] = df['Cabin'].str[:1]\n",
    "    features = ['Cabin','Sex','Embarked']\n",
    "    for feature in features:\n",
    "        # from sklearn.preprocessing import LabelEncoder\n",
    "        le = LabelEncoder() # 객체 생성\n",
    "        le = le.fit(df[feature]) # 기준 설정\n",
    "        df[feature] = le.transform(df[feature]) # 변경 시작\n",
    "    return df\n",
    "\n",
    "######### 위 세 함수 모두 마지막에 return df를 입력해주었는데\n",
    "######### 그렇게 함으로써 아래에서 df=df, df=df, df=df 를 통해 df를 함수를 이용한 결과로 업데이트 해줄 수 있다. \n",
    "\n",
    "\n",
    "\n",
    "# 앞에서 설정한 Data Preprocessing 함수 호출\n",
    "def transform_features(df):\n",
    "    df = fillna(df)\n",
    "    df = drop_features(df)\n",
    "    df = format_features(df)\n",
    "    return df"
   ]
  },
  {
   "cell_type": "markdown",
   "id": "14d37c91-20ab-4e04-997a-eb82709a01b1",
   "metadata": {},
   "source": [
    "- 이제 데이터 전처리 수행하는 함수인 `transfrom_features`를 만든 것이다.\n",
    "  - 이를 이용해 원본 데이터를 한 번 가공해보자"
   ]
  },
  {
   "cell_type": "code",
   "execution_count": 95,
   "id": "2ad45ca4-8320-4cf6-8519-a3844b7a2ba2",
   "metadata": {},
   "outputs": [],
   "source": [
    "# 원본 데이터를 재로딩 하고, feature데이터 셋과 Label 데이터 셋 추출. \n",
    "titanic_df = pd.read_csv('train.csv')\n",
    "\n",
    "y_titanic_df = titanic_df['Survived']  # label데이터 셋\n",
    "X_titanic_df= titanic_df.drop('Survived',axis=1) # feature 데이터 셋\n",
    "\n",
    "# label과 feature를 분리해주는 이유는 후에 트레이닝용 데이터 셋과 테스트용 데이터 셋을 특정 비율로 분리해주는 함수를 사용해야 하기 때문이다.\n",
    "\n",
    "X_titanic_df = transform_features(X_titanic_df)"
   ]
  },
  {
   "cell_type": "markdown",
   "id": "681eb972-3e0d-4e6f-ac3b-ad63f8eb233a",
   "metadata": {},
   "source": [
    "- 테스트 데이터 추출"
   ]
  },
  {
   "cell_type": "code",
   "execution_count": 96,
   "id": "05df0513-0654-4463-84d4-aa41580c30c4",
   "metadata": {},
   "outputs": [],
   "source": [
    "from sklearn.model_selection import train_test_split\n",
    "X_train, X_test, y_train, y_test=train_test_split(X_titanic_df, y_titanic_df, \\\n",
    "                                                  test_size=0.2, random_state=11)"
   ]
  },
  {
   "cell_type": "markdown",
   "id": "090e1fc6-0112-4df7-9f55-25aa7cb72e5d",
   "metadata": {},
   "source": [
    "- ML 알고리즘인 결정 트리, 랜덤 포레스트, 로지스틱 회귀를 이용해 생존자 예측을 수행해보자\n",
    "  - 예측 성능 평가는 accuracy, 정확도로 한다. "
   ]
  },
  {
   "cell_type": "code",
   "execution_count": 97,
   "id": "12f058b6-536f-4893-892a-c4968a36d9bc",
   "metadata": {},
   "outputs": [
    {
     "name": "stdout",
     "output_type": "stream",
     "text": [
      "DecisionTreeClassifier 정확도: 0.7877\n",
      "RandomForestClassifier 정확도:0.8547\n"
     ]
    }
   ],
   "source": [
    "from sklearn.tree import DecisionTreeClassifier\n",
    "from sklearn.ensemble import RandomForestClassifier\n",
    "from sklearn.linear_model import LogisticRegression\n",
    "from sklearn.metrics import accuracy_score #  예측 성능 평가\n",
    "\n",
    "\n",
    "# 결정트리, Random Forest, 로지스틱 회귀를 위한 사이킷런 Classifier 클래스 생성\n",
    "dt_clf = DecisionTreeClassifier(random_state=11) # 객체 생성\n",
    "rf_clf = RandomForestClassifier(random_state=11) # 객체 생성\n",
    "lr_clf = LogisticRegression() # 객체 생성 , 회귀이기 때문에 random_state 설정해줄 필요 없다. \n",
    "\n",
    "# DecisionTreeClassifier 학습/예측/평가\n",
    "dt_clf.fit(X_train , y_train)\n",
    "dt_pred = dt_clf.predict(X_test)\n",
    "print('DecisionTreeClassifier 정확도: {0:.4f}'.format(accuracy_score(y_test, dt_pred)))\n",
    "\n",
    "# RandomForestClassifier 학습/예측/평가\n",
    "rf_clf.fit(X_train , y_train)\n",
    "rf_pred = rf_clf.predict(X_test)\n",
    "print('RandomForestClassifier 정확도:{0:.4f}'.format(accuracy_score(y_test, rf_pred)))\n",
    "\n",
    "# error 발생 부분\n",
    "# LogisticRegression 학습/예측/평가\n",
    "# lr_clf.fit(X_train , y_train)\n",
    "# lr_pred = lr_clf.predict(X_test)\n",
    "# print('LogisticRegression 정확도: {0:.4f}'.format(accuracy_score(y_test, lr_pred)))"
   ]
  },
  {
   "cell_type": "markdown",
   "id": "c45002b3-4f94-4b99-b8a4-64ee831b9cc4",
   "metadata": {},
   "source": [
    "> 결론 : 3개의 ML 모델 中 LogisticRegression 정확도가 가장 높음"
   ]
  },
  {
   "cell_type": "markdown",
   "id": "8c2a6b7e-09df-48c9-a4b4-58d5ef4e2641",
   "metadata": {},
   "source": [
    "---"
   ]
  },
  {
   "cell_type": "markdown",
   "id": "9b88c9b3-5369-4226-bdaa-46fc53e98b93",
   "metadata": {},
   "source": [
    "- 마지막 줄은  'str' object has no attribute 'decode'라는 ERROR 발생\n",
    "  - [해결책 출처](https://www.inflearn.com/questions/126731)\n",
    "  - sol 1) !pip install h5py==2.10.0\n",
    "  - sol 2) !pip install h5py==2.10.0 --force-reinstall (Anaconda prompt 관리자 권한 실행)\n",
    "  - sol 3) markdown==3.2.2 설치\n",
    "  - 모두 해결 안 된다면, 내부 패키지가 꼬였을 확률 높음\n",
    "    - Google Colab으로 해결하면 된다."
   ]
  },
  {
   "cell_type": "markdown",
   "id": "f4fd05f8-e407-40b0-8811-f5aee2d33192",
   "metadata": {},
   "source": [
    "---"
   ]
  },
  {
   "cell_type": "markdown",
   "id": "4f1203d0-200a-45d2-8231-6c5697ff604f",
   "metadata": {},
   "source": [
    "# ******추가 학습******\n",
    "### enumerate\n",
    "- 순서가 있는 자료형(list, set, tuple, dictionary, string)을 입력으로 받아 `인덱스 값`을 포함하는 enumerate 객체를 리턴\n",
    "  - set 사용시 key값만 print되므로 key에 해당하는 값까지 print 원할 시 수정 필요\n",
    "  - enumerate는 반환되는 값의 특성상 for문과 함께 사용시 적절\n",
    "  - 아래는 간단한 사용 예"
   ]
  },
  {
   "cell_type": "code",
   "execution_count": 98,
   "id": "3519fb81-6849-43fa-b236-ca6ee2e20abb",
   "metadata": {},
   "outputs": [
    {
     "name": "stdout",
     "output_type": "stream",
     "text": [
      "<enumerate object at 0x0000018E29FD3E00>\n",
      "<class 'enumerate'>\n"
     ]
    }
   ],
   "source": [
    "data = enumerate((1, 2, 3))\n",
    "print(data)\n",
    "print(type(data))"
   ]
  },
  {
   "cell_type": "code",
   "execution_count": 99,
   "id": "ba85307d-a1f4-4406-bb1d-37e66de73559",
   "metadata": {},
   "outputs": [
    {
     "name": "stdout",
     "output_type": "stream",
     "text": [
      "0 : 1\n",
      "1 : 2\n",
      "2 : 3\n"
     ]
    }
   ],
   "source": [
    "# set 사용\n",
    "data = enumerate({1, 2, 3})\n",
    "for i, value in data:\n",
    "    print(i, \":\", value)\n",
    "\n",
    "# 당연히 i와 value는 다른 값으로 대체 가능"
   ]
  },
  {
   "cell_type": "markdown",
   "id": "189251c4-3579-4674-879b-f4d12720c3e4",
   "metadata": {},
   "source": [
    "---"
   ]
  },
  {
   "cell_type": "markdown",
   "id": "58b6ce2f-b789-4d3b-b745-47568bc5bd44",
   "metadata": {},
   "source": [
    "- 여기서는 KFold를 사용"
   ]
  },
  {
   "cell_type": "code",
   "execution_count": 109,
   "id": "6fbc4262-f67d-4870-ac44-2d15cbcde2f8",
   "metadata": {},
   "outputs": [
    {
     "name": "stdout",
     "output_type": "stream",
     "text": [
      "교차 검증 0 정확도: 0.7542\n",
      "교차 검증 1 정확도: 0.7809\n",
      "교차 검증 2 정확도: 0.7865\n",
      "교차 검증 3 정확도: 0.7697\n",
      "교차 검증 4 정확도: 0.8202\n",
      "평균 정확도: 0.7823\n"
     ]
    }
   ],
   "source": [
    "# 사이킷런의 KFold 클래스를 이용해 교차 검증을 수행하며, 폴드 개수는 5개로 설정한다.\n",
    "from sklearn.model_selection import KFold\n",
    "\n",
    "def exec_kfold(clf, folds=5):\n",
    "    # clf 자리는 모델 인자가 들어갈 자리임\n",
    "    \n",
    "    # 폴드 세트를 5개인 KFold객체를 생성, 폴드 수만큼 예측결과 저장을 위한  리스트 객체 생성.\n",
    "    kfold = KFold(n_splits=folds) # KFold 객체 생성 \n",
    "    scores = [] # 예측결과 저장을 위한 list 객체 생성\n",
    "    \n",
    "    # KFold 교차 검증 수행. \n",
    "    for iter_count , (train_index, test_index) in enumerate(kfold.split(X_titanic_df)):\n",
    "        \n",
    "        # X_titanic_df 데이터에서 교차 검증별로 학습과 검증 데이터를 가리키는 index 생성\n",
    "        X_train, X_test = X_titanic_df.values[train_index], X_titanic_df.values[test_index]\n",
    "        y_train, y_test = y_titanic_df.values[train_index], y_titanic_df.values[test_index]\n",
    "        \n",
    "        # Classifier 학습, 예측, 정확도 계산 \n",
    "        clf.fit(X_train, y_train) \n",
    "        predictions = clf.predict(X_test)\n",
    "        accuracy = accuracy_score(y_test, predictions)\n",
    "        scores.append(accuracy)\n",
    "        # list에서 원소 추가해주는 함수 append\n",
    "        print(\"교차 검증 {0} 정확도: {1:.4f}\".format(iter_count, accuracy))     \n",
    "    \n",
    "    # 5개 fold에서의 평균 정확도 계산. \n",
    "    mean_score = np.mean(scores)\n",
    "    print(\"평균 정확도: {0:.4f}\".format(mean_score)) \n",
    "# exec_kfold 호출\n",
    "exec_kfold(dt_clf , folds=5) \n",
    "# 모델로 DecisionTreeClassifier 사용하였음"
   ]
  },
  {
   "cell_type": "code",
   "execution_count": 115,
   "id": "c45adba5-5cae-49ea-8ef1-acc0cbf2e623",
   "metadata": {},
   "outputs": [
    {
     "data": {
      "text/plain": [
       "<enumerate at 0x18e2a634600>"
      ]
     },
     "execution_count": 115,
     "metadata": {},
     "output_type": "execute_result"
    }
   ],
   "source": [
    "kfold = KFold(n_splits=5)\n",
    "enumerate(kfold.split(X_titanic_df))\n",
    "# 이렇게 객체를 반환\n",
    "# for문에서 사용시 index와 그에 해당하는 값을 반환해줌\n",
    "# enumerate(kfold.split(X_titanic_df))\n",
    "# 이것만 출력시 kfold 없다고 나옴\n",
    "# kfold = KFold(n_splits=5)\n",
    "# 이게 함수 안에서 지역변수로만 설정돼서 밖에 나오면 설정 안 되있어서 그런 것"
   ]
  },
  {
   "cell_type": "markdown",
   "id": "595a2baf-39a3-4b7a-a1b5-52c0974068b4",
   "metadata": {},
   "source": [
    "- 교차 검증을 cross_val_score() API를 이용해 수행해보자"
   ]
  },
  {
   "cell_type": "code",
   "execution_count": 111,
   "id": "5e8be268-ce03-4c6e-891c-f2b185f3c82c",
   "metadata": {},
   "outputs": [
    {
     "name": "stdout",
     "output_type": "stream",
     "text": [
      "교차 검증 0 정확도: 0.7430\n",
      "교차 검증 1 정확도: 0.7753\n",
      "교차 검증 2 정확도: 0.7921\n",
      "교차 검증 3 정확도: 0.7865\n",
      "교차 검증 4 정확도: 0.8427\n",
      "평균 정확도: 0.7879\n"
     ]
    }
   ],
   "source": [
    "from sklearn.model_selection import cross_val_score\n",
    "\n",
    "scores = cross_val_score(dt_clf, X_titanic_df , y_titanic_df , cv=5)\n",
    "# cross_val_score는 인자로서 알고리즘 모델이 들어감 (= dt_clf)\n",
    "\n",
    "for iter_count,accuracy in enumerate(scores):\n",
    "    print(\"교차 검증 {0} 정확도: {1:.4f}\".format(iter_count, accuracy))\n",
    "\n",
    "print(\"평균 정확도: {0:.4f}\".format(np.mean(scores)))"
   ]
  },
  {
   "cell_type": "markdown",
   "id": "b0f64031-4041-4b00-abb2-81535885b142",
   "metadata": {},
   "source": [
    "- K폴드의 평균 정확도가 약간 상이한데, 이는 cross_val_score()가 stratifiedKFold를 이용해 폴드세트를 분할하기 때문이다."
   ]
  },
  {
   "cell_type": "markdown",
   "id": "6b69e888-fb5d-4def-9004-21aa30a17dcf",
   "metadata": {},
   "source": [
    "- GridSearchCV를 이용해 최적 하이퍼 파라미터를 찾고 예측 성능을 측정하자"
   ]
  },
  {
   "cell_type": "code",
   "execution_count": 34,
   "id": "4fdddc29-ed9d-4dc5-9246-6260bf7c2db4",
   "metadata": {},
   "outputs": [
    {
     "name": "stdout",
     "output_type": "stream",
     "text": [
      "GridSearchCV 최적 하이퍼 파라미터 : {'max_depth': 3, 'min_samples_leaf': 5, 'min_samples_split': 2}\n",
      "GridSearchCV 최고 정확도: 0.7992\n",
      "테스트 세트에서의 DecisionTreeClassifier 정확도 : 0.8715\n"
     ]
    }
   ],
   "source": [
    "from sklearn.model_selection import GridSearchCV\n",
    "\n",
    "parameters = {'max_depth':[2,3,5,10],\n",
    "             'min_samples_split':[2,3,5], 'min_samples_leaf':[1,5,8]}\n",
    "\n",
    "grid_dclf = GridSearchCV(dt_clf , param_grid=parameters , scoring='accuracy' , cv=5)\n",
    "# cross_val_score 마냥 인자로서 dt_clf가 들어갔음\n",
    "grid_dclf.fit(X_train , y_train)\n",
    "\n",
    "print('GridSearchCV 최적 하이퍼 파라미터 :',grid_dclf.best_params_)\n",
    "print('GridSearchCV 최고 정확도: {0:.4f}'.format(grid_dclf.best_score_))\n",
    "\n",
    "# 최적 하이퍼 파라미터로 학습된 estimator를 이용해,\\\n",
    "# 위의 train_test_split으로 분리된 테스트 데이터 세트에 예측을 수행해 정확도 출력\n",
    "best_dclf = grid_dclf.best_estimator_\n",
    "# GridSearchCV의 최적 하이퍼 파라미터로 학습된 Estimator로 예측 및 평가 수행. \n",
    "dpredictions = best_dclf.predict(X_test) # 예측\n",
    "accuracy = accuracy_score(y_test , dpredictions) # 평가\n",
    "print('테스트 세트에서의 DecisionTreeClassifier 정확도 : {0:.4f}'.format(accuracy))"
   ]
  },
  {
   "cell_type": "markdown",
   "id": "e154f013-e084-405a-a2a7-28050697f261",
   "metadata": {},
   "source": [
    "- 일반적으로 하이퍼 파라미터를 튜닝하더라도 이 정도 수준으로 증가하기는 매우 어렵다.\n",
    "- 테스트용 데이터 세트가 작기 때문에 수치상으로 예측 성능이 많이 증가한 것처럼 보인다."
   ]
  },
  {
   "cell_type": "markdown",
   "id": "bdc2eef8-bc95-41de-8223-609b9a1a624e",
   "metadata": {},
   "source": [
    "***`테스트 데이터의 건수 부족이나 고정된 테스트 데이터 세트를 이용한 반복적인 모델의 학습과 평가는 해당 테스트 데이터 세트에만 치우친 빈약한 머신러닝 모델을 만들 가능성이 높다.`***\n",
    "  - 이를 해결하기 위해\n",
    "    - 학습 데이터 세트를 학습 데이터와 검증 데이터로 구성된 여러 개의 폴드 세트로 분리해 교차 검증을 수행할 수 있다.\n",
    "    - KFold, StratifiedKFold, cross_val_score, GridSearchCV"
   ]
  }
 ],
 "metadata": {
  "kernelspec": {
   "display_name": "Python 3 (ipykernel)",
   "language": "python",
   "name": "python3"
  },
  "language_info": {
   "codemirror_mode": {
    "name": "ipython",
    "version": 3
   },
   "file_extension": ".py",
   "mimetype": "text/x-python",
   "name": "python",
   "nbconvert_exporter": "python",
   "pygments_lexer": "ipython3",
   "version": "3.8.11"
  }
 },
 "nbformat": 4,
 "nbformat_minor": 5
}
